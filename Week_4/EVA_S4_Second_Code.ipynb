{
  "nbformat": 4,
  "nbformat_minor": 0,
  "metadata": {
    "colab": {
      "name": "EVA_S4_Second_Code.ipynb",
      "version": "0.3.2",
      "provenance": []
    },
    "kernelspec": {
      "name": "python3",
      "display_name": "Python 3"
    },
    "accelerator": "GPU"
  },
  "cells": [
    {
      "cell_type": "markdown",
      "metadata": {
        "id": "IxnRbGs9Jrwx",
        "colab_type": "text"
      },
      "source": [
        "# Functionality of the Code\n",
        "In this code, there is addition of Batch Normalization and Introduction of Variations in the number of Parameters.\n",
        "So the three changes from the vanilla code are:\n",
        "1. Addition of Batch Normalization\n",
        "2. Changes in the number of channels \n",
        "3. Changes in the batch size"
      ]
    },
    {
      "cell_type": "markdown",
      "metadata": {
        "id": "KwBoom07NDhm",
        "colab_type": "text"
      },
      "source": [
        "# Importing the required libraries and required modules\n",
        "\n",
        "This is the vanilla coda that is executed without any additional layers other than Convolution"
      ]
    },
    {
      "cell_type": "code",
      "metadata": {
        "id": "EmV3T8RMHe4f",
        "colab_type": "code",
        "outputId": "86ebe280-c688-4560-a2b7-dd7242da4b69",
        "colab": {
          "base_uri": "https://localhost:8080/",
          "height": 34
        }
      },
      "source": [
        "!pip install -q keras\n",
        "import keras"
      ],
      "execution_count": 0,
      "outputs": [
        {
          "output_type": "stream",
          "text": [
            "Using TensorFlow backend.\n"
          ],
          "name": "stderr"
        }
      ]
    },
    {
      "cell_type": "code",
      "metadata": {
        "id": "EtFRE2HcIK3W",
        "colab_type": "code",
        "colab": {}
      },
      "source": [
        "import numpy as np\n",
        "\n",
        "from keras.models import Sequential\n",
        "from keras.layers import Activation, Flatten, Add, BatchNormalization, Convolution2D, MaxPooling2D\n",
        "from keras.utils import np_utils\n",
        "\n",
        "from keras.datasets import mnist\n",
        "\n",
        "import cv2\n",
        "\n",
        "import numpy as np\n",
        "import matplotlib.pyplot as plt"
      ],
      "execution_count": 0,
      "outputs": []
    },
    {
      "cell_type": "markdown",
      "metadata": {
        "id": "fmgElg1IN0at",
        "colab_type": "text"
      },
      "source": [
        "### Loading the MNIST Dataset"
      ]
    },
    {
      "cell_type": "code",
      "metadata": {
        "id": "fYB6naGTMd3h",
        "colab_type": "code",
        "colab": {}
      },
      "source": [
        "(x_train, y_train), (x_test, y_test) = mnist.load_data()"
      ],
      "execution_count": 0,
      "outputs": []
    },
    {
      "cell_type": "code",
      "metadata": {
        "id": "KSpJysQBOEsc",
        "colab_type": "code",
        "outputId": "4d434751-9f30-4b76-a2bd-055b5b08f41c",
        "colab": {
          "base_uri": "https://localhost:8080/",
          "height": 286
        }
      },
      "source": [
        "plt.imshow(x_train[0])"
      ],
      "execution_count": 0,
      "outputs": [
        {
          "output_type": "execute_result",
          "data": {
            "text/plain": [
              "<matplotlib.image.AxesImage at 0x7f81bc5266d8>"
            ]
          },
          "metadata": {
            "tags": []
          },
          "execution_count": 4
        },
        {
          "output_type": "display_data",
          "data": {
            "image/png": "[encoded data removed]",
            "text/plain": [
              "<Figure size 432x288 with 1 Axes>"
            ]
          },
          "metadata": {
            "tags": []
          }
        }
      ]
    },
    {
      "cell_type": "code",
      "metadata": {
        "id": "KLqYK-gPO3lO",
        "colab_type": "code",
        "colab": {}
      },
      "source": [
        "xtrain = x_train.reshape(x_train.shape[0], 28, 28,1)\n",
        "xtest = x_test.reshape(x_test.shape[0], 28, 28,1)"
      ],
      "execution_count": 0,
      "outputs": []
    },
    {
      "cell_type": "code",
      "metadata": {
        "id": "tt_IjXh_O6lA",
        "colab_type": "code",
        "colab": {}
      },
      "source": [
        "xtrain = xtrain.astype('float32')\n",
        "xtest = xtest.astype('float32')"
      ],
      "execution_count": 0,
      "outputs": []
    },
    {
      "cell_type": "code",
      "metadata": {
        "id": "Kn3t-p2HPDiV",
        "colab_type": "code",
        "colab": {}
      },
      "source": [
        "xtrain /= 255.0\n",
        "xtest /= 255.0"
      ],
      "execution_count": 0,
      "outputs": []
    },
    {
      "cell_type": "code",
      "metadata": {
        "id": "kdlbHUtbPPCx",
        "colab_type": "code",
        "colab": {}
      },
      "source": [
        "ytrain = np_utils.to_categorical(y_train, 10)\n",
        "ytest = np_utils.to_categorical(y_test, 10)"
      ],
      "execution_count": 0,
      "outputs": []
    },
    {
      "cell_type": "code",
      "metadata": {
        "id": "qta0SDv7Xjbg",
        "colab_type": "code",
        "outputId": "b30eb81a-0fc6-40de-db71-60c5936356b3",
        "colab": {
          "base_uri": "https://localhost:8080/",
          "height": 238
        }
      },
      "source": [
        "from keras.layers import Activation\n",
        "model = Sequential()\n",
        "\n",
        "model.add(Convolution2D(16, 3, 3, input_shape=(28,28,1)))\n",
        "model.add(BatchNormalization())\n",
        "model.add(Activation('relu'))\n",
        "\n",
        "model.add(Convolution2D(16, 1, 1))\n",
        "model.add(BatchNormalization())\n",
        "model.add(Activation('relu'))\n",
        "\n",
        "model.add(MaxPooling2D(pool_size=(2,2)))\n",
        "\n",
        "model.add(Convolution2D(32, 3, 3))\n",
        "model.add(BatchNormalization())\n",
        "model.add(Activation('relu'))\n",
        "\n",
        "model.add(Convolution2D(16, 1, 1))\n",
        "model.add(BatchNormalization())\n",
        "model.add(Activation('relu'))\n",
        "\n",
        "model.add(MaxPooling2D(pool_size=(2,2)))\n",
        "\n",
        "model.add(Convolution2D(32, 3, 3))\n",
        "model.add(BatchNormalization())\n",
        "model.add(Activation('relu'))\n",
        "\n",
        "model.add(Convolution2D(16, 3, 3))\n",
        "model.add(BatchNormalization())\n",
        "model.add(Activation('relu'))\n",
        "\n",
        "model.add(Convolution2D(10, 1, 1))\n",
        "model.add(BatchNormalization())\n",
        "model.add(Activation('relu'))\n",
        "\n",
        "model.add(Flatten())\n",
        "model.add(Activation('softmax'))"
      ],
      "execution_count": 0,
      "outputs": [
        {
          "output_type": "stream",
          "text": [
            "WARNING:tensorflow:From /usr/local/lib/python3.6/dist-packages/tensorflow/python/framework/op_def_library.py:263: colocate_with (from tensorflow.python.framework.ops) is deprecated and will be removed in a future version.\n",
            "Instructions for updating:\n",
            "Colocations handled automatically by placer.\n"
          ],
          "name": "stdout"
        },
        {
          "output_type": "stream",
          "text": [
            "/usr/local/lib/python3.6/dist-packages/ipykernel_launcher.py:4: UserWarning: Update your `Conv2D` call to the Keras 2 API: `Conv2D(16, (3, 3), input_shape=(28, 28, 1...)`\n",
            "  after removing the cwd from sys.path.\n",
            "/usr/local/lib/python3.6/dist-packages/ipykernel_launcher.py:8: UserWarning: Update your `Conv2D` call to the Keras 2 API: `Conv2D(16, (1, 1))`\n",
            "  \n",
            "/usr/local/lib/python3.6/dist-packages/ipykernel_launcher.py:14: UserWarning: Update your `Conv2D` call to the Keras 2 API: `Conv2D(32, (3, 3))`\n",
            "  \n",
            "/usr/local/lib/python3.6/dist-packages/ipykernel_launcher.py:18: UserWarning: Update your `Conv2D` call to the Keras 2 API: `Conv2D(16, (1, 1))`\n",
            "/usr/local/lib/python3.6/dist-packages/ipykernel_launcher.py:24: UserWarning: Update your `Conv2D` call to the Keras 2 API: `Conv2D(32, (3, 3))`\n",
            "/usr/local/lib/python3.6/dist-packages/ipykernel_launcher.py:28: UserWarning: Update your `Conv2D` call to the Keras 2 API: `Conv2D(16, (3, 3))`\n",
            "/usr/local/lib/python3.6/dist-packages/ipykernel_launcher.py:32: UserWarning: Update your `Conv2D` call to the Keras 2 API: `Conv2D(10, (1, 1))`\n"
          ],
          "name": "stderr"
        }
      ]
    },
    {
      "cell_type": "code",
      "metadata": {
        "id": "Hm0M_k0jYZTg",
        "colab_type": "code",
        "outputId": "92c16a7e-092c-443a-fecb-708272717507",
        "colab": {
          "base_uri": "https://localhost:8080/",
          "height": 986
        }
      },
      "source": [
        "model.summary()"
      ],
      "execution_count": 0,
      "outputs": [
        {
          "output_type": "stream",
          "text": [
            "_________________________________________________________________\n",
            "Layer (type)                 Output Shape              Param #   \n",
            "=================================================================\n",
            "conv2d_1 (Conv2D)            (None, 26, 26, 16)        160       \n",
            "_________________________________________________________________\n",
            "batch_normalization_1 (Batch (None, 26, 26, 16)        64        \n",
            "_________________________________________________________________\n",
            "activation_1 (Activation)    (None, 26, 26, 16)        0         \n",
            "_________________________________________________________________\n",
            "conv2d_2 (Conv2D)            (None, 26, 26, 16)        272       \n",
            "_________________________________________________________________\n",
            "batch_normalization_2 (Batch (None, 26, 26, 16)        64        \n",
            "_________________________________________________________________\n",
            "activation_2 (Activation)    (None, 26, 26, 16)        0         \n",
            "_________________________________________________________________\n",
            "max_pooling2d_1 (MaxPooling2 (None, 13, 13, 16)        0         \n",
            "_________________________________________________________________\n",
            "conv2d_3 (Conv2D)            (None, 11, 11, 32)        4640      \n",
            "_________________________________________________________________\n",
            "batch_normalization_3 (Batch (None, 11, 11, 32)        128       \n",
            "_________________________________________________________________\n",
            "activation_3 (Activation)    (None, 11, 11, 32)        0         \n",
            "_________________________________________________________________\n",
            "conv2d_4 (Conv2D)            (None, 11, 11, 16)        528       \n",
            "_________________________________________________________________\n",
            "batch_normalization_4 (Batch (None, 11, 11, 16)        64        \n",
            "_________________________________________________________________\n",
            "activation_4 (Activation)    (None, 11, 11, 16)        0         \n",
            "_________________________________________________________________\n",
            "max_pooling2d_2 (MaxPooling2 (None, 5, 5, 16)          0         \n",
            "_________________________________________________________________\n",
            "conv2d_5 (Conv2D)            (None, 3, 3, 32)          4640      \n",
            "_________________________________________________________________\n",
            "batch_normalization_5 (Batch (None, 3, 3, 32)          128       \n",
            "_________________________________________________________________\n",
            "activation_5 (Activation)    (None, 3, 3, 32)          0         \n",
            "_________________________________________________________________\n",
            "conv2d_6 (Conv2D)            (None, 1, 1, 16)          4624      \n",
            "_________________________________________________________________\n",
            "batch_normalization_6 (Batch (None, 1, 1, 16)          64        \n",
            "_________________________________________________________________\n",
            "activation_6 (Activation)    (None, 1, 1, 16)          0         \n",
            "_________________________________________________________________\n",
            "conv2d_7 (Conv2D)            (None, 1, 1, 10)          170       \n",
            "_________________________________________________________________\n",
            "batch_normalization_7 (Batch (None, 1, 1, 10)          40        \n",
            "_________________________________________________________________\n",
            "activation_7 (Activation)    (None, 1, 1, 10)          0         \n",
            "_________________________________________________________________\n",
            "flatten_1 (Flatten)          (None, 10)                0         \n",
            "_________________________________________________________________\n",
            "activation_8 (Activation)    (None, 10)                0         \n",
            "=================================================================\n",
            "Total params: 15,586\n",
            "Trainable params: 15,310\n",
            "Non-trainable params: 276\n",
            "_________________________________________________________________\n"
          ],
          "name": "stdout"
        }
      ]
    },
    {
      "cell_type": "code",
      "metadata": {
        "id": "CGDMWxN0YaaL",
        "colab_type": "code",
        "colab": {}
      },
      "source": [
        "model.compile(loss='categorical_crossentropy',\n",
        "             optimizer='adam',\n",
        "             metrics=['accuracy'])"
      ],
      "execution_count": 0,
      "outputs": []
    },
    {
      "cell_type": "code",
      "metadata": {
        "id": "4KjFzNj8ZII9",
        "colab_type": "code",
        "outputId": "620e1d0b-cf9c-46a8-a4eb-9412b7e0e421",
        "colab": {
          "base_uri": "https://localhost:8080/",
          "height": 1156
        }
      },
      "source": [
        "model.fit(xtrain, ytrain, batch_size=128, nb_epoch=10, verbose=1, validation_data=(xtest, ytest))"
      ],
      "execution_count": 0,
      "outputs": [
        {
          "output_type": "stream",
          "text": [
            "WARNING:tensorflow:From /usr/local/lib/python3.6/dist-packages/tensorflow/python/ops/math_ops.py:3066: to_int32 (from tensorflow.python.ops.math_ops) is deprecated and will be removed in a future version.\n",
            "Instructions for updating:\n",
            "Use tf.cast instead.\n"
          ],
          "name": "stdout"
        },
        {
          "output_type": "stream",
          "text": [
            "/usr/local/lib/python3.6/dist-packages/ipykernel_launcher.py:1: UserWarning: The `nb_epoch` argument in `fit` has been renamed `epochs`.\n",
            "  \"\"\"Entry point for launching an IPython kernel.\n"
          ],
          "name": "stderr"
        },
        {
          "output_type": "stream",
          "text": [
            "Train on 60000 samples, validate on 10000 samples\n",
            "Epoch 1/30\n",
            "60000/60000 [==============================] - 16s 261us/step - loss: 0.5463 - acc: 0.9244 - val_loss: 0.2559 - val_acc: 0.9796\n",
            "Epoch 2/30\n",
            "60000/60000 [==============================] - 11s 178us/step - loss: 0.1873 - acc: 0.9820 - val_loss: 0.1317 - val_acc: 0.9860\n",
            "Epoch 3/30\n",
            "60000/60000 [==============================] - 11s 181us/step - loss: 0.1115 - acc: 0.9877 - val_loss: 0.0811 - val_acc: 0.9897\n",
            "Epoch 4/30\n",
            "60000/60000 [==============================] - 11s 187us/step - loss: 0.0780 - acc: 0.9901 - val_loss: 0.0711 - val_acc: 0.9885\n",
            "Epoch 5/30\n",
            "60000/60000 [==============================] - 11s 176us/step - loss: 0.0587 - acc: 0.9918 - val_loss: 0.0501 - val_acc: 0.9919\n",
            "Epoch 6/30\n",
            "60000/60000 [==============================] - 11s 177us/step - loss: 0.0478 - acc: 0.9927 - val_loss: 0.0450 - val_acc: 0.9917\n",
            "Epoch 7/30\n",
            "60000/60000 [==============================] - 11s 175us/step - loss: 0.0381 - acc: 0.9940 - val_loss: 0.0418 - val_acc: 0.9907\n",
            "Epoch 8/30\n",
            "60000/60000 [==============================] - 6s 93us/step - loss: 0.0332 - acc: 0.9944 - val_loss: 0.0361 - val_acc: 0.9908\n",
            "Epoch 9/30\n",
            "60000/60000 [==============================] - 6s 93us/step - loss: 0.0280 - acc: 0.9952 - val_loss: 0.0358 - val_acc: 0.9910\n",
            "Epoch 10/30\n",
            "60000/60000 [==============================] - 6s 92us/step - loss: 0.0233 - acc: 0.9956 - val_loss: 0.0347 - val_acc: 0.9911\n",
            "Epoch 11/30\n",
            "60000/60000 [==============================] - 5s 91us/step - loss: 0.0209 - acc: 0.9960 - val_loss: 0.0274 - val_acc: 0.9930\n",
            "Epoch 12/30\n",
            "60000/60000 [==============================] - 6s 92us/step - loss: 0.0175 - acc: 0.9967 - val_loss: 0.0275 - val_acc: 0.9924\n",
            "Epoch 13/30\n",
            "60000/60000 [==============================] - 6s 106us/step - loss: 0.0167 - acc: 0.9965 - val_loss: 0.0298 - val_acc: 0.9921\n",
            "Epoch 14/30\n",
            "60000/60000 [==============================] - 6s 103us/step - loss: 0.0142 - acc: 0.9968 - val_loss: 0.0290 - val_acc: 0.9918\n",
            "Epoch 15/30\n",
            "60000/60000 [==============================] - 6s 101us/step - loss: 0.0133 - acc: 0.9968 - val_loss: 0.0284 - val_acc: 0.9919\n",
            "Epoch 16/30\n",
            "60000/60000 [==============================] - 5s 91us/step - loss: 0.0128 - acc: 0.9970 - val_loss: 0.0259 - val_acc: 0.9919\n",
            "Epoch 17/30\n",
            "60000/60000 [==============================] - 6s 92us/step - loss: 0.0110 - acc: 0.9976 - val_loss: 0.0344 - val_acc: 0.9893\n",
            "Epoch 18/30\n",
            "60000/60000 [==============================] - 5s 91us/step - loss: 0.0093 - acc: 0.9978 - val_loss: 0.0269 - val_acc: 0.9929\n",
            "Epoch 19/30\n",
            "60000/60000 [==============================] - 5s 92us/step - loss: 0.0103 - acc: 0.9975 - val_loss: 0.0326 - val_acc: 0.9911\n",
            "Epoch 20/30\n",
            "60000/60000 [==============================] - 5s 92us/step - loss: 0.0100 - acc: 0.9975 - val_loss: 0.0277 - val_acc: 0.9928\n",
            "Epoch 21/30\n",
            "60000/60000 [==============================] - 6s 92us/step - loss: 0.0085 - acc: 0.9979 - val_loss: 0.0300 - val_acc: 0.9911\n",
            "Epoch 22/30\n",
            "60000/60000 [==============================] - 5s 91us/step - loss: 0.0082 - acc: 0.9977 - val_loss: 0.0335 - val_acc: 0.9907\n",
            "Epoch 23/30\n",
            "60000/60000 [==============================] - 6s 98us/step - loss: 0.0077 - acc: 0.9982 - val_loss: 0.0280 - val_acc: 0.9916\n",
            "Epoch 24/30\n",
            "60000/60000 [==============================] - 6s 97us/step - loss: 0.0071 - acc: 0.9982 - val_loss: 0.0297 - val_acc: 0.9911\n",
            "Epoch 25/30\n",
            "60000/60000 [==============================] - 5s 91us/step - loss: 0.0076 - acc: 0.9981 - val_loss: 0.0414 - val_acc: 0.9889\n",
            "Epoch 26/30\n",
            "60000/60000 [==============================] - 5s 91us/step - loss: 0.0068 - acc: 0.9983 - val_loss: 0.0241 - val_acc: 0.9928\n",
            "Epoch 27/30\n",
            "60000/60000 [==============================] - 5s 91us/step - loss: 0.0055 - acc: 0.9987 - val_loss: 0.0307 - val_acc: 0.9910\n",
            "Epoch 28/30\n",
            "60000/60000 [==============================] - 6s 98us/step - loss: 0.0065 - acc: 0.9983 - val_loss: 0.0255 - val_acc: 0.9922\n",
            "Epoch 29/30\n",
            "60000/60000 [==============================] - 6s 104us/step - loss: 0.0054 - acc: 0.9986 - val_loss: 0.0286 - val_acc: 0.9925\n",
            "Epoch 30/30\n",
            "60000/60000 [==============================] - 6s 92us/step - loss: 0.0057 - acc: 0.9986 - val_loss: 0.0648 - val_acc: 0.9818\n"
          ],
          "name": "stdout"
        },
        {
          "output_type": "execute_result",
          "data": {
            "text/plain": [
              "<keras.callbacks.History at 0x7f81bc511748>"
            ]
          },
          "metadata": {
            "tags": []
          },
          "execution_count": 12
        }
      ]
    },
    {
      "cell_type": "code",
      "metadata": {
        "id": "24UYWhFcZJhq",
        "colab_type": "code",
        "colab": {}
      },
      "source": [
        "score = model.evaluate(xtest, ytest, verbose=0)"
      ],
      "execution_count": 0,
      "outputs": []
    },
    {
      "cell_type": "code",
      "metadata": {
        "id": "fItOD1KJgHN_",
        "colab_type": "code",
        "outputId": "7cac3548-ea51-4e82-83b3-3e4a53d448f8",
        "colab": {
          "base_uri": "https://localhost:8080/",
          "height": 34
        }
      },
      "source": [
        "print(score)"
      ],
      "execution_count": 0,
      "outputs": [
        {
          "output_type": "stream",
          "text": [
            "[0.06476370081705972, 0.9818]\n"
          ],
          "name": "stdout"
        }
      ]
    },
    {
      "cell_type": "code",
      "metadata": {
        "id": "dT6Nmt3HgJEb",
        "colab_type": "code",
        "colab": {}
      },
      "source": [
        ""
      ],
      "execution_count": 0,
      "outputs": []
    }
  ]
}