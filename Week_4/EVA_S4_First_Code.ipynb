{
  "nbformat": 4,
  "nbformat_minor": 0,
  "metadata": {
    "colab": {
      "name": "EVA_S4_First_Code.ipynb",
      "version": "0.3.2",
      "provenance": []
    },
    "kernelspec": {
      "name": "python3",
      "display_name": "Python 3"
    },
    "accelerator": "GPU"
  },
  "cells": [
    {
      "cell_type": "markdown",
      "metadata": {
        "id": "KwBoom07NDhm",
        "colab_type": "text"
      },
      "source": [
        "# Functionality of the Code\n",
        "This is the vanilla coda that is executed without any additional layers other than Convolution. \n",
        "\n",
        "In this code, I'm using just, Conv2D, Max Pooling and 1x1. "
      ]
    },
    {
      "cell_type": "markdown",
      "metadata": {
        "id": "CnhtKVFLb3PG",
        "colab_type": "text"
      },
      "source": [
        "# Importing the required libraries and required modules\n"
      ]
    },
    {
      "cell_type": "code",
      "metadata": {
        "id": "EmV3T8RMHe4f",
        "colab_type": "code",
        "outputId": "f7e7dc69-e0e8-4853-c7ba-ea43afeb9123",
        "colab": {
          "base_uri": "https://localhost:8080/",
          "height": 34
        }
      },
      "source": [
        "!pip install -q keras\n",
        "import keras"
      ],
      "execution_count": 1,
      "outputs": [
        {
          "output_type": "stream",
          "text": [
            "Using TensorFlow backend.\n"
          ],
          "name": "stderr"
        }
      ]
    },
    {
      "cell_type": "code",
      "metadata": {
        "id": "EtFRE2HcIK3W",
        "colab_type": "code",
        "colab": {}
      },
      "source": [
        "import numpy as np\n",
        "\n",
        "from keras.models import Sequential\n",
        "from keras.layers import Activation, Flatten, Add, BatchNormalization, Convolution2D, MaxPooling2D\n",
        "from keras.utils import np_utils\n",
        "\n",
        "from keras.datasets import mnist\n",
        "\n",
        "import cv2\n",
        "\n",
        "import numpy as np\n",
        "import matplotlib.pyplot as plt"
      ],
      "execution_count": 0,
      "outputs": []
    },
    {
      "cell_type": "markdown",
      "metadata": {
        "id": "fmgElg1IN0at",
        "colab_type": "text"
      },
      "source": [
        "### Loading the MNIST Dataset"
      ]
    },
    {
      "cell_type": "code",
      "metadata": {
        "id": "fYB6naGTMd3h",
        "colab_type": "code",
        "colab": {}
      },
      "source": [
        "(x_train, y_train), (x_test, y_test) = mnist.load_data()"
      ],
      "execution_count": 0,
      "outputs": []
    },
    {
      "cell_type": "code",
      "metadata": {
        "id": "KSpJysQBOEsc",
        "colab_type": "code",
        "outputId": "6605ef3b-4223-482a-ca41-a04f7491728e",
        "colab": {
          "base_uri": "https://localhost:8080/",
          "height": 286
        }
      },
      "source": [
        "plt.imshow(x_train[0])"
      ],
      "execution_count": 4,
      "outputs": [
        {
          "output_type": "execute_result",
          "data": {
            "text/plain": [
              "<matplotlib.image.AxesImage at 0x7f9623b495f8>"
            ]
          },
          "metadata": {
            "tags": []
          },
          "execution_count": 4
        },
        {
          "output_type": "display_data",
          "data": {
            "image/png": "[encoded data removed]",
            "text/plain": [
              "<Figure size 432x288 with 1 Axes>"
            ]
          },
          "metadata": {
            "tags": []
          }
        }
      ]
    },
    {
      "cell_type": "code",
      "metadata": {
        "id": "KLqYK-gPO3lO",
        "colab_type": "code",
        "colab": {}
      },
      "source": [
        "xtrain = x_train.reshape(x_train.shape[0], 28, 28,1)\n",
        "xtest = x_test.reshape(x_test.shape[0], 28, 28,1)"
      ],
      "execution_count": 0,
      "outputs": []
    },
    {
      "cell_type": "code",
      "metadata": {
        "id": "tt_IjXh_O6lA",
        "colab_type": "code",
        "colab": {}
      },
      "source": [
        "xtrain = xtrain.astype('float32')\n",
        "xtest = xtest.astype('float32')"
      ],
      "execution_count": 0,
      "outputs": []
    },
    {
      "cell_type": "code",
      "metadata": {
        "id": "Kn3t-p2HPDiV",
        "colab_type": "code",
        "colab": {}
      },
      "source": [
        "xtrain /= 255.0\n",
        "xtest /= 255.0"
      ],
      "execution_count": 0,
      "outputs": []
    },
    {
      "cell_type": "code",
      "metadata": {
        "id": "kdlbHUtbPPCx",
        "colab_type": "code",
        "colab": {}
      },
      "source": [
        "ytrain = np_utils.to_categorical(y_train, 10)\n",
        "ytest = np_utils.to_categorical(y_test, 10)"
      ],
      "execution_count": 0,
      "outputs": []
    },
    {
      "cell_type": "code",
      "metadata": {
        "id": "qta0SDv7Xjbg",
        "colab_type": "code",
        "outputId": "5301234c-edc1-4eaa-de6f-41da622f0d4a",
        "colab": {
          "base_uri": "https://localhost:8080/",
          "height": 102
        }
      },
      "source": [
        "model = Sequential()\n",
        "\n",
        "model.add(Convolution2D(32, (3, 3), activation='relu', input_shape=(28,28,1), border_mode='same')) # 28\n",
        "model.add(Convolution2D(64, (3, 3), activation='relu')) # 26 \n",
        "model.add(Convolution2D(32, 1, activation='relu')) # 26\n",
        "model.add(MaxPooling2D(pool_size=(2, 2)))\n",
        "\n",
        "model.add(Convolution2D(32, (3, 3), activation='relu')) # 11\n",
        "model.add(MaxPooling2D(pool_size=(2, 2)))\n",
        "\n",
        "model.add(Convolution2D(32, (3, 3), activation='relu')) # 9\n",
        "model.add(Convolution2D(64, (3, 3), activation='relu'))\n",
        "model.add(Convolution2D(10, 1))\n",
        "\n",
        "model.add(Flatten())\n",
        "model.add(Activation('softmax'))"
      ],
      "execution_count": 9,
      "outputs": [
        {
          "output_type": "stream",
          "text": [
            "WARNING:tensorflow:From /usr/local/lib/python3.6/dist-packages/tensorflow/python/framework/op_def_library.py:263: colocate_with (from tensorflow.python.framework.ops) is deprecated and will be removed in a future version.\n",
            "Instructions for updating:\n",
            "Colocations handled automatically by placer.\n"
          ],
          "name": "stdout"
        },
        {
          "output_type": "stream",
          "text": [
            "/usr/local/lib/python3.6/dist-packages/ipykernel_launcher.py:3: UserWarning: Update your `Conv2D` call to the Keras 2 API: `Conv2D(32, (3, 3), activation=\"relu\", input_shape=(28, 28, 1..., padding=\"same\")`\n",
            "  This is separate from the ipykernel package so we can avoid doing imports until\n"
          ],
          "name": "stderr"
        }
      ]
    },
    {
      "cell_type": "code",
      "metadata": {
        "id": "Hm0M_k0jYZTg",
        "colab_type": "code",
        "outputId": "e9e766f1-924a-48c7-8261-50105d7641d0",
        "colab": {
          "base_uri": "https://localhost:8080/",
          "height": 510
        }
      },
      "source": [
        "model.summary()"
      ],
      "execution_count": 10,
      "outputs": [
        {
          "output_type": "stream",
          "text": [
            "_________________________________________________________________\n",
            "Layer (type)                 Output Shape              Param #   \n",
            "=================================================================\n",
            "conv2d_1 (Conv2D)            (None, 28, 28, 32)        320       \n",
            "_________________________________________________________________\n",
            "conv2d_2 (Conv2D)            (None, 26, 26, 64)        18496     \n",
            "_________________________________________________________________\n",
            "conv2d_3 (Conv2D)            (None, 26, 26, 32)        2080      \n",
            "_________________________________________________________________\n",
            "max_pooling2d_1 (MaxPooling2 (None, 13, 13, 32)        0         \n",
            "_________________________________________________________________\n",
            "conv2d_4 (Conv2D)            (None, 11, 11, 32)        9248      \n",
            "_________________________________________________________________\n",
            "max_pooling2d_2 (MaxPooling2 (None, 5, 5, 32)          0         \n",
            "_________________________________________________________________\n",
            "conv2d_5 (Conv2D)            (None, 3, 3, 32)          9248      \n",
            "_________________________________________________________________\n",
            "conv2d_6 (Conv2D)            (None, 1, 1, 64)          18496     \n",
            "_________________________________________________________________\n",
            "conv2d_7 (Conv2D)            (None, 1, 1, 10)          650       \n",
            "_________________________________________________________________\n",
            "flatten_1 (Flatten)          (None, 10)                0         \n",
            "_________________________________________________________________\n",
            "activation_1 (Activation)    (None, 10)                0         \n",
            "=================================================================\n",
            "Total params: 58,538\n",
            "Trainable params: 58,538\n",
            "Non-trainable params: 0\n",
            "_________________________________________________________________\n"
          ],
          "name": "stdout"
        }
      ]
    },
    {
      "cell_type": "code",
      "metadata": {
        "id": "CGDMWxN0YaaL",
        "colab_type": "code",
        "colab": {}
      },
      "source": [
        "model.compile(loss='categorical_crossentropy',\n",
        "             optimizer='adam',\n",
        "             metrics=['accuracy'])"
      ],
      "execution_count": 0,
      "outputs": []
    },
    {
      "cell_type": "code",
      "metadata": {
        "id": "4KjFzNj8ZII9",
        "colab_type": "code",
        "outputId": "4e02d292-671c-4153-8482-c310f0b89c1a",
        "colab": {
          "base_uri": "https://localhost:8080/",
          "height": 1156
        }
      },
      "source": [
        "model.fit(xtrain, ytrain, batch_size=32, nb_epoch=30, verbose=1, validation_data=(xtest, ytest))"
      ],
      "execution_count": 12,
      "outputs": [
        {
          "output_type": "stream",
          "text": [
            "WARNING:tensorflow:From /usr/local/lib/python3.6/dist-packages/tensorflow/python/ops/math_ops.py:3066: to_int32 (from tensorflow.python.ops.math_ops) is deprecated and will be removed in a future version.\n",
            "Instructions for updating:\n",
            "Use tf.cast instead.\n"
          ],
          "name": "stdout"
        },
        {
          "output_type": "stream",
          "text": [
            "/usr/local/lib/python3.6/dist-packages/ipykernel_launcher.py:1: UserWarning: The `nb_epoch` argument in `fit` has been renamed `epochs`.\n",
            "  \"\"\"Entry point for launching an IPython kernel.\n"
          ],
          "name": "stderr"
        },
        {
          "output_type": "stream",
          "text": [
            "Train on 60000 samples, validate on 10000 samples\n",
            "Epoch 1/30\n",
            "60000/60000 [==============================] - 15s 250us/step - loss: 0.1568 - acc: 0.9501 - val_loss: 0.0463 - val_acc: 0.9839\n",
            "Epoch 2/30\n",
            "60000/60000 [==============================] - 12s 205us/step - loss: 0.0512 - acc: 0.9836 - val_loss: 0.0419 - val_acc: 0.9865\n",
            "Epoch 3/30\n",
            "60000/60000 [==============================] - 13s 212us/step - loss: 0.0391 - acc: 0.9877 - val_loss: 0.0304 - val_acc: 0.9900\n",
            "Epoch 4/30\n",
            "60000/60000 [==============================] - 12s 203us/step - loss: 0.0315 - acc: 0.9900 - val_loss: 0.0338 - val_acc: 0.9893\n",
            "Epoch 5/30\n",
            "60000/60000 [==============================] - 12s 204us/step - loss: 0.0257 - acc: 0.9919 - val_loss: 0.0360 - val_acc: 0.9900\n",
            "Epoch 6/30\n",
            "60000/60000 [==============================] - 14s 231us/step - loss: 0.0214 - acc: 0.9930 - val_loss: 0.0342 - val_acc: 0.9887\n",
            "Epoch 7/30\n",
            "60000/60000 [==============================] - 13s 221us/step - loss: 0.0182 - acc: 0.9940 - val_loss: 0.0329 - val_acc: 0.9894\n",
            "Epoch 8/30\n",
            "60000/60000 [==============================] - 16s 263us/step - loss: 0.0170 - acc: 0.9945 - val_loss: 0.0410 - val_acc: 0.9865\n",
            "Epoch 9/30\n",
            "60000/60000 [==============================] - 13s 218us/step - loss: 0.0135 - acc: 0.9954 - val_loss: 0.0288 - val_acc: 0.9918\n",
            "Epoch 10/30\n",
            "60000/60000 [==============================] - 16s 260us/step - loss: 0.0129 - acc: 0.9958 - val_loss: 0.0271 - val_acc: 0.9922\n",
            "Epoch 11/30\n",
            "60000/60000 [==============================] - 24s 401us/step - loss: 0.0104 - acc: 0.9966 - val_loss: 0.0422 - val_acc: 0.9876\n",
            "Epoch 12/30\n",
            "60000/60000 [==============================] - 24s 398us/step - loss: 0.0108 - acc: 0.9966 - val_loss: 0.0381 - val_acc: 0.9893\n",
            "Epoch 13/30\n",
            "60000/60000 [==============================] - 25s 411us/step - loss: 0.0097 - acc: 0.9969 - val_loss: 0.0430 - val_acc: 0.9899\n",
            "Epoch 14/30\n",
            "60000/60000 [==============================] - 24s 396us/step - loss: 0.0093 - acc: 0.9970 - val_loss: 0.0442 - val_acc: 0.9910\n",
            "Epoch 15/30\n",
            "60000/60000 [==============================] - 24s 395us/step - loss: 0.0081 - acc: 0.9975 - val_loss: 0.0479 - val_acc: 0.9897\n",
            "Epoch 16/30\n",
            "60000/60000 [==============================] - 24s 406us/step - loss: 0.0084 - acc: 0.9973 - val_loss: 0.0394 - val_acc: 0.9900\n",
            "Epoch 17/30\n",
            "60000/60000 [==============================] - 24s 397us/step - loss: 0.0070 - acc: 0.9977 - val_loss: 0.0374 - val_acc: 0.9916\n",
            "Epoch 18/30\n",
            "60000/60000 [==============================] - 23s 391us/step - loss: 0.0080 - acc: 0.9974 - val_loss: 0.0404 - val_acc: 0.9902\n",
            "Epoch 19/30\n",
            "60000/60000 [==============================] - 24s 400us/step - loss: 0.0068 - acc: 0.9979 - val_loss: 0.0342 - val_acc: 0.9921\n",
            "Epoch 20/30\n",
            "60000/60000 [==============================] - 24s 408us/step - loss: 0.0067 - acc: 0.9975 - val_loss: 0.0390 - val_acc: 0.9917\n",
            "Epoch 21/30\n",
            "60000/60000 [==============================] - 24s 394us/step - loss: 0.0070 - acc: 0.9978 - val_loss: 0.0450 - val_acc: 0.9898\n",
            "Epoch 22/30\n",
            "60000/60000 [==============================] - 24s 406us/step - loss: 0.0072 - acc: 0.9976 - val_loss: 0.0494 - val_acc: 0.9900\n",
            "Epoch 23/30\n",
            "60000/60000 [==============================] - 13s 221us/step - loss: 0.0059 - acc: 0.9981 - val_loss: 0.0415 - val_acc: 0.9914\n",
            "Epoch 24/30\n",
            "60000/60000 [==============================] - 12s 197us/step - loss: 0.0067 - acc: 0.9980 - val_loss: 0.0425 - val_acc: 0.9919\n",
            "Epoch 25/30\n",
            "60000/60000 [==============================] - 12s 197us/step - loss: 0.0067 - acc: 0.9981 - val_loss: 0.0396 - val_acc: 0.9915\n",
            "Epoch 26/30\n",
            "60000/60000 [==============================] - 12s 198us/step - loss: 0.0059 - acc: 0.9983 - val_loss: 0.0520 - val_acc: 0.9906\n",
            "Epoch 27/30\n",
            "60000/60000 [==============================] - 12s 198us/step - loss: 0.0070 - acc: 0.9978 - val_loss: 0.0456 - val_acc: 0.9918\n",
            "Epoch 28/30\n",
            "60000/60000 [==============================] - 12s 198us/step - loss: 0.0055 - acc: 0.9985 - val_loss: 0.0452 - val_acc: 0.9910\n",
            "Epoch 29/30\n",
            "60000/60000 [==============================] - 12s 200us/step - loss: 0.0045 - acc: 0.9987 - val_loss: 0.0857 - val_acc: 0.9873\n",
            "Epoch 30/30\n",
            "60000/60000 [==============================] - 13s 210us/step - loss: 0.0053 - acc: 0.9984 - val_loss: 0.0468 - val_acc: 0.9912\n"
          ],
          "name": "stdout"
        },
        {
          "output_type": "execute_result",
          "data": {
            "text/plain": [
              "<keras.callbacks.History at 0x7f96209b3a20>"
            ]
          },
          "metadata": {
            "tags": []
          },
          "execution_count": 12
        }
      ]
    },
    {
      "cell_type": "code",
      "metadata": {
        "id": "24UYWhFcZJhq",
        "colab_type": "code",
        "colab": {}
      },
      "source": [
        "score = model.evaluate(xtest, ytest, verbose=0)"
      ],
      "execution_count": 0,
      "outputs": []
    },
    {
      "cell_type": "code",
      "metadata": {
        "id": "fItOD1KJgHN_",
        "colab_type": "code",
        "outputId": "4b4a8e28-036d-4aed-a67c-7015b5ec5c21",
        "colab": {
          "base_uri": "https://localhost:8080/",
          "height": 34
        }
      },
      "source": [
        "print(score)"
      ],
      "execution_count": 14,
      "outputs": [
        {
          "output_type": "stream",
          "text": [
            "[0.0467814007031584, 0.9912]\n"
          ],
          "name": "stdout"
        }
      ]
    },
    {
      "cell_type": "code",
      "metadata": {
        "id": "dT6Nmt3HgJEb",
        "colab_type": "code",
        "colab": {}
      },
      "source": [
        ""
      ],
      "execution_count": 0,
      "outputs": []
    }
  ]
}