{
  "nbformat": 4,
  "nbformat_minor": 0,
  "metadata": {
    "colab": {
      "name": "EVA_S4_Third_Code.ipynb",
      "version": "0.3.2",
      "provenance": []
    },
    "kernelspec": {
      "name": "python3",
      "display_name": "Python 3"
    },
    "accelerator": "GPU"
  },
  "cells": [
    {
      "cell_type": "markdown",
      "metadata": {
        "id": "IxnRbGs9Jrwx",
        "colab_type": "text"
      },
      "source": [
        "# Functionality of the Code\n",
        "\n",
        "The three changes from the second code are:\n",
        "1. Addition of Dropout\n",
        "2. Change of Optimizer from adam to SGD\n",
        "3. Change in learning rate"
      ]
    },
    {
      "cell_type": "markdown",
      "metadata": {
        "id": "KwBoom07NDhm",
        "colab_type": "text"
      },
      "source": [
        "# Importing the required libraries and required modules\n",
        "\n",
        "This is the vanilla coda that is executed without any additional layers other than Convolution"
      ]
    },
    {
      "cell_type": "code",
      "metadata": {
        "id": "EmV3T8RMHe4f",
        "colab_type": "code",
        "outputId": "ee2af9e9-9456-4ddf-8c2b-3cb554643314",
        "colab": {
          "base_uri": "https://localhost:8080/",
          "height": 34
        }
      },
      "source": [
        "!pip install -q keras\n",
        "import keras"
      ],
      "execution_count": 1,
      "outputs": [
        {
          "output_type": "stream",
          "text": [
            "Using TensorFlow backend.\n"
          ],
          "name": "stderr"
        }
      ]
    },
    {
      "cell_type": "code",
      "metadata": {
        "id": "EtFRE2HcIK3W",
        "colab_type": "code",
        "colab": {}
      },
      "source": [
        "import numpy as np\n",
        "\n",
        "from keras.models import Sequential\n",
        "from keras.layers import Activation, Flatten, Add, BatchNormalization, Convolution2D, MaxPooling2D, Dropout\n",
        "from keras.utils import np_utils\n",
        "\n",
        "from keras.datasets import mnist\n",
        "\n",
        "import cv2\n",
        "\n",
        "import numpy as np\n",
        "import matplotlib.pyplot as plt"
      ],
      "execution_count": 0,
      "outputs": []
    },
    {
      "cell_type": "markdown",
      "metadata": {
        "id": "fmgElg1IN0at",
        "colab_type": "text"
      },
      "source": [
        "### Loading the MNIST Dataset"
      ]
    },
    {
      "cell_type": "code",
      "metadata": {
        "id": "fYB6naGTMd3h",
        "colab_type": "code",
        "colab": {}
      },
      "source": [
        "(x_train, y_train), (x_test, y_test) = mnist.load_data()"
      ],
      "execution_count": 0,
      "outputs": []
    },
    {
      "cell_type": "code",
      "metadata": {
        "id": "KSpJysQBOEsc",
        "colab_type": "code",
        "outputId": "66119b8d-0bc7-44da-ee1d-60cfc9c17d0a",
        "colab": {
          "base_uri": "https://localhost:8080/",
          "height": 286
        }
      },
      "source": [
        "plt.imshow(x_train[0])"
      ],
      "execution_count": 4,
      "outputs": [
        {
          "output_type": "execute_result",
          "data": {
            "text/plain": [
              "<matplotlib.image.AxesImage at 0x7f12c3fe96a0>"
            ]
          },
          "metadata": {
            "tags": []
          },
          "execution_count": 4
        },
        {
          "output_type": "display_data",
          "data": {
            "image/png": "[encoded data removed]",
            "text/plain": [
              "<Figure size 432x288 with 1 Axes>"
            ]
          },
          "metadata": {
            "tags": []
          }
        }
      ]
    },
    {
      "cell_type": "code",
      "metadata": {
        "id": "KLqYK-gPO3lO",
        "colab_type": "code",
        "colab": {}
      },
      "source": [
        "xtrain = x_train.reshape(x_train.shape[0], 28, 28,1)\n",
        "xtest = x_test.reshape(x_test.shape[0], 28, 28,1)"
      ],
      "execution_count": 0,
      "outputs": []
    },
    {
      "cell_type": "code",
      "metadata": {
        "id": "tt_IjXh_O6lA",
        "colab_type": "code",
        "colab": {}
      },
      "source": [
        "xtrain = xtrain.astype('float32')\n",
        "xtest = xtest.astype('float32')"
      ],
      "execution_count": 0,
      "outputs": []
    },
    {
      "cell_type": "code",
      "metadata": {
        "id": "Kn3t-p2HPDiV",
        "colab_type": "code",
        "colab": {}
      },
      "source": [
        "xtrain /= 255.0\n",
        "xtest /= 255.0"
      ],
      "execution_count": 0,
      "outputs": []
    },
    {
      "cell_type": "code",
      "metadata": {
        "id": "kdlbHUtbPPCx",
        "colab_type": "code",
        "colab": {}
      },
      "source": [
        "ytrain = np_utils.to_categorical(y_train, 10)\n",
        "ytest = np_utils.to_categorical(y_test, 10)"
      ],
      "execution_count": 0,
      "outputs": []
    },
    {
      "cell_type": "code",
      "metadata": {
        "id": "qta0SDv7Xjbg",
        "colab_type": "code",
        "outputId": "5672cc76-9b8a-42c1-a699-a0d81637865e",
        "colab": {
          "base_uri": "https://localhost:8080/",
          "height": 289
        }
      },
      "source": [
        "from keras.layers import Activation\n",
        "model = Sequential()\n",
        "\n",
        "model.add(Convolution2D(16, 3, 3, input_shape=(28,28,1)))\n",
        "model.add(BatchNormalization())\n",
        "model.add(Activation('relu'))\n",
        "\n",
        "model.add(Convolution2D(10, 1, 1))\n",
        "model.add(BatchNormalization())\n",
        "model.add(Activation('relu'))\n",
        "\n",
        "model.add(Dropout(0.4))\n",
        "\n",
        "model.add(MaxPooling2D(pool_size=(2,2)))\n",
        "\n",
        "model.add(Convolution2D(32, 3, 3))\n",
        "model.add(BatchNormalization())\n",
        "model.add(Activation('relu'))\n",
        "\n",
        "model.add(Convolution2D(10, 1, 1))\n",
        "model.add(BatchNormalization())\n",
        "model.add(Activation('relu'))\n",
        "\n",
        "model.add(Dropout(0.4))\n",
        "\n",
        "model.add(MaxPooling2D(pool_size=(2,2)))\n",
        "\n",
        "model.add(Convolution2D(32, 3, 3))\n",
        "model.add(BatchNormalization())\n",
        "model.add(Activation('relu'))\n",
        "\n",
        "model.add(Convolution2D(16, 3, 3))\n",
        "model.add(BatchNormalization())\n",
        "model.add(Activation('relu'))\n",
        "\n",
        "model.add(Convolution2D(10, 1, 1))\n",
        "model.add(BatchNormalization())\n",
        "model.add(Activation('relu'))\n",
        "\n",
        "model.add(Flatten())\n",
        "model.add(Activation('softmax'))"
      ],
      "execution_count": 9,
      "outputs": [
        {
          "output_type": "stream",
          "text": [
            "WARNING:tensorflow:From /usr/local/lib/python3.6/dist-packages/tensorflow/python/framework/op_def_library.py:263: colocate_with (from tensorflow.python.framework.ops) is deprecated and will be removed in a future version.\n",
            "Instructions for updating:\n",
            "Colocations handled automatically by placer.\n"
          ],
          "name": "stdout"
        },
        {
          "output_type": "stream",
          "text": [
            "/usr/local/lib/python3.6/dist-packages/ipykernel_launcher.py:4: UserWarning: Update your `Conv2D` call to the Keras 2 API: `Conv2D(16, (3, 3), input_shape=(28, 28, 1...)`\n",
            "  after removing the cwd from sys.path.\n"
          ],
          "name": "stderr"
        },
        {
          "output_type": "stream",
          "text": [
            "WARNING:tensorflow:From /usr/local/lib/python3.6/dist-packages/keras/backend/tensorflow_backend.py:3445: calling dropout (from tensorflow.python.ops.nn_ops) with keep_prob is deprecated and will be removed in a future version.\n",
            "Instructions for updating:\n",
            "Please use `rate` instead of `keep_prob`. Rate should be set to `rate = 1 - keep_prob`.\n"
          ],
          "name": "stdout"
        },
        {
          "output_type": "stream",
          "text": [
            "/usr/local/lib/python3.6/dist-packages/ipykernel_launcher.py:8: UserWarning: Update your `Conv2D` call to the Keras 2 API: `Conv2D(10, (1, 1))`\n",
            "  \n",
            "/usr/local/lib/python3.6/dist-packages/ipykernel_launcher.py:16: UserWarning: Update your `Conv2D` call to the Keras 2 API: `Conv2D(32, (3, 3))`\n",
            "  app.launch_new_instance()\n",
            "/usr/local/lib/python3.6/dist-packages/ipykernel_launcher.py:20: UserWarning: Update your `Conv2D` call to the Keras 2 API: `Conv2D(10, (1, 1))`\n",
            "/usr/local/lib/python3.6/dist-packages/ipykernel_launcher.py:28: UserWarning: Update your `Conv2D` call to the Keras 2 API: `Conv2D(32, (3, 3))`\n",
            "/usr/local/lib/python3.6/dist-packages/ipykernel_launcher.py:32: UserWarning: Update your `Conv2D` call to the Keras 2 API: `Conv2D(16, (3, 3))`\n",
            "/usr/local/lib/python3.6/dist-packages/ipykernel_launcher.py:36: UserWarning: Update your `Conv2D` call to the Keras 2 API: `Conv2D(10, (1, 1))`\n"
          ],
          "name": "stderr"
        }
      ]
    },
    {
      "cell_type": "code",
      "metadata": {
        "id": "Hm0M_k0jYZTg",
        "colab_type": "code",
        "outputId": "dec6c90d-e0ab-499d-bcec-c0a2647f1de0",
        "colab": {
          "base_uri": "https://localhost:8080/",
          "height": 1054
        }
      },
      "source": [
        "model.summary()"
      ],
      "execution_count": 10,
      "outputs": [
        {
          "output_type": "stream",
          "text": [
            "_________________________________________________________________\n",
            "Layer (type)                 Output Shape              Param #   \n",
            "=================================================================\n",
            "conv2d_1 (Conv2D)            (None, 26, 26, 16)        160       \n",
            "_________________________________________________________________\n",
            "batch_normalization_1 (Batch (None, 26, 26, 16)        64        \n",
            "_________________________________________________________________\n",
            "activation_1 (Activation)    (None, 26, 26, 16)        0         \n",
            "_________________________________________________________________\n",
            "conv2d_2 (Conv2D)            (None, 26, 26, 10)        170       \n",
            "_________________________________________________________________\n",
            "batch_normalization_2 (Batch (None, 26, 26, 10)        40        \n",
            "_________________________________________________________________\n",
            "activation_2 (Activation)    (None, 26, 26, 10)        0         \n",
            "_________________________________________________________________\n",
            "dropout_1 (Dropout)          (None, 26, 26, 10)        0         \n",
            "_________________________________________________________________\n",
            "max_pooling2d_1 (MaxPooling2 (None, 13, 13, 10)        0         \n",
            "_________________________________________________________________\n",
            "conv2d_3 (Conv2D)            (None, 11, 11, 32)        2912      \n",
            "_________________________________________________________________\n",
            "batch_normalization_3 (Batch (None, 11, 11, 32)        128       \n",
            "_________________________________________________________________\n",
            "activation_3 (Activation)    (None, 11, 11, 32)        0         \n",
            "_________________________________________________________________\n",
            "conv2d_4 (Conv2D)            (None, 11, 11, 10)        330       \n",
            "_________________________________________________________________\n",
            "batch_normalization_4 (Batch (None, 11, 11, 10)        40        \n",
            "_________________________________________________________________\n",
            "activation_4 (Activation)    (None, 11, 11, 10)        0         \n",
            "_________________________________________________________________\n",
            "dropout_2 (Dropout)          (None, 11, 11, 10)        0         \n",
            "_________________________________________________________________\n",
            "max_pooling2d_2 (MaxPooling2 (None, 5, 5, 10)          0         \n",
            "_________________________________________________________________\n",
            "conv2d_5 (Conv2D)            (None, 3, 3, 32)          2912      \n",
            "_________________________________________________________________\n",
            "batch_normalization_5 (Batch (None, 3, 3, 32)          128       \n",
            "_________________________________________________________________\n",
            "activation_5 (Activation)    (None, 3, 3, 32)          0         \n",
            "_________________________________________________________________\n",
            "conv2d_6 (Conv2D)            (None, 1, 1, 16)          4624      \n",
            "_________________________________________________________________\n",
            "batch_normalization_6 (Batch (None, 1, 1, 16)          64        \n",
            "_________________________________________________________________\n",
            "activation_6 (Activation)    (None, 1, 1, 16)          0         \n",
            "_________________________________________________________________\n",
            "conv2d_7 (Conv2D)            (None, 1, 1, 10)          170       \n",
            "_________________________________________________________________\n",
            "batch_normalization_7 (Batch (None, 1, 1, 10)          40        \n",
            "_________________________________________________________________\n",
            "activation_7 (Activation)    (None, 1, 1, 10)          0         \n",
            "_________________________________________________________________\n",
            "flatten_1 (Flatten)          (None, 10)                0         \n",
            "_________________________________________________________________\n",
            "activation_8 (Activation)    (None, 10)                0         \n",
            "=================================================================\n",
            "Total params: 11,782\n",
            "Trainable params: 11,530\n",
            "Non-trainable params: 252\n",
            "_________________________________________________________________\n"
          ],
          "name": "stdout"
        }
      ]
    },
    {
      "cell_type": "code",
      "metadata": {
        "id": "CGDMWxN0YaaL",
        "colab_type": "code",
        "colab": {}
      },
      "source": [
        "sgd = keras.optimizers.sgd(lr=0.001)\n",
        "model.compile(loss='categorical_crossentropy',\n",
        "             optimizer=sgd,\n",
        "             metrics=['accuracy'])"
      ],
      "execution_count": 0,
      "outputs": []
    },
    {
      "cell_type": "code",
      "metadata": {
        "id": "4KjFzNj8ZII9",
        "colab_type": "code",
        "outputId": "dd8b71ba-1086-4a01-9aaa-c119fe72dea8",
        "colab": {
          "base_uri": "https://localhost:8080/",
          "height": 1156
        }
      },
      "source": [
        "model.fit(xtrain, ytrain, batch_size=32, nb_epoch=30, verbose=1, validation_data=(xtest, ytest))"
      ],
      "execution_count": 12,
      "outputs": [
        {
          "output_type": "stream",
          "text": [
            "WARNING:tensorflow:From /usr/local/lib/python3.6/dist-packages/tensorflow/python/ops/math_ops.py:3066: to_int32 (from tensorflow.python.ops.math_ops) is deprecated and will be removed in a future version.\n",
            "Instructions for updating:\n",
            "Use tf.cast instead.\n"
          ],
          "name": "stdout"
        },
        {
          "output_type": "stream",
          "text": [
            "/usr/local/lib/python3.6/dist-packages/ipykernel_launcher.py:1: UserWarning: The `nb_epoch` argument in `fit` has been renamed `epochs`.\n",
            "  \"\"\"Entry point for launching an IPython kernel.\n"
          ],
          "name": "stderr"
        },
        {
          "output_type": "stream",
          "text": [
            "Train on 60000 samples, validate on 10000 samples\n",
            "Epoch 1/30\n",
            "60000/60000 [==============================] - 21s 345us/step - loss: 1.6048 - acc: 0.5456 - val_loss: 1.6682 - val_acc: 0.4956\n",
            "Epoch 2/30\n",
            "60000/60000 [==============================] - 17s 287us/step - loss: 1.0202 - acc: 0.8004 - val_loss: 1.3873 - val_acc: 0.6394\n",
            "Epoch 3/30\n",
            "60000/60000 [==============================] - 17s 286us/step - loss: 0.7801 - acc: 0.8589 - val_loss: 1.2075 - val_acc: 0.7085\n",
            "Epoch 4/30\n",
            "60000/60000 [==============================] - 19s 313us/step - loss: 0.6442 - acc: 0.8841 - val_loss: 1.0568 - val_acc: 0.7639\n",
            "Epoch 5/30\n",
            "60000/60000 [==============================] - 18s 295us/step - loss: 0.5489 - acc: 0.8993 - val_loss: 0.9498 - val_acc: 0.7878\n",
            "Epoch 6/30\n",
            "60000/60000 [==============================] - 18s 299us/step - loss: 0.4858 - acc: 0.9090 - val_loss: 0.8958 - val_acc: 0.7869\n",
            "Epoch 7/30\n",
            "60000/60000 [==============================] - 17s 286us/step - loss: 0.4390 - acc: 0.9165 - val_loss: 0.7936 - val_acc: 0.8183\n",
            "Epoch 8/30\n",
            "60000/60000 [==============================] - 17s 288us/step - loss: 0.3992 - acc: 0.9219 - val_loss: 0.6894 - val_acc: 0.8558\n",
            "Epoch 9/30\n",
            "60000/60000 [==============================] - 17s 287us/step - loss: 0.3692 - acc: 0.9264 - val_loss: 0.6547 - val_acc: 0.8580\n",
            "Epoch 10/30\n",
            "60000/60000 [==============================] - 18s 305us/step - loss: 0.3474 - acc: 0.9285 - val_loss: 0.6253 - val_acc: 0.8635\n",
            "Epoch 11/30\n",
            "60000/60000 [==============================] - 17s 286us/step - loss: 0.3263 - acc: 0.9319 - val_loss: 0.6457 - val_acc: 0.8423\n",
            "Epoch 12/30\n",
            "60000/60000 [==============================] - 17s 285us/step - loss: 0.3093 - acc: 0.9347 - val_loss: 0.5667 - val_acc: 0.8734\n",
            "Epoch 13/30\n",
            "60000/60000 [==============================] - 17s 284us/step - loss: 0.2946 - acc: 0.9368 - val_loss: 0.5354 - val_acc: 0.8808\n",
            "Epoch 14/30\n",
            "60000/60000 [==============================] - 18s 297us/step - loss: 0.2844 - acc: 0.9380 - val_loss: 0.4760 - val_acc: 0.9017\n",
            "Epoch 15/30\n",
            "60000/60000 [==============================] - 18s 304us/step - loss: 0.2697 - acc: 0.9410 - val_loss: 0.4457 - val_acc: 0.9091\n",
            "Epoch 16/30\n",
            "60000/60000 [==============================] - 17s 285us/step - loss: 0.2581 - acc: 0.9440 - val_loss: 0.4442 - val_acc: 0.9054\n",
            "Epoch 17/30\n",
            "60000/60000 [==============================] - 17s 283us/step - loss: 0.2545 - acc: 0.9426 - val_loss: 0.4137 - val_acc: 0.9125\n",
            "Epoch 18/30\n",
            "60000/60000 [==============================] - 17s 288us/step - loss: 0.2457 - acc: 0.9443 - val_loss: 0.4142 - val_acc: 0.9121\n",
            "Epoch 19/30\n",
            "60000/60000 [==============================] - 18s 299us/step - loss: 0.2393 - acc: 0.9459 - val_loss: 0.3813 - val_acc: 0.9204\n",
            "Epoch 20/30\n",
            "60000/60000 [==============================] - 17s 291us/step - loss: 0.2302 - acc: 0.9467 - val_loss: 0.3546 - val_acc: 0.9265\n",
            "Epoch 21/30\n",
            "60000/60000 [==============================] - 18s 296us/step - loss: 0.2263 - acc: 0.9480 - val_loss: 0.3577 - val_acc: 0.9240\n",
            "Epoch 22/30\n",
            "60000/60000 [==============================] - 18s 298us/step - loss: 0.2218 - acc: 0.9490 - val_loss: 0.3701 - val_acc: 0.9169\n",
            "Epoch 23/30\n",
            "60000/60000 [==============================] - 17s 284us/step - loss: 0.2127 - acc: 0.9516 - val_loss: 0.3212 - val_acc: 0.9335\n",
            "Epoch 24/30\n",
            "60000/60000 [==============================] - 18s 305us/step - loss: 0.2106 - acc: 0.9510 - val_loss: 0.3266 - val_acc: 0.9298\n",
            "Epoch 25/30\n",
            "60000/60000 [==============================] - 17s 284us/step - loss: 0.2038 - acc: 0.9527 - val_loss: 0.3335 - val_acc: 0.9261\n",
            "Epoch 26/30\n",
            "60000/60000 [==============================] - 17s 284us/step - loss: 0.2015 - acc: 0.9531 - val_loss: 0.3392 - val_acc: 0.9221\n",
            "Epoch 27/30\n",
            "60000/60000 [==============================] - 17s 284us/step - loss: 0.1984 - acc: 0.9536 - val_loss: 0.3094 - val_acc: 0.9318\n",
            "Epoch 28/30\n",
            "60000/60000 [==============================] - 18s 293us/step - loss: 0.1886 - acc: 0.9556 - val_loss: 0.2894 - val_acc: 0.9383\n",
            "Epoch 29/30\n",
            "60000/60000 [==============================] - 18s 297us/step - loss: 0.1874 - acc: 0.9557 - val_loss: 0.2724 - val_acc: 0.9434\n",
            "Epoch 30/30\n",
            "60000/60000 [==============================] - 17s 285us/step - loss: 0.1850 - acc: 0.9563 - val_loss: 0.2582 - val_acc: 0.9461\n"
          ],
          "name": "stdout"
        },
        {
          "output_type": "execute_result",
          "data": {
            "text/plain": [
              "<keras.callbacks.History at 0x7f12c401ba20>"
            ]
          },
          "metadata": {
            "tags": []
          },
          "execution_count": 12
        }
      ]
    },
    {
      "cell_type": "code",
      "metadata": {
        "id": "kUxx42nrhZ4S",
        "colab_type": "code",
        "colab": {
          "base_uri": "https://localhost:8080/",
          "height": 765
        },
        "outputId": "698c3131-16b3-411b-d198-2a902651317a"
      },
      "source": [
        "model.fit(xtrain, ytrain, batch_size=32, nb_epoch=20, verbose=1, validation_data=(xtest, ytest))"
      ],
      "execution_count": 13,
      "outputs": [
        {
          "output_type": "stream",
          "text": [
            "Train on 60000 samples, validate on 10000 samples\n",
            "Epoch 1/20\n",
            "  608/60000 [..............................] - ETA: 17s - loss: 0.1954 - acc: 0.9457"
          ],
          "name": "stdout"
        },
        {
          "output_type": "stream",
          "text": [
            "/usr/local/lib/python3.6/dist-packages/ipykernel_launcher.py:1: UserWarning: The `nb_epoch` argument in `fit` has been renamed `epochs`.\n",
            "  \"\"\"Entry point for launching an IPython kernel.\n"
          ],
          "name": "stderr"
        },
        {
          "output_type": "stream",
          "text": [
            "60000/60000 [==============================] - 18s 307us/step - loss: 0.1801 - acc: 0.9568 - val_loss: 0.2782 - val_acc: 0.9386\n",
            "Epoch 2/20\n",
            "60000/60000 [==============================] - 17s 288us/step - loss: 0.1792 - acc: 0.9568 - val_loss: 0.2832 - val_acc: 0.9350\n",
            "Epoch 3/20\n",
            "60000/60000 [==============================] - 17s 288us/step - loss: 0.1774 - acc: 0.9563 - val_loss: 0.2690 - val_acc: 0.9394\n",
            "Epoch 4/20\n",
            "60000/60000 [==============================] - 18s 294us/step - loss: 0.1755 - acc: 0.9586 - val_loss: 0.2696 - val_acc: 0.9390\n",
            "Epoch 5/20\n",
            "60000/60000 [==============================] - 18s 296us/step - loss: 0.1675 - acc: 0.9601 - val_loss: 0.2776 - val_acc: 0.9352\n",
            "Epoch 6/20\n",
            "60000/60000 [==============================] - 18s 307us/step - loss: 0.1676 - acc: 0.9602 - val_loss: 0.2521 - val_acc: 0.9435\n",
            "Epoch 7/20\n",
            "60000/60000 [==============================] - 18s 292us/step - loss: 0.1645 - acc: 0.9607 - val_loss: 0.2352 - val_acc: 0.9497\n",
            "Epoch 8/20\n",
            "60000/60000 [==============================] - 18s 294us/step - loss: 0.1635 - acc: 0.9608 - val_loss: 0.2448 - val_acc: 0.9447\n",
            "Epoch 9/20\n",
            "60000/60000 [==============================] - 17s 288us/step - loss: 0.1626 - acc: 0.9605 - val_loss: 0.2320 - val_acc: 0.9497\n",
            "Epoch 10/20\n",
            "60000/60000 [==============================] - 18s 306us/step - loss: 0.1536 - acc: 0.9631 - val_loss: 0.2377 - val_acc: 0.9450\n",
            "Epoch 11/20\n",
            "60000/60000 [==============================] - 17s 287us/step - loss: 0.1539 - acc: 0.9629 - val_loss: 0.2106 - val_acc: 0.9552\n",
            "Epoch 12/20\n",
            "60000/60000 [==============================] - 17s 286us/step - loss: 0.1526 - acc: 0.9636 - val_loss: 0.2224 - val_acc: 0.9497\n",
            "Epoch 13/20\n",
            "60000/60000 [==============================] - 17s 286us/step - loss: 0.1524 - acc: 0.9633 - val_loss: 0.2288 - val_acc: 0.9475\n",
            "Epoch 14/20\n",
            "60000/60000 [==============================] - 17s 290us/step - loss: 0.1481 - acc: 0.9640 - val_loss: 0.2119 - val_acc: 0.9519\n",
            "Epoch 15/20\n",
            "60000/60000 [==============================] - 19s 314us/step - loss: 0.1493 - acc: 0.9631 - val_loss: 0.2206 - val_acc: 0.9493\n",
            "Epoch 16/20\n",
            "60000/60000 [==============================] - 19s 311us/step - loss: 0.1443 - acc: 0.9647 - val_loss: 0.2141 - val_acc: 0.9525\n",
            "Epoch 17/20\n",
            "60000/60000 [==============================] - 17s 286us/step - loss: 0.1444 - acc: 0.9644 - val_loss: 0.1963 - val_acc: 0.9576\n",
            "Epoch 18/20\n",
            "60000/60000 [==============================] - 17s 288us/step - loss: 0.1425 - acc: 0.9656 - val_loss: 0.2014 - val_acc: 0.9539\n",
            "Epoch 19/20\n",
            "60000/60000 [==============================] - 18s 307us/step - loss: 0.1425 - acc: 0.9645 - val_loss: 0.2066 - val_acc: 0.9519\n",
            "Epoch 20/20\n",
            "60000/60000 [==============================] - 18s 294us/step - loss: 0.1433 - acc: 0.9649 - val_loss: 0.2028 - val_acc: 0.9545\n"
          ],
          "name": "stdout"
        },
        {
          "output_type": "execute_result",
          "data": {
            "text/plain": [
              "<keras.callbacks.History at 0x7f12b00ac358>"
            ]
          },
          "metadata": {
            "tags": []
          },
          "execution_count": 13
        }
      ]
    },
    {
      "cell_type": "code",
      "metadata": {
        "id": "bTQjRzPxi6wx",
        "colab_type": "code",
        "colab": {
          "base_uri": "https://localhost:8080/",
          "height": 1445
        },
        "outputId": "c162f43c-10e6-4b93-eee1-2cc490e1aa76"
      },
      "source": [
        "model.fit(xtrain, ytrain, batch_size=32, nb_epoch=40, verbose=1, validation_data=(xtest, ytest))"
      ],
      "execution_count": 16,
      "outputs": [
        {
          "output_type": "stream",
          "text": [
            "Train on 60000 samples, validate on 10000 samples\n",
            "Epoch 1/40\n",
            "  576/60000 [..............................] - ETA: 19s - loss: 0.1560 - acc: 0.9618"
          ],
          "name": "stdout"
        },
        {
          "output_type": "stream",
          "text": [
            "/usr/local/lib/python3.6/dist-packages/ipykernel_launcher.py:1: UserWarning: The `nb_epoch` argument in `fit` has been renamed `epochs`.\n",
            "  \"\"\"Entry point for launching an IPython kernel.\n"
          ],
          "name": "stderr"
        },
        {
          "output_type": "stream",
          "text": [
            "60000/60000 [==============================] - 17s 290us/step - loss: 0.1408 - acc: 0.9652 - val_loss: 0.2059 - val_acc: 0.9521\n",
            "Epoch 2/40\n",
            "60000/60000 [==============================] - 19s 309us/step - loss: 0.1385 - acc: 0.9660 - val_loss: 0.1933 - val_acc: 0.9568\n",
            "Epoch 3/40\n",
            "60000/60000 [==============================] - 18s 300us/step - loss: 0.1359 - acc: 0.9676 - val_loss: 0.1825 - val_acc: 0.9610\n",
            "Epoch 4/40\n",
            "60000/60000 [==============================] - 17s 290us/step - loss: 0.1375 - acc: 0.9663 - val_loss: 0.1703 - val_acc: 0.9632\n",
            "Epoch 5/40\n",
            "60000/60000 [==============================] - 17s 289us/step - loss: 0.1330 - acc: 0.9675 - val_loss: 0.1808 - val_acc: 0.9603\n",
            "Epoch 6/40\n",
            "60000/60000 [==============================] - 19s 310us/step - loss: 0.1302 - acc: 0.9689 - val_loss: 0.1767 - val_acc: 0.9618\n",
            "Epoch 7/40\n",
            "60000/60000 [==============================] - 17s 287us/step - loss: 0.1276 - acc: 0.9682 - val_loss: 0.1716 - val_acc: 0.9637\n",
            "Epoch 8/40\n",
            "60000/60000 [==============================] - 17s 284us/step - loss: 0.1283 - acc: 0.9682 - val_loss: 0.1883 - val_acc: 0.9563\n",
            "Epoch 9/40\n",
            "60000/60000 [==============================] - 17s 285us/step - loss: 0.1267 - acc: 0.9692 - val_loss: 0.1880 - val_acc: 0.9566\n",
            "Epoch 10/40\n",
            "60000/60000 [==============================] - 17s 285us/step - loss: 0.1267 - acc: 0.9694 - val_loss: 0.1620 - val_acc: 0.9653\n",
            "Epoch 11/40\n",
            "60000/60000 [==============================] - 19s 323us/step - loss: 0.1240 - acc: 0.9695 - val_loss: 0.1690 - val_acc: 0.9633\n",
            "Epoch 12/40\n",
            "60000/60000 [==============================] - 17s 283us/step - loss: 0.1197 - acc: 0.9709 - val_loss: 0.1690 - val_acc: 0.9621\n",
            "Epoch 13/40\n",
            "60000/60000 [==============================] - 17s 285us/step - loss: 0.1210 - acc: 0.9701 - val_loss: 0.1709 - val_acc: 0.9623\n",
            "Epoch 14/40\n",
            "60000/60000 [==============================] - 17s 284us/step - loss: 0.1209 - acc: 0.9713 - val_loss: 0.1752 - val_acc: 0.9593\n",
            "Epoch 15/40\n",
            "60000/60000 [==============================] - 18s 297us/step - loss: 0.1207 - acc: 0.9707 - val_loss: 0.1647 - val_acc: 0.9640\n",
            "Epoch 16/40\n",
            "60000/60000 [==============================] - 18s 292us/step - loss: 0.1208 - acc: 0.9707 - val_loss: 0.1639 - val_acc: 0.9633\n",
            "Epoch 17/40\n",
            "60000/60000 [==============================] - 17s 283us/step - loss: 0.1206 - acc: 0.9706 - val_loss: 0.1607 - val_acc: 0.9650\n",
            "Epoch 18/40\n",
            "60000/60000 [==============================] - 17s 284us/step - loss: 0.1183 - acc: 0.9712 - val_loss: 0.1580 - val_acc: 0.9640\n",
            "Epoch 19/40\n",
            "60000/60000 [==============================] - 17s 284us/step - loss: 0.1160 - acc: 0.9717 - val_loss: 0.1657 - val_acc: 0.9618\n",
            "Epoch 20/40\n",
            "60000/60000 [==============================] - 18s 306us/step - loss: 0.1160 - acc: 0.9720 - val_loss: 0.1589 - val_acc: 0.9637\n",
            "Epoch 21/40\n",
            "60000/60000 [==============================] - 17s 284us/step - loss: 0.1143 - acc: 0.9721 - val_loss: 0.1485 - val_acc: 0.9668\n",
            "Epoch 22/40\n",
            "60000/60000 [==============================] - 17s 283us/step - loss: 0.1123 - acc: 0.9727 - val_loss: 0.1698 - val_acc: 0.9596\n",
            "Epoch 23/40\n",
            "60000/60000 [==============================] - 17s 284us/step - loss: 0.1143 - acc: 0.9718 - val_loss: 0.1602 - val_acc: 0.9638\n",
            "Epoch 24/40\n",
            "60000/60000 [==============================] - 17s 285us/step - loss: 0.1124 - acc: 0.9724 - val_loss: 0.1413 - val_acc: 0.9695\n",
            "Epoch 25/40\n",
            "60000/60000 [==============================] - 18s 303us/step - loss: 0.1122 - acc: 0.9729 - val_loss: 0.1548 - val_acc: 0.9643\n",
            "Epoch 26/40\n",
            "60000/60000 [==============================] - 17s 284us/step - loss: 0.1103 - acc: 0.9725 - val_loss: 0.1493 - val_acc: 0.9662\n",
            "Epoch 27/40\n",
            "60000/60000 [==============================] - 17s 284us/step - loss: 0.1104 - acc: 0.9730 - val_loss: 0.1414 - val_acc: 0.9687\n",
            "Epoch 28/40\n",
            "60000/60000 [==============================] - 17s 284us/step - loss: 0.1109 - acc: 0.9723 - val_loss: 0.1545 - val_acc: 0.9636\n",
            "Epoch 29/40\n",
            "60000/60000 [==============================] - 19s 320us/step - loss: 0.1093 - acc: 0.9730 - val_loss: 0.1346 - val_acc: 0.9701\n",
            "Epoch 30/40\n",
            "60000/60000 [==============================] - 17s 286us/step - loss: 0.1097 - acc: 0.9723 - val_loss: 0.1561 - val_acc: 0.9634\n",
            "Epoch 31/40\n",
            "60000/60000 [==============================] - 17s 284us/step - loss: 0.1076 - acc: 0.9740 - val_loss: 0.1483 - val_acc: 0.9662\n",
            "Epoch 32/40\n",
            "60000/60000 [==============================] - 17s 283us/step - loss: 0.1066 - acc: 0.9733 - val_loss: 0.1603 - val_acc: 0.9605\n",
            "Epoch 33/40\n",
            "60000/60000 [==============================] - 17s 284us/step - loss: 0.1074 - acc: 0.9736 - val_loss: 0.1553 - val_acc: 0.9625\n",
            "Epoch 34/40\n",
            "60000/60000 [==============================] - 18s 304us/step - loss: 0.1036 - acc: 0.9750 - val_loss: 0.1536 - val_acc: 0.9635\n",
            "Epoch 35/40\n",
            "60000/60000 [==============================] - 17s 284us/step - loss: 0.1056 - acc: 0.9736 - val_loss: 0.1393 - val_acc: 0.9680\n",
            "Epoch 36/40\n",
            "60000/60000 [==============================] - 17s 283us/step - loss: 0.1039 - acc: 0.9744 - val_loss: 0.1493 - val_acc: 0.9643\n",
            "Epoch 37/40\n",
            "60000/60000 [==============================] - 17s 283us/step - loss: 0.1002 - acc: 0.9757 - val_loss: 0.1367 - val_acc: 0.9684\n",
            "Epoch 38/40\n",
            "60000/60000 [==============================] - 18s 303us/step - loss: 0.1027 - acc: 0.9752 - val_loss: 0.1455 - val_acc: 0.9646\n",
            "Epoch 39/40\n",
            "60000/60000 [==============================] - 18s 296us/step - loss: 0.1012 - acc: 0.9746 - val_loss: 0.1475 - val_acc: 0.9636\n",
            "Epoch 40/40\n",
            "60000/60000 [==============================] - 17s 283us/step - loss: 0.1009 - acc: 0.9758 - val_loss: 0.1315 - val_acc: 0.9694\n"
          ],
          "name": "stdout"
        },
        {
          "output_type": "execute_result",
          "data": {
            "text/plain": [
              "<keras.callbacks.History at 0x7f12b00bae48>"
            ]
          },
          "metadata": {
            "tags": []
          },
          "execution_count": 16
        }
      ]
    },
    {
      "cell_type": "code",
      "metadata": {
        "id": "24UYWhFcZJhq",
        "colab_type": "code",
        "colab": {}
      },
      "source": [
        "score = model.evaluate(xtest, ytest, verbose=0)"
      ],
      "execution_count": 0,
      "outputs": []
    },
    {
      "cell_type": "code",
      "metadata": {
        "id": "fItOD1KJgHN_",
        "colab_type": "code",
        "outputId": "76d7e60b-b675-4052-b87e-8d5106089de2",
        "colab": {
          "base_uri": "https://localhost:8080/",
          "height": 34
        }
      },
      "source": [
        "print(score)"
      ],
      "execution_count": 18,
      "outputs": [
        {
          "output_type": "stream",
          "text": [
            "[0.13149870568215846, 0.9694]\n"
          ],
          "name": "stdout"
        }
      ]
    },
    {
      "cell_type": "code",
      "metadata": {
        "id": "dT6Nmt3HgJEb",
        "colab_type": "code",
        "colab": {}
      },
      "source": [
        ""
      ],
      "execution_count": 0,
      "outputs": []
    }
  ]
}