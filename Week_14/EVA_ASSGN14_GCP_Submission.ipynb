{
  "nbformat": 4,
  "nbformat_minor": 0,
  "metadata": {
    "accelerator": "GPU",
    "colab": {
      "name": "EVA_ASSGN14_AVADHUT_Final_GCP_Submission.ipynb",
      "version": "0.3.2",
      "provenance": [],
      "collapsed_sections": []
    },
    "kernelspec": {
      "display_name": "Python 3",
      "language": "python",
      "name": "python3"
    },
    "language_info": {
      "codemirror_mode": {
        "name": "ipython",
        "version": 3
      },
      "file_extension": ".py",
      "mimetype": "text/x-python",
      "name": "python",
      "nbconvert_exporter": "python",
      "pygments_lexer": "ipython3",
      "version": "3.6.3"
    }
  },
  "cells": [
    {
      "cell_type": "markdown",
      "metadata": {
        "id": "GLjqOJRRb7Ga",
        "colab_type": "text"
      },
      "source": [
        "Worked with Avadhut (avadhutc.diamond@gmail.com) and Soma(somakorada@gmail.com)"
      ]
    },
    {
      "cell_type": "code",
      "metadata": {
        "colab_type": "code",
        "id": "QEtVTK3uYk9p",
        "colab": {}
      },
      "source": [
        "import numpy as np\n",
        "import time, math\n",
        "import cv2\n",
        "#from tqdm import tqdm_notebook as tqdm\n",
        "\n",
        "import tensorflow as tf\n",
        "from tensorflow.keras.regularizers import l2\n",
        "import tensorflow.contrib.eager as tfe\n",
        "\n",
        "import matplotlib.pyplot as plt\n",
        "% matplotlib inline"
      ],
      "execution_count": 0,
      "outputs": []
    },
    {
      "cell_type": "code",
      "metadata": {
        "colab_type": "code",
        "id": "p5mkJO53h-Zs",
        "colab": {}
      },
      "source": [
        "learning_rate = 0.35\n",
        "epochs = 24\n",
        "batch_size = 512\n",
        "end_percentage = 0.05\n",
        "triangle_tilt = 0.7"
      ],
      "execution_count": 0,
      "outputs": []
    },
    {
      "cell_type": "code",
      "metadata": {
        "colab_type": "code",
        "id": "6WR3LO8tidAc",
        "colab": {}
      },
      "source": [
        "# Loading the CIFAR10 60000 Training and 10000 Test data into respective numpy arrays\n",
        "(X_train, y_train), (X_test, y_test) = tf.keras.datasets.cifar10.load_data()\n",
        "\n",
        "n_train, n_test = X_train.shape[0], X_test.shape[0]\n",
        "img_size = X_train.shape[1]\n",
        "n_classes = y_train.max() + 1"
      ],
      "execution_count": 0,
      "outputs": []
    },
    {
      "cell_type": "code",
      "metadata": {
        "colab_type": "code",
        "id": "qJq-7uMpmU6x",
        "colab": {}
      },
      "source": [
        "X_train = X_train.astype('float32')/255\n",
        "X_test = X_test.astype('float32')/255\n",
        "Y_train = tf.keras.utils.to_categorical(y_train, n_classes)\n",
        "Y_test = tf.keras.utils.to_categorical(y_test, n_classes)"
      ],
      "execution_count": 0,
      "outputs": []
    },
    {
      "cell_type": "code",
      "metadata": {
        "colab_type": "code",
        "id": "n6QYdPNtQ99J",
        "outputId": "df9a7383-ad5f-4b03-8242-5ea36704dce8",
        "colab": {
          "base_uri": "https://localhost:8080/",
          "height": 34
        }
      },
      "source": [
        "X_train_mean = np.mean(X_train, axis=(0,1,2))\n",
        "X_train_std = np.std(X_train, axis=(0,1,2))\n",
        "print(X_train_mean, X_train_std)"
      ],
      "execution_count": 0,
      "outputs": [
        {
          "output_type": "stream",
          "text": [
            "[ 0.4914009   0.48215896  0.44653079] [ 0.24703279  0.24348423  0.26158753]\n"
          ],
          "name": "stdout"
        }
      ]
    },
    {
      "cell_type": "code",
      "metadata": {
        "colab_type": "code",
        "id": "pzRLfIA8Q-xx",
        "outputId": "8bb248a8-747f-4629-adcc-3807bb265ab8",
        "colab": {
          "base_uri": "https://localhost:8080/",
          "height": 34
        }
      },
      "source": [
        "X_test_mean = np.mean(X_test, axis=(0,1,2))\n",
        "X_test_std = np.std(X_test, axis=(0,1,2))\n",
        "print(X_test_mean, X_test_std)"
      ],
      "execution_count": 0,
      "outputs": [
        {
          "output_type": "stream",
          "text": [
            "[ 0.49421427  0.48513219  0.45040992] [ 0.24665268  0.24289216  0.26159221]\n"
          ],
          "name": "stdout"
        }
      ]
    },
    {
      "cell_type": "code",
      "metadata": {
        "colab_type": "code",
        "id": "oOh0j981RHnW",
        "colab": {}
      },
      "source": [
        "X_train = (X_train - X_train_mean) / X_train_std\n",
        "X_test = (X_test - X_test_mean) / X_test_std"
      ],
      "execution_count": 0,
      "outputs": []
    },
    {
      "cell_type": "code",
      "metadata": {
        "colab_type": "code",
        "id": "2smHikv8OChz",
        "colab": {}
      },
      "source": [
        "def plot_model_history(model_history):\n",
        "    fig, axs = plt.subplots(1,2,figsize=(15,5))\n",
        "    # summarize history for accuracy\n",
        "    axs[0].plot(range(1,len(model_history.history['acc'])+1),model_history.history['acc'])\n",
        "    axs[0].plot(range(1,len(model_history.history['val_acc'])+1),model_history.history['val_acc'])\n",
        "    axs[0].set_title('Model Accuracy')\n",
        "    axs[0].set_ylabel('Accuracy')\n",
        "    axs[0].set_xlabel('Epoch')\n",
        "    axs[0].set_xticks(np.arange(1,len(model_history.history['acc'])+1),len(model_history.history['acc'])/10)\n",
        "    axs[0].legend(['train', 'val'], loc='best')\n",
        "    # summarize history for loss\n",
        "    axs[1].plot(range(1,len(model_history.history['loss'])+1),model_history.history['loss'])\n",
        "    axs[1].plot(range(1,len(model_history.history['val_loss'])+1),model_history.history['val_loss'])\n",
        "    axs[1].set_title('Model Loss')\n",
        "    axs[1].set_ylabel('Loss')\n",
        "    axs[1].set_xlabel('Epoch')\n",
        "    axs[1].set_xticks(np.arange(1,len(model_history.history['loss'])+1),len(model_history.history['loss'])/10)\n",
        "    axs[1].legend(['train', 'val'], loc='best')\n",
        "    plt.show()"
      ],
      "execution_count": 0,
      "outputs": []
    },
    {
      "cell_type": "code",
      "metadata": {
        "colab_type": "code",
        "id": "W7S_Eg5lODYv",
        "colab": {}
      },
      "source": [
        "def accuracy(validation_iterator, test_y, model):\n",
        "    result = model.evaluate_generator(validation_iterator, steps = len(validation_iterator))\n",
        "    predicted_class = np.argmax(result, axis=1)\n",
        "    true_class = np.argmax(test_y, axis=1)\n",
        "    num_correct = np.sum(predicted_class == true_class) \n",
        "    accuracy = float(num_correct)/result.shape[0]\n",
        "    return (accuracy * 100)"
      ],
      "execution_count": 0,
      "outputs": []
    },
    {
      "cell_type": "code",
      "metadata": {
        "colab_type": "code",
        "id": "wMpsqn_O0CvI",
        "colab": {}
      },
      "source": [
        "def show_examples(X,y,classes):\n",
        "    rows = int(np.ceil(len(X)/5))\n",
        "    if X.shape[1] > 64:\n",
        "        multiplier = 2\n",
        "    else:\n",
        "        multiplier = 1\n",
        "    fig = plt.figure(figsize=(10*multiplier, rows*2*multiplier))\n",
        "    for idx in np.arange(len(X)):\n",
        "        img = X[idx]\n",
        "        assert (len(img.shape)==3 and img.shape[2] in [1,3,4]) or len(img.shape)==2\n",
        "        ax = fig.add_subplot(rows, 5, idx + 1, xticks=[], yticks=[])\n",
        "        cmap = None\n",
        "        if (len(img.shape)==3 and img.shape[2]==1) or len(img.shape)==2:\n",
        "            cmap=\"binary\"\n",
        "        if len(img.shape)==3 and img.shape[2]==1:\n",
        "            img = img.reshape((img.shape[0],img.shape[1]))\n",
        "        ax.imshow(img,cmap=cmap)\n",
        "        ax.set_title(classes[np.argmax(y[idx])])\n",
        "    plt.show()"
      ],
      "execution_count": 0,
      "outputs": []
    },
    {
      "cell_type": "code",
      "metadata": {
        "colab_type": "code",
        "id": "PFJt6i8e0IzH",
        "colab": {}
      },
      "source": [
        "def get_cifar10_labels():\n",
        "    return ['airplane','automobile','bird','cat','deer','dog','frog','horse','ship','truck']"
      ],
      "execution_count": 0,
      "outputs": []
    },
    {
      "cell_type": "code",
      "metadata": {
        "colab_type": "code",
        "id": "GMBWETcC0wi4",
        "colab": {}
      },
      "source": [
        "def min_max_scale(X):\n",
        "  return (X - np.min(X))/(np.max(X)-np.min(X))"
      ],
      "execution_count": 0,
      "outputs": []
    },
    {
      "cell_type": "code",
      "metadata": {
        "colab_type": "code",
        "id": "dDK_7gDlHEFC",
        "colab": {}
      },
      "source": [
        "def get_cutout_eraser_and_padcrop(p=0.5, s_l=0.3, s_h=0.3, r_1=0.3, r_2=1 / 0.3, max_erasures_per_image=1, pixel_level=True, random_crop_size=(32, 32), padding_pixels=4):\n",
        "    \"\"\"\n",
        "    :param p:\n",
        "    :param s_l: Minimum Area Proportion of Original that may be cut\n",
        "    :param s_h: Maximum Area Proportion of Original that may be cut\n",
        "    :param r_1: Min Aspect Ratio\n",
        "    :param r_2: Max Aspect Ratio\n",
        "    :param max_erasures_per_image:\n",
        "    :param pixel_level:\n",
        "    :return: Eraser to be used as Preprocessing Function\n",
        "    \"\"\"\n",
        "    assert max_erasures_per_image >= 1\n",
        "\n",
        "    def eraser(input_img):\n",
        "        v_l = np.min(input_img)\n",
        "        v_h = np.max(input_img)\n",
        "        img_h, img_w, img_c = input_img.shape\n",
        "        p_1 = np.random.rand()\n",
        "\n",
        "        if p_1 > p:\n",
        "            return input_img\n",
        "\n",
        "        mx = np.random.randint(1, max_erasures_per_image + 1)\n",
        "        # print(\"Erasures = \",mx,end =\", \")\n",
        "        for i in range(mx):\n",
        "            while True:\n",
        "                s = np.random.uniform(s_l, s_h) * img_h * img_w\n",
        "                r = np.random.uniform(r_1, r_2)\n",
        "                w = int(np.sqrt(s / r))\n",
        "                h = int(np.sqrt(s * r))\n",
        "                left = np.random.randint(0, img_w)\n",
        "                top = np.random.randint(0, img_h)\n",
        "\n",
        "                if left + w <= img_w and top + h <= img_h:\n",
        "                    break\n",
        "\n",
        "            # print(\"W = \",w,\"H = \",h,end =\", \")\n",
        "\n",
        "            if pixel_level:\n",
        "                # print(np.max(img_c),np.min(img_c),v_l,v_h)\n",
        "                c = np.random.uniform(v_l, v_h, (h, w, img_c))\n",
        "                # print(c.shape,np.min(c),np.max(c),np.median(c))\n",
        "            else:\n",
        "                #c = np.random.uniform(v_l, v_h)\n",
        "                c = np.mean(input_img)\n",
        "\n",
        "            input_img[top:top + h, left:left + w, :] = c\n",
        "\n",
        "        # print()\n",
        "        return input_img\n",
        "     \n",
        "    def random_crop(input_image):\n",
        "          # Note: image_data_format is 'channel_last'\n",
        "          assert input_image.shape[2] == 3\n",
        "          \n",
        "          #Pad by 4 pixels\n",
        "          img = cv2.copyMakeBorder(input_image, padding_pixels, padding_pixels, padding_pixels, padding_pixels, cv2.BORDER_REPLICATE)\n",
        "          \n",
        "          height, width = img.shape[0], img.shape[1]\n",
        "          dy, dx = random_crop_size\n",
        "          x = np.random.randint(0, width - dx + 1)\n",
        "          y = np.random.randint(0, height - dy + 1)\n",
        "          return img[y:(y+dy), x:(x+dx), :]\n",
        "        \n",
        "    def preproc_image(input_image):\n",
        "      #return eraser\n",
        "      return eraser(random_crop(input_image))\n",
        "\n",
        "    return preproc_image\n",
        "      \n",
        "        "
      ],
      "execution_count": 0,
      "outputs": []
    },
    {
      "cell_type": "code",
      "metadata": {
        "colab_type": "code",
        "id": "JBPdtlO75o2O",
        "outputId": "2bfce33f-b8fd-4559-8a01-247ba74c4a45",
        "colab": {
          "base_uri": "https://localhost:8080/",
          "height": 264
        }
      },
      "source": [
        "datagen = tf.keras.preprocessing.image.ImageDataGenerator(\n",
        "   #featurewise_center=True,\n",
        "   #featurewise_std_normalization=True,\n",
        "   horizontal_flip=0.5,                 # randomly flip images                                     \n",
        "   preprocessing_function=get_cutout_eraser_and_padcrop(p=0.5, s_l=0.25, s_h=0.25, r_1=0.2, r_2=1 / 0.3, max_erasures_per_image=1, pixel_level=False))\n",
        "\n",
        "_ = datagen.fit(X_train)\n",
        "train_iterator = datagen.flow(X_train, Y_train, batch_size=batch_size, shuffle=False)\n",
        "\n",
        "X_e, Y_e = train_iterator.next()\n",
        "X_e = min_max_scale(X_e)\n",
        "show_examples(X_e[0:10], Y_e[0:10], classes = get_cifar10_labels())"
      ],
      "execution_count": 0,
      "outputs": [
        {
          "output_type": "display_data",
          "data": {
            "image/png": "[encoded data removed]",
            "text/plain": [
              "<Figure size 720x288 with 10 Axes>"
            ]
          },
          "metadata": {
            "tags": []
          }
        }
      ]
    },
    {
      "cell_type": "code",
      "metadata": {
        "colab_type": "code",
        "id": "oxc5QhiQR1X6",
        "colab": {}
      },
      "source": [
        "datagen_validation = tf.keras.preprocessing.image.ImageDataGenerator()\n",
        "datagen_validation.fit(X_test)\n",
        "validation_iterator = datagen_validation.flow(X_test, Y_test, batch_size=batch_size, shuffle=False)"
      ],
      "execution_count": 0,
      "outputs": []
    },
    {
      "cell_type": "code",
      "metadata": {
        "colab_type": "code",
        "id": "suxU4w1SF6EX",
        "outputId": "ec67daa3-0aa0-4172-94cd-6e6eb65cd4a1",
        "colab": {
          "base_uri": "https://localhost:8080/",
          "height": 298
        }
      },
      "source": [
        "def min_max_scaler(iterations, num_iterations, end_percentage, min_val, max_val, invert = False, triangle_tilt = 0.65):\n",
        "  non_slant_mid_cycle_id = int(num_iterations * ((1. - end_percentage)) / float(2))\n",
        "  mid_cycle_id = int(triangle_tilt*int(num_iterations * ((1. - end_percentage)) / float(2)))\n",
        "  value = 0\n",
        "  if iterations > 2 * non_slant_mid_cycle_id:\n",
        "    \n",
        "    \n",
        "      extra_iters = (iterations - 2 * non_slant_mid_cycle_id)\n",
        "      current_percentage = 1 - (1 - 1/10)*extra_iters/(num_iterations - 2 * non_slant_mid_cycle_id)\n",
        "            \n",
        "\n",
        "  elif iterations >  mid_cycle_id:\n",
        "      current_percentage = 1. - (iterations - mid_cycle_id) / (2*non_slant_mid_cycle_id - mid_cycle_id)\n",
        "      \n",
        "  else:\n",
        "      current_percentage = iterations / mid_cycle_id\n",
        "      \n",
        "  if invert:\n",
        "    if iterations > 2 * non_slant_mid_cycle_id:\n",
        "      return max_val\n",
        "    return max_val - current_percentage * (max_val - min_val)\n",
        "  else:\n",
        "    if iterations > 2 * non_slant_mid_cycle_id:\n",
        "      return min_val * current_percentage\n",
        "    return min_val + current_percentage * (max_val - min_val)\n",
        "  \n",
        "    \n",
        "\n",
        "print(\"=\"*80)\n",
        "scales = []\n",
        "for i in range(1000):\n",
        "  p = min_max_scaler(i,1000,0.1,min_val=0.1,max_val=1, invert=False)\n",
        "  scales.append(p)\n",
        "  \n",
        "plt.plot(np.array(scales))\n",
        "plt.title(\"LR Graph\")\n",
        "plt.show()"
      ],
      "execution_count": 0,
      "outputs": [
        {
          "output_type": "stream",
          "text": [
            "================================================================================\n"
          ],
          "name": "stdout"
        },
        {
          "output_type": "display_data",
          "data": {
            "image/png": "[encoded data removed]",
            "text/plain": [
              "<Figure size 432x288 with 1 Axes>"
            ]
          },
          "metadata": {
            "tags": []
          }
        }
      ]
    },
    {
      "cell_type": "code",
      "metadata": {
        "colab_type": "code",
        "id": "v_zaj292F7PD",
        "colab": {}
      },
      "source": [
        "import os\n",
        "import numpy as np\n",
        "import warnings\n",
        "\n",
        "from tensorflow.keras.callbacks import Callback\n",
        "from tensorflow.keras import backend as K\n",
        "\n",
        "from tensorflow.keras.layers import (\n",
        "    Conv2D,\n",
        "    MaxPooling2D,\n",
        "    AveragePooling2D\n",
        ")\n",
        "\n",
        "\n",
        "# Code is ported from https://github.com/fastai/fastai\n",
        "class OneCycleLR(Callback):\n",
        "    def __init__(self,\n",
        "                 epochs,\n",
        "                 batch_size,\n",
        "                 samples,\n",
        "                 steps,\n",
        "                 max_lr,\n",
        "                 end_percentage=0.1,\n",
        "                 scale=100,\n",
        "                 maximum_momentum=0.95,\n",
        "                 minimum_momentum=0.85,\n",
        "                 triangle_tilt = 0.75,\n",
        "                 verbose=True):\n",
        "        \"\"\" This callback implements a cyclical learning rate policy (CLR).\n",
        "        This is a special case of Cyclic Learning Rates, where we have only 1 cycle.\n",
        "        After the completion of 1 cycle, the learning rate will decrease rapidly to\n",
        "        100th its initial lowest value.\n",
        "        # Arguments:\n",
        "            max_lr: Float. Initial learning rate. This also sets the\n",
        "                starting learning rate (which will be 10x smaller than\n",
        "                this), and will increase to this value during the first cycle.\n",
        "            end_percentage: Float. The percentage of all the epochs of training\n",
        "                that will be dedicated to sharply decreasing the learning\n",
        "                rate after the completion of 1 cycle. Must be between 0 and 1.\n",
        "            scale_percentage: Float or None. If float, must be between 0 and 1.\n",
        "                If None, it will compute the scale_percentage automatically\n",
        "                based on the `end_percentage`.\n",
        "            maximum_momentum: Optional. Sets the maximum momentum (initial)\n",
        "                value, which gradually drops to its lowest value in half-cycle,\n",
        "                then gradually increases again to stay constant at this max value.\n",
        "                Can only be used with SGD Optimizer.\n",
        "            minimum_momentum: Optional. Sets the minimum momentum at the end of\n",
        "                the half-cycle. Can only be used with SGD Optimizer.\n",
        "            verbose: Bool. Whether to print the current learning rate after every\n",
        "                epoch.\n",
        "        # Reference\n",
        "            - [A disciplined approach to neural network hyper-parameters: Part 1 -- learning rate, batch size, weight_decay, and weight decay](https://arxiv.org/abs/1803.09820)\n",
        "            - [Super-Convergence: Very Fast Training of Residual Networks Using Large Learning Rates](https://arxiv.org/abs/1708.07120)\n",
        "        \"\"\"\n",
        "        super(OneCycleLR, self).__init__()\n",
        "\n",
        "        if end_percentage < 0. or end_percentage > 1.:\n",
        "            raise ValueError(\"`end_percentage` must be between 0 and 1\")\n",
        "\n",
        "\n",
        "        self.initial_lr = max_lr\n",
        "        self.end_percentage = end_percentage\n",
        "        self.scale = scale\n",
        "        self.max_momentum = maximum_momentum\n",
        "        self.min_momentum = minimum_momentum\n",
        "        self.verbose = verbose\n",
        "\n",
        "        if self.max_momentum is not None and self.min_momentum is not None:\n",
        "            self._update_momentum = True\n",
        "        else:\n",
        "            self._update_momentum = False\n",
        "\n",
        "        self.clr_iterations = 0.\n",
        "        self.history = {}\n",
        "\n",
        "        self.epochs = epochs\n",
        "        self.batch_size = batch_size\n",
        "        self.samples = samples\n",
        "        self.steps = steps\n",
        "        self.num_iterations = None\n",
        "        self.mid_cycle_id = None\n",
        "\n",
        "    def _reset(self):\n",
        "        \"\"\"\n",
        "        Reset the callback.\n",
        "        \"\"\"\n",
        "        self.clr_iterations = 0.\n",
        "        self.history = {}\n",
        "\n",
        "    def compute_lr(self):\n",
        "        \"\"\"\n",
        "        Compute the learning rate based on which phase of the cycle it is in.\n",
        "        - If in the first half of training, the learning rate gradually increases.\n",
        "        - If in the second half of training, the learning rate gradually decreases.\n",
        "        - If in the final `end_percentage` portion of training, the learning rate\n",
        "            is quickly reduced to near 100th of the original min learning rate.\n",
        "        # Returns:\n",
        "            the new learning rate\n",
        "        \"\"\"\n",
        "        new_lr = min_max_scaler(self.clr_iterations, self.num_iterations, self.end_percentage, self.initial_lr/self.scale, self.initial_lr, invert = False, triangle_tilt=triangle_tilt)\n",
        "        return new_lr\n",
        "\n",
        "    def compute_momentum(self):\n",
        "        \"\"\"\n",
        "         Compute the momentum based on which phase of the cycle it is in.\n",
        "        - If in the first half of training, the momentum gradually decreases.\n",
        "        - If in the second half of training, the momentum gradually increases.\n",
        "        - If in the final `end_percentage` portion of training, the momentum value\n",
        "            is kept constant at the maximum initial value.\n",
        "        # Returns:\n",
        "            the new momentum value\n",
        "        \"\"\"    \n",
        "        new_momentum = min_max_scaler(self.clr_iterations, self.num_iterations, self.end_percentage, self.min_momentum, self.max_momentum, invert = True, triangle_tilt=triangle_tilt)\n",
        "        return new_momentum\n",
        "\n",
        "    def on_train_begin(self, logs={}):\n",
        "        logs = logs or {}\n",
        "\n",
        "        if self.steps is not None:\n",
        "            self.num_iterations = self.epochs * self.steps\n",
        "        else:\n",
        "            if (self.samples % self.batch_size) == 0:\n",
        "                remainder = 0\n",
        "            else:\n",
        "                remainder = 1\n",
        "            self.num_iterations = (self.epochs + remainder) * self.samples // self.batch_size\n",
        "\n",
        "        self.mid_cycle_id = int(self.num_iterations * ((1. - self.end_percentage)) / float(2))\n",
        "\n",
        "        self._reset()\n",
        "        K.set_value(self.model.optimizer.lr, self.compute_lr())\n",
        "\n",
        "        if self._update_momentum:\n",
        "            if not hasattr(self.model.optimizer, 'momentum'):\n",
        "                raise ValueError(\"Momentum can be updated only on SGD optimizer !\")\n",
        "\n",
        "            new_momentum = self.compute_momentum()\n",
        "            K.set_value(self.model.optimizer.momentum, new_momentum)\n",
        "\n",
        "    def on_batch_end(self, epoch, logs=None):\n",
        "        logs = logs or {}\n",
        "\n",
        "        self.clr_iterations += 1\n",
        "        new_lr = self.compute_lr()\n",
        "\n",
        "        self.history.setdefault('lr', []).append(\n",
        "            K.get_value(self.model.optimizer.lr))\n",
        "        K.set_value(self.model.optimizer.lr, new_lr)\n",
        "\n",
        "        if self._update_momentum:\n",
        "            if not hasattr(self.model.optimizer, 'momentum'):\n",
        "                raise ValueError(\"Momentum can be updated only on SGD optimizer !\")\n",
        "\n",
        "            new_momentum = self.compute_momentum()\n",
        "\n",
        "            self.history.setdefault('momentum', []).append(\n",
        "                K.get_value(self.model.optimizer.momentum))\n",
        "            K.set_value(self.model.optimizer.momentum, new_momentum)\n",
        "\n",
        "        for k, v in logs.items():\n",
        "            self.history.setdefault(k, []).append(v)\n",
        "\n",
        "    def on_epoch_end(self, epoch, logs=None):\n",
        "        if self.verbose:\n",
        "            if self._update_momentum:\n",
        "                print(\" - lr: %0.5f - momentum: %0.2f \" %\n",
        "                      (self.history['lr'][-1], self.history['momentum'][-1]))\n",
        "\n",
        "            else:\n",
        "                print(\" - lr: %0.5f \" % (self.history['lr'][-1]))\n",
        "                \n",
        "    \n",
        "    def plot(self):\n",
        "        plt.title(\"LR-Plot\")\n",
        "        plt.plot(self.history['lr'])\n",
        "        plt.xlabel(\"Epochs\")\n",
        "        plt.ylabel(\"LR\")\n",
        "        plt.show()\n",
        "        \n",
        "        plt.title(\"Momentum-Plot\")\n",
        "        plt.plot(self.history['momentum'])\n",
        "        plt.xlabel(\"Epochs\")\n",
        "        plt.ylabel(\"Momentum\")\n",
        "        plt.show()"
      ],
      "execution_count": 0,
      "outputs": []
    },
    {
      "cell_type": "code",
      "metadata": {
        "colab_type": "code",
        "id": "H_e-8-U1IRRx",
        "colab": {}
      },
      "source": [
        "class StopAtAccValue(Callback):\n",
        "  def __init__(self,validation_iterator, threshold = 0.9, ):\n",
        "    super(StopAtAccValue, self).__init__()\n",
        "    self.threshold = threshold\n",
        "    self.validation_iterator = validation_iterator\n",
        "  def on_epoch_end(self, epoch, logs={}):\n",
        "    score = self.model.evaluate_generator(self.validation_iterator,steps=len(self.validation_iterator))\n",
        "    acc = score[1]\n",
        "    if acc >= self.threshold:\n",
        "      self.model.stop_training = True\n",
        "      print(\"Stopping Training:: Val Acc = %.3f Achieved\"%(acc))\n",
        "    else:\n",
        "      print(\"Continue Training:: Val Acc = %.3f, Threshold = %.3f\"%(acc,self.threshold))"
      ],
      "execution_count": 0,
      "outputs": []
    },
    {
      "cell_type": "markdown",
      "metadata": {
        "id": "QYlHpHZQ_3IS",
        "colab_type": "text"
      },
      "source": [
        "# Architecture"
      ]
    },
    {
      "cell_type": "code",
      "metadata": {
        "colab_type": "code",
        "id": "Xw99r41ootKJ",
        "colab": {}
      },
      "source": [
        "input_shape=(32, 32, 3)\n",
        "num_outputs = 10"
      ],
      "execution_count": 0,
      "outputs": []
    },
    {
      "cell_type": "code",
      "metadata": {
        "colab_type": "code",
        "id": "YJruJMa5otKo",
        "colab": {}
      },
      "source": [
        "#Define DawnNet model\n",
        "input = tf.keras.layers.Input(shape=input_shape)\n",
        "\n",
        "prep = tf.keras.layers.Conv2D(filters=32,\n",
        "                          kernel_size=(3, 3),\n",
        "                          strides=(1, 1),\n",
        "                          padding=\"same\",\n",
        "                          #kernel_initializer=\"he_normal\",\n",
        "                          kernel_regularizer=l2(0.0001))(input)\n",
        "prep = tf.keras.layers.BatchNormalization(axis=3,momentum=0.9, epsilon=1e-5)(prep)\n",
        "prep = tf.keras.layers.Activation(\"relu\")(prep)\n",
        "\n",
        "layer1 = tf.keras.layers.Conv2D(filters=64,\n",
        "                          kernel_size=(3, 3),\n",
        "                          strides=(1, 1),\n",
        "                          padding=\"same\",\n",
        "                          #kernel_initializer=\"he_normal\",\n",
        "                          kernel_regularizer=l2(0.0001))(prep)\n",
        "layer1 = tf.keras.layers.BatchNormalization(axis=3,momentum=0.9, epsilon=1e-5)(layer1)\n",
        "layer1 = tf.keras.layers.Activation(\"relu\")(layer1)\n",
        "layer1 = tf.keras.layers.MaxPooling2D(pool_size=(2, 2), strides=(2, 2), padding=\"same\")(layer1)\n",
        "\n",
        "layer1_res1_identity = tf.keras.layers.Conv2D(filters=32,\n",
        "                          kernel_size=(1, 1),\n",
        "                          strides=(1, 1),\n",
        "                          padding=\"same\",\n",
        "                          #kernel_initializer=\"he_normal\",\n",
        "                          kernel_regularizer=l2(0.0001))(layer1)\n",
        "layer1_res1 = tf.keras.layers.Conv2D(filters=64,\n",
        "                          kernel_size=(3, 3),\n",
        "                          strides=(1, 1),\n",
        "                          padding=\"same\",\n",
        "                          #kernel_initializer=\"he_normal\",\n",
        "                          kernel_regularizer=l2(0.0001))(layer1_res1_identity)\n",
        "layer1_res1 = tf.keras.layers.BatchNormalization(axis=3,momentum=0.9, epsilon=1e-5)(layer1_res1)\n",
        "layer1_res1 = tf.keras.layers.Activation(\"relu\")(layer1_res1)\n",
        "\n",
        "layer1_res2 = tf.keras.layers.Conv2D(filters=128,\n",
        "                          kernel_size=(3, 3),\n",
        "                          strides=(1, 1),\n",
        "                          padding=\"same\",\n",
        "                          kernel_initializer=\"he_normal\",\n",
        "                          kernel_regularizer=l2(0.0001))(layer1_res1)\n",
        "layer1_res2 = tf.keras.layers.BatchNormalization(axis=3,momentum=0.9, epsilon=1e-5)(layer1_res2)\n",
        "layer1_res2 = tf.keras.layers.Activation(\"relu\")(layer1_res2)\n",
        "\n",
        "concat1 = tf.keras.layers.concatenate([layer1_res1_identity, layer1_res2])\n",
        "\n",
        "\n",
        "layer2 = tf.keras.layers.Conv2D(filters=192,\n",
        "                          kernel_size=(3, 3),\n",
        "                          strides=(1, 1),\n",
        "                          padding=\"same\",\n",
        "                          #kernel_initializer=\"he_normal\",\n",
        "                          kernel_regularizer=l2(0.0001))(concat1)\n",
        "layer2 = tf.keras.layers.BatchNormalization(axis=3,momentum=0.9, epsilon=1e-5)(layer2)\n",
        "layer2 = tf.keras.layers.Activation(\"relu\")(layer2)\n",
        "layer2 = tf.keras.layers.MaxPooling2D(pool_size=(2, 2), strides=(2, 2), padding=\"same\")(layer2)\n",
        "\n",
        "\n",
        "layer3 = tf.keras.layers.Conv2D(filters=256,\n",
        "                          kernel_size=(3, 3),\n",
        "                          strides=(1, 1),\n",
        "                          padding=\"same\",\n",
        "                          #kernel_initializer=\"he_normal\",\n",
        "                          kernel_regularizer=l2(0.0001))(layer2)\n",
        "layer3 = tf.keras.layers.BatchNormalization(axis=3,momentum=0.9, epsilon=1e-5)(layer3)\n",
        "layer3 = tf.keras.layers.Activation(\"relu\")(layer3)\n",
        "\n",
        "\n",
        "gmp = tf.keras.layers.GlobalMaxPooling2D()(layer3)#(concat2)\n",
        "#dense = tf.keras.layers.Dense(units=num_outputs, kernel_initializer=\"he_normal\", activation=\"softmax\")(gmp)\n",
        "dense = tf.keras.layers.Dense(units=num_outputs, activation=\"softmax\")(gmp)\n",
        "\n",
        "model = tf.keras.models.Model(inputs=input, outputs=dense)\n",
        "\n"
      ],
      "execution_count": 0,
      "outputs": []
    },
    {
      "cell_type": "code",
      "metadata": {
        "colab_type": "code",
        "id": "Pq0cfgGAp5Q8",
        "outputId": "a667de1c-8d9d-4776-e1cb-4e4bab26be10",
        "colab": {
          "base_uri": "https://localhost:8080/",
          "height": 1000
        }
      },
      "source": [
        "model.summary()"
      ],
      "execution_count": 0,
      "outputs": [
        {
          "output_type": "stream",
          "text": [
            "__________________________________________________________________________________________________\n",
            "Layer (type)                    Output Shape         Param #     Connected to                     \n",
            "==================================================================================================\n",
            "input_16 (InputLayer)           (None, 32, 32, 3)    0                                            \n",
            "__________________________________________________________________________________________________\n",
            "conv2d_105 (Conv2D)             (None, 32, 32, 32)   896         input_16[0][0]                   \n",
            "__________________________________________________________________________________________________\n",
            "batch_normalization_90 (BatchNo (None, 32, 32, 32)   128         conv2d_105[0][0]                 \n",
            "__________________________________________________________________________________________________\n",
            "activation_90 (Activation)      (None, 32, 32, 32)   0           batch_normalization_90[0][0]     \n",
            "__________________________________________________________________________________________________\n",
            "conv2d_106 (Conv2D)             (None, 32, 32, 64)   18496       activation_90[0][0]              \n",
            "__________________________________________________________________________________________________\n",
            "batch_normalization_91 (BatchNo (None, 32, 32, 64)   256         conv2d_106[0][0]                 \n",
            "__________________________________________________________________________________________________\n",
            "activation_91 (Activation)      (None, 32, 32, 64)   0           batch_normalization_91[0][0]     \n",
            "__________________________________________________________________________________________________\n",
            "max_pooling2d_18 (MaxPooling2D) (None, 16, 16, 64)   0           activation_91[0][0]              \n",
            "__________________________________________________________________________________________________\n",
            "conv2d_107 (Conv2D)             (None, 16, 16, 32)   2080        max_pooling2d_18[0][0]           \n",
            "__________________________________________________________________________________________________\n",
            "conv2d_108 (Conv2D)             (None, 16, 16, 64)   18496       conv2d_107[0][0]                 \n",
            "__________________________________________________________________________________________________\n",
            "batch_normalization_92 (BatchNo (None, 16, 16, 64)   256         conv2d_108[0][0]                 \n",
            "__________________________________________________________________________________________________\n",
            "activation_92 (Activation)      (None, 16, 16, 64)   0           batch_normalization_92[0][0]     \n",
            "__________________________________________________________________________________________________\n",
            "conv2d_109 (Conv2D)             (None, 16, 16, 128)  73856       activation_92[0][0]              \n",
            "__________________________________________________________________________________________________\n",
            "batch_normalization_93 (BatchNo (None, 16, 16, 128)  512         conv2d_109[0][0]                 \n",
            "__________________________________________________________________________________________________\n",
            "activation_93 (Activation)      (None, 16, 16, 128)  0           batch_normalization_93[0][0]     \n",
            "__________________________________________________________________________________________________\n",
            "concatenate_15 (Concatenate)    (None, 16, 16, 160)  0           conv2d_107[0][0]                 \n",
            "                                                                 activation_93[0][0]              \n",
            "__________________________________________________________________________________________________\n",
            "conv2d_110 (Conv2D)             (None, 16, 16, 192)  276672      concatenate_15[0][0]             \n",
            "__________________________________________________________________________________________________\n",
            "batch_normalization_94 (BatchNo (None, 16, 16, 192)  768         conv2d_110[0][0]                 \n",
            "__________________________________________________________________________________________________\n",
            "activation_94 (Activation)      (None, 16, 16, 192)  0           batch_normalization_94[0][0]     \n",
            "__________________________________________________________________________________________________\n",
            "max_pooling2d_19 (MaxPooling2D) (None, 8, 8, 192)    0           activation_94[0][0]              \n",
            "__________________________________________________________________________________________________\n",
            "conv2d_111 (Conv2D)             (None, 8, 8, 256)    442624      max_pooling2d_19[0][0]           \n",
            "__________________________________________________________________________________________________\n",
            "batch_normalization_95 (BatchNo (None, 8, 8, 256)    1024        conv2d_111[0][0]                 \n",
            "__________________________________________________________________________________________________\n",
            "activation_95 (Activation)      (None, 8, 8, 256)    0           batch_normalization_95[0][0]     \n",
            "__________________________________________________________________________________________________\n",
            "global_max_pooling2d_12 (Global (None, 256)          0           activation_95[0][0]              \n",
            "__________________________________________________________________________________________________\n",
            "dense_15 (Dense)                (None, 10)           2570        global_max_pooling2d_12[0][0]    \n",
            "==================================================================================================\n",
            "Total params: 838,634\n",
            "Trainable params: 837,162\n",
            "Non-trainable params: 1,472\n",
            "__________________________________________________________________________________________________\n"
          ],
          "name": "stdout"
        }
      ]
    },
    {
      "cell_type": "code",
      "metadata": {
        "colab_type": "code",
        "id": "f7UbHnM5-qVZ",
        "colab": {}
      },
      "source": [
        "olr = OneCycleLR(epochs=25, batch_size = batch_size,steps=len(train_iterator), \n",
        "                 samples=X_train.shape[0], max_lr=0.33, verbose = True, scale = 50, end_percentage=end_percentage,\n",
        "                 maximum_momentum = 0.95, minimum_momentum=0.9, triangle_tilt=triangle_tilt)"
      ],
      "execution_count": 0,
      "outputs": []
    },
    {
      "cell_type": "code",
      "metadata": {
        "colab_type": "code",
        "id": "q1tlXxNG-qVf",
        "colab": {}
      },
      "source": [
        "sgd = tf.keras.optimizers.SGD(lr=0.0018, decay=0.000003, momentum=0.9, nesterov=True)\n",
        "\n",
        "# Compile the model\n",
        "model.compile(optimizer=sgd, loss='categorical_crossentropy', metrics=['accuracy'])"
      ],
      "execution_count": 0,
      "outputs": []
    },
    {
      "cell_type": "code",
      "metadata": {
        "colab_type": "code",
        "id": "pcuNhTDT-qVi",
        "colab": {}
      },
      "source": [
        "stopper = StopAtAccValue(validation_iterator, threshold = 0.94)"
      ],
      "execution_count": 0,
      "outputs": []
    },
    {
      "cell_type": "code",
      "metadata": {
        "colab_type": "code",
        "id": "cdoiK7b0-qVk",
        "colab": {}
      },
      "source": [
        "callbacks = [olr]"
      ],
      "execution_count": 0,
      "outputs": []
    },
    {
      "cell_type": "code",
      "metadata": {
        "colab_type": "code",
        "outputId": "bbc6ce8d-b8c2-4ebb-b128-42c0f2a2c38a",
        "id": "nPZ-n_TM-qVn",
        "colab": {
          "base_uri": "https://localhost:8080/",
          "height": 1000
        }
      },
      "source": [
        "# train the model ## v100\n",
        "start = time.time()\n",
        "# Train the model\n",
        "\n",
        "model_info = model.fit_generator(train_iterator,\n",
        "                                 steps_per_epoch = len(train_iterator), epochs = epochs, \n",
        "                                 validation_data = validation_iterator, \n",
        "                                 validation_steps = len(validation_iterator),\n",
        "                                 verbose=2, callbacks=callbacks)\n",
        "end = time.time()\n",
        "print (\"Model took %0.2f seconds to train\"%(end - start))\n",
        "# plot model history\n",
        "plot_model_history(model_info)"
      ],
      "execution_count": 0,
      "outputs": [
        {
          "output_type": "stream",
          "text": [
            "Epoch 1/25\n",
            "WARNING:tensorflow:Method on_batch_end() is slow compared to the batch update (0.101198). Check your callbacks.\n",
            " - lr: 0.04514 - momentum: 0.94 \n",
            " - 8s - loss: 1.9040 - acc: 0.4019 - val_loss: 1.7321 - val_acc: 0.5130\n",
            "Epoch 2/25\n",
            " - lr: 0.08407 - momentum: 0.94 \n",
            " - 5s - loss: 1.2911 - acc: 0.5868 - val_loss: 1.4547 - val_acc: 0.5986\n",
            "Epoch 3/25\n",
            " - lr: 0.12301 - momentum: 0.93 \n",
            " - 5s - loss: 0.9714 - acc: 0.6966 - val_loss: 1.0187 - val_acc: 0.6980\n",
            "Epoch 4/25\n",
            " - lr: 0.16194 - momentum: 0.93 \n",
            " - 5s - loss: 0.8125 - acc: 0.7539 - val_loss: 0.8034 - val_acc: 0.7624\n",
            "Epoch 5/25\n",
            " - lr: 0.20088 - momentum: 0.92 \n",
            " - 5s - loss: 0.7354 - acc: 0.7829 - val_loss: 0.8137 - val_acc: 0.7533\n",
            "Epoch 6/25\n",
            " - lr: 0.23981 - momentum: 0.91 \n",
            " - 5s - loss: 0.7124 - acc: 0.7946 - val_loss: 0.7994 - val_acc: 0.7795\n",
            "Epoch 7/25\n",
            " - lr: 0.27875 - momentum: 0.91 \n",
            " - 5s - loss: 0.6889 - acc: 0.8091 - val_loss: 0.7365 - val_acc: 0.8007\n",
            "Epoch 8/25\n",
            " - lr: 0.31768 - momentum: 0.90 \n",
            " - 5s - loss: 0.6664 - acc: 0.8177 - val_loss: 1.1952 - val_acc: 0.6661\n",
            "Epoch 9/25\n",
            " - lr: 0.31567 - momentum: 0.90 \n",
            " - 5s - loss: 0.6415 - acc: 0.8293 - val_loss: 0.6438 - val_acc: 0.8352\n",
            "Epoch 10/25\n",
            " - lr: 0.29471 - momentum: 0.91 \n",
            " - 5s - loss: 0.6101 - acc: 0.8438 - val_loss: 0.6729 - val_acc: 0.8342\n",
            "Epoch 11/25\n",
            " - lr: 0.27375 - momentum: 0.91 \n",
            " - 5s - loss: 0.5817 - acc: 0.8539 - val_loss: 0.7222 - val_acc: 0.8142\n",
            "Epoch 12/25\n",
            " - lr: 0.25279 - momentum: 0.91 \n",
            " - 6s - loss: 0.5602 - acc: 0.8662 - val_loss: 0.6462 - val_acc: 0.8406\n",
            "Epoch 13/25\n",
            " - lr: 0.23182 - momentum: 0.92 \n",
            " - 6s - loss: 0.5379 - acc: 0.8741 - val_loss: 0.7035 - val_acc: 0.8243\n",
            "Epoch 14/25\n",
            " - lr: 0.21086 - momentum: 0.92 \n",
            " - 6s - loss: 0.5196 - acc: 0.8804 - val_loss: 0.6888 - val_acc: 0.8357\n",
            "Epoch 15/25\n",
            " - lr: 0.18990 - momentum: 0.92 \n",
            " - 6s - loss: 0.4931 - acc: 0.8900 - val_loss: 0.5978 - val_acc: 0.8590\n",
            "Epoch 16/25\n",
            " - lr: 0.16894 - momentum: 0.92 \n",
            " - 6s - loss: 0.4809 - acc: 0.8948 - val_loss: 0.5607 - val_acc: 0.8710\n",
            "Epoch 17/25\n",
            " - lr: 0.14798 - momentum: 0.93 \n",
            " - 5s - loss: 0.4653 - acc: 0.9010 - val_loss: 0.5569 - val_acc: 0.8740\n",
            "Epoch 18/25\n",
            " - lr: 0.12702 - momentum: 0.93 \n",
            " - 5s - loss: 0.4428 - acc: 0.9080 - val_loss: 0.5510 - val_acc: 0.8795\n",
            "Epoch 19/25\n",
            " - lr: 0.10606 - momentum: 0.93 \n",
            " - 5s - loss: 0.4235 - acc: 0.9153 - val_loss: 0.5202 - val_acc: 0.8887\n",
            "Epoch 20/25\n",
            " - lr: 0.08510 - momentum: 0.94 \n",
            " - 5s - loss: 0.4036 - acc: 0.9204 - val_loss: 0.5078 - val_acc: 0.8900\n",
            "Epoch 21/25\n",
            " - lr: 0.06414 - momentum: 0.94 \n",
            " - 5s - loss: 0.3785 - acc: 0.9288 - val_loss: 0.4995 - val_acc: 0.8929\n",
            "Epoch 22/25\n",
            " - lr: 0.04318 - momentum: 0.94 \n",
            " - 6s - loss: 0.3545 - acc: 0.9357 - val_loss: 0.4684 - val_acc: 0.9044\n",
            "Epoch 23/25\n",
            " - lr: 0.02221 - momentum: 0.95 \n",
            " - 6s - loss: 0.3247 - acc: 0.9454 - val_loss: 0.4545 - val_acc: 0.9102\n",
            "Epoch 24/25\n",
            " - lr: 0.00540 - momentum: 0.95 \n",
            " - 6s - loss: 0.3000 - acc: 0.9541 - val_loss: 0.4347 - val_acc: 0.9165\n",
            "Epoch 25/25\n",
            " - lr: 0.00071 - momentum: 0.95 \n",
            " - 6s - loss: 0.2825 - acc: 0.9600 - val_loss: 0.4287 - val_acc: 0.9184\n",
            "Model took 140.87 seconds to train\n"
          ],
          "name": "stdout"
        },
        {
          "output_type": "display_data",
          "data": {
            "image/png": "[encoded data removed]",
            "text/plain": [
              "<Figure size 1080x360 with 2 Axes>"
            ]
          },
          "metadata": {
            "tags": []
          }
        }
      ]
    },
    {
      "cell_type": "markdown",
      "metadata": {
        "id": "oweAdlB_ABVJ",
        "colab_type": "text"
      },
      "source": [
        "## Achieved 91.84 in 140 sec"
      ]
    }
  ]
}