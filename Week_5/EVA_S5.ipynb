{
  "nbformat": 4,
  "nbformat_minor": 0,
  "metadata": {
    "colab": {
      "name": "EVA_S5.ipynb",
      "version": "0.3.2",
      "provenance": [],
      "collapsed_sections": []
    },
    "kernelspec": {
      "name": "python3",
      "display_name": "Python 3"
    },
    "accelerator": "GPU"
  },
  "cells": [
    {
      "cell_type": "code",
      "metadata": {
        "id": "L9HfbxQpVK01",
        "colab_type": "code",
        "outputId": "49129102-438c-4c34-efa7-f1c9df94912a",
        "colab": {
          "base_uri": "https://localhost:8080/",
          "height": 34
        }
      },
      "source": [
        "!ls"
      ],
      "execution_count": 0,
      "outputs": [
        {
          "output_type": "stream",
          "text": [
            "sample_data\n"
          ],
          "name": "stdout"
        }
      ]
    },
    {
      "cell_type": "markdown",
      "metadata": {
        "id": "m-Ja0m4eVa0M",
        "colab_type": "text"
      },
      "source": [
        "# Importing required libraries and modules"
      ]
    },
    {
      "cell_type": "code",
      "metadata": {
        "id": "0SJyVpgSxHt4",
        "colab_type": "code",
        "outputId": "0e57e95a-9d69-4e4d-ae47-79755b1f2ad6",
        "colab": {
          "base_uri": "https://localhost:8080/",
          "height": 34
        }
      },
      "source": [
        "import numpy as np\n",
        "from matplotlib import pyplot as plt\n",
        "\n",
        "from keras.models import Sequential\n",
        "from keras.layers import Dense, Dropout, Activation, Flatten, Add, BatchNormalization, Conv2D, MaxPooling2D\n",
        "from keras.utils import np_utils\n",
        "from keras.optimizers import Adam\n",
        "from keras.callbacks import LearningRateScheduler, ModelCheckpoint\n",
        "from keras.preprocessing.image import ImageDataGenerator\n",
        "from keras.regularizers import l2\n",
        "\n",
        "from keras.datasets import mnist\n",
        "\n",
        "%matplotlib inline"
      ],
      "execution_count": 0,
      "outputs": [
        {
          "output_type": "stream",
          "text": [
            "Using TensorFlow backend.\n"
          ],
          "name": "stderr"
        }
      ]
    },
    {
      "cell_type": "markdown",
      "metadata": {
        "id": "LZzO_jbZOyRs",
        "colab_type": "text"
      },
      "source": [
        "# Loading the data"
      ]
    },
    {
      "cell_type": "code",
      "metadata": {
        "id": "YlEUplvoxKAT",
        "colab_type": "code",
        "outputId": "d2598cff-90f2-4ae1-ec74-de0bb0679aa1",
        "colab": {
          "base_uri": "https://localhost:8080/",
          "height": 51
        }
      },
      "source": [
        "(X_train, y_train), (X_test, y_test) = mnist.load_data()"
      ],
      "execution_count": 0,
      "outputs": [
        {
          "output_type": "stream",
          "text": [
            "Downloading data from https://s3.amazonaws.com/img-datasets/mnist.npz\n",
            "11493376/11490434 [==============================] - 0s 0us/step\n"
          ],
          "name": "stdout"
        }
      ]
    },
    {
      "cell_type": "code",
      "metadata": {
        "id": "I6Y9Va-xxMXG",
        "colab_type": "code",
        "outputId": "b283d8d3-ce4a-4574-8638-3c648b01eca5",
        "colab": {
          "base_uri": "https://localhost:8080/",
          "height": 303
        }
      },
      "source": [
        "print (X_train.shape)\n",
        "from matplotlib import pyplot as plt\n",
        "%matplotlib inline\n",
        "plt.imshow(X_train[1])"
      ],
      "execution_count": 0,
      "outputs": [
        {
          "output_type": "stream",
          "text": [
            "(60000, 28, 28)\n"
          ],
          "name": "stdout"
        },
        {
          "output_type": "execute_result",
          "data": {
            "text/plain": [
              "<matplotlib.image.AxesImage at 0x7f839dce8748>"
            ]
          },
          "metadata": {
            "tags": []
          },
          "execution_count": 4
        },
        {
          "output_type": "display_data",
          "data": {
            "image/png": "[encoded data removed]",
            "text/plain": [
              "<Figure size 432x288 with 1 Axes>"
            ]
          },
          "metadata": {
            "tags": []
          }
        }
      ]
    },
    {
      "cell_type": "markdown",
      "metadata": {
        "id": "LMrr-huMLM0e",
        "colab_type": "text"
      },
      "source": [
        "The below blocks of code shows the preprocessing that is performed on the image data."
      ]
    },
    {
      "cell_type": "code",
      "metadata": {
        "id": "lxDZxPhhxOgO",
        "colab_type": "code",
        "colab": {}
      },
      "source": [
        "X_train = X_train.reshape(X_train.shape[0], 28, 28,1)\n",
        "X_test = X_test.reshape(X_test.shape[0], 28, 28,1)"
      ],
      "execution_count": 0,
      "outputs": []
    },
    {
      "cell_type": "code",
      "metadata": {
        "id": "3HzMqbTnxQQW",
        "colab_type": "code",
        "colab": {}
      },
      "source": [
        "X_train = X_train.astype('float32')\n",
        "X_test = X_test.astype('float32')\n",
        "X_train /= 255\n",
        "X_test /= 255"
      ],
      "execution_count": 0,
      "outputs": []
    },
    {
      "cell_type": "code",
      "metadata": {
        "id": "7LdYiW6ixR9e",
        "colab_type": "code",
        "colab": {}
      },
      "source": [
        "Y_train = np_utils.to_categorical(y_train, 10)\n",
        "Y_test = np_utils.to_categorical(y_test, 10)"
      ],
      "execution_count": 0,
      "outputs": []
    },
    {
      "cell_type": "markdown",
      "metadata": {
        "id": "VEPett6KLUYc",
        "colab_type": "text"
      },
      "source": [
        "### Image augmentation\n",
        "\n",
        "Here, the image augmentation technique that is used is Image Normalization. Image Normalization helps in reducing overfitting of the model as well as makes all the image data to look like in a same spectrum. This will help in reducing the loss and there by increasing the accuracy of the model. \n",
        "\n",
        "### L2 Regularization\n",
        "\n",
        "L2 regularization is used to reduce the overfitting of the model.\n",
        "\n",
        "\n",
        "The main goal of bringing in Image Normalization and L2 Regularization is to improve the generalizm of the model. "
      ]
    },
    {
      "cell_type": "code",
      "metadata": {
        "id": "vsPL5fRmu8nU",
        "colab_type": "code",
        "colab": {}
      },
      "source": [
        "datagen = ImageDataGenerator(featurewise_center=True, \n",
        "                             featurewise_std_normalization=True)\n",
        "datagen.fit(X_train)"
      ],
      "execution_count": 0,
      "outputs": []
    },
    {
      "cell_type": "code",
      "metadata": {
        "id": "mDpXf4YQxXRm",
        "colab_type": "code",
        "outputId": "6873b882-a874-49f4-e667-3e2a11f4416f",
        "colab": {
          "base_uri": "https://localhost:8080/",
          "height": 68
        }
      },
      "source": [
        "model = Sequential()\n",
        " \n",
        "model.add(Conv2D(16, (3, 3), input_shape=(28,28,1), kernel_regularizer=l2(0.01))) #26\n",
        "model.add(BatchNormalization())\n",
        "model.add(Activation('relu'))\n",
        "\n",
        "model.add(Conv2D(32, (3, 3), kernel_regularizer=l2(0.01))) #24\n",
        "model.add(BatchNormalization())\n",
        "model.add(Activation('relu'))\n",
        "\n",
        "model.add(Conv2D(10, (1, 1), kernel_regularizer=l2(0.01))) #24\n",
        "model.add(BatchNormalization())\n",
        "model.add(Activation('relu'))\n",
        "\n",
        "model.add(MaxPooling2D(pool_size=(2, 2)))#11\n",
        "\n",
        "model.add(Conv2D(16, (3, 3), kernel_regularizer=l2(0.01))) #12\n",
        "model.add(BatchNormalization())\n",
        "model.add(Activation('relu'))\n",
        "\n",
        "\n",
        "model.add(Conv2D(16, (3, 3), kernel_regularizer=l2(0.01))) #10\n",
        "model.add(BatchNormalization())\n",
        "model.add(Activation('relu'))\n",
        "\n",
        "\n",
        "model.add(Conv2D(16, (3, 3), kernel_regularizer=l2(0.01))) #8\n",
        "model.add(BatchNormalization())\n",
        "model.add(Activation('relu'))\n",
        "\n",
        "\n",
        "model.add(Conv2D(16, (3, 3), kernel_regularizer=l2(0.01))) #6\n",
        "model.add(BatchNormalization())\n",
        "model.add(Activation('relu'))\n",
        "\n",
        "\n",
        "model.add(Conv2D(10, (4, 4), kernel_regularizer=l2(0.01))) #4\n",
        "model.add(BatchNormalization())\n",
        "\n",
        "\n",
        "model.add(Flatten())\n",
        "model.add(Activation('softmax'))"
      ],
      "execution_count": 0,
      "outputs": [
        {
          "output_type": "stream",
          "text": [
            "WARNING:tensorflow:From /usr/local/lib/python3.6/dist-packages/tensorflow/python/framework/op_def_library.py:263: colocate_with (from tensorflow.python.framework.ops) is deprecated and will be removed in a future version.\n",
            "Instructions for updating:\n",
            "Colocations handled automatically by placer.\n"
          ],
          "name": "stdout"
        }
      ]
    },
    {
      "cell_type": "code",
      "metadata": {
        "id": "YaiGcbKCVY4m",
        "colab_type": "code",
        "outputId": "a05cd663-38fb-477e-878d-b522d70b76be",
        "colab": {
          "base_uri": "https://localhost:8080/",
          "height": 1020
        }
      },
      "source": [
        "model.summary()"
      ],
      "execution_count": 0,
      "outputs": [
        {
          "output_type": "stream",
          "text": [
            "_________________________________________________________________\n",
            "Layer (type)                 Output Shape              Param #   \n",
            "=================================================================\n",
            "conv2d_1 (Conv2D)            (None, 26, 26, 16)        160       \n",
            "_________________________________________________________________\n",
            "batch_normalization_1 (Batch (None, 26, 26, 16)        64        \n",
            "_________________________________________________________________\n",
            "activation_1 (Activation)    (None, 26, 26, 16)        0         \n",
            "_________________________________________________________________\n",
            "conv2d_2 (Conv2D)            (None, 24, 24, 32)        4640      \n",
            "_________________________________________________________________\n",
            "batch_normalization_2 (Batch (None, 24, 24, 32)        128       \n",
            "_________________________________________________________________\n",
            "activation_2 (Activation)    (None, 24, 24, 32)        0         \n",
            "_________________________________________________________________\n",
            "conv2d_3 (Conv2D)            (None, 24, 24, 10)        330       \n",
            "_________________________________________________________________\n",
            "batch_normalization_3 (Batch (None, 24, 24, 10)        40        \n",
            "_________________________________________________________________\n",
            "activation_3 (Activation)    (None, 24, 24, 10)        0         \n",
            "_________________________________________________________________\n",
            "max_pooling2d_1 (MaxPooling2 (None, 12, 12, 10)        0         \n",
            "_________________________________________________________________\n",
            "conv2d_4 (Conv2D)            (None, 10, 10, 16)        1456      \n",
            "_________________________________________________________________\n",
            "batch_normalization_4 (Batch (None, 10, 10, 16)        64        \n",
            "_________________________________________________________________\n",
            "activation_4 (Activation)    (None, 10, 10, 16)        0         \n",
            "_________________________________________________________________\n",
            "conv2d_5 (Conv2D)            (None, 8, 8, 16)          2320      \n",
            "_________________________________________________________________\n",
            "batch_normalization_5 (Batch (None, 8, 8, 16)          64        \n",
            "_________________________________________________________________\n",
            "activation_5 (Activation)    (None, 8, 8, 16)          0         \n",
            "_________________________________________________________________\n",
            "conv2d_6 (Conv2D)            (None, 6, 6, 16)          2320      \n",
            "_________________________________________________________________\n",
            "batch_normalization_6 (Batch (None, 6, 6, 16)          64        \n",
            "_________________________________________________________________\n",
            "activation_6 (Activation)    (None, 6, 6, 16)          0         \n",
            "_________________________________________________________________\n",
            "conv2d_7 (Conv2D)            (None, 4, 4, 16)          2320      \n",
            "_________________________________________________________________\n",
            "batch_normalization_7 (Batch (None, 4, 4, 16)          64        \n",
            "_________________________________________________________________\n",
            "activation_7 (Activation)    (None, 4, 4, 16)          0         \n",
            "_________________________________________________________________\n",
            "conv2d_8 (Conv2D)            (None, 1, 1, 10)          2570      \n",
            "_________________________________________________________________\n",
            "batch_normalization_8 (Batch (None, 1, 1, 10)          40        \n",
            "_________________________________________________________________\n",
            "flatten_1 (Flatten)          (None, 10)                0         \n",
            "_________________________________________________________________\n",
            "activation_8 (Activation)    (None, 10)                0         \n",
            "=================================================================\n",
            "Total params: 16,644\n",
            "Trainable params: 16,380\n",
            "Non-trainable params: 264\n",
            "_________________________________________________________________\n"
          ],
          "name": "stdout"
        }
      ]
    },
    {
      "cell_type": "markdown",
      "metadata": {
        "id": "hrjdilvKMobS",
        "colab_type": "text"
      },
      "source": [
        "Creating a filepath to store the best model. This will help us in figuring out which are the different classes of image which are getting misclassified."
      ]
    },
    {
      "cell_type": "code",
      "metadata": {
        "id": "fpblVFeLoZZV",
        "colab_type": "code",
        "colab": {}
      },
      "source": [
        "model.compile(loss='categorical_crossentropy', optimizer='adam', metrics=['accuracy'])\n",
        "batch_size = 32\n",
        "filepath=\"weights-improvement-{epoch:02d}-{val_acc:.2f}.hdf5\"\n",
        "model_checkpoint = ModelCheckpoint(filepath, monitor='val_acc', verbose=1, save_best_only=True, mode='max')"
      ],
      "execution_count": 0,
      "outputs": []
    },
    {
      "cell_type": "code",
      "metadata": {
        "id": "AqMs0mdIh6rl",
        "colab_type": "code",
        "colab": {}
      },
      "source": [
        "def scheduler(epoch, lr):\n",
        "    return round(0.003 * 1/(1 + 0.319 * epoch), 10)"
      ],
      "execution_count": 0,
      "outputs": []
    },
    {
      "cell_type": "code",
      "metadata": {
        "id": "JRz-V97XobOx",
        "colab_type": "code",
        "outputId": "df0d15fb-2947-457d-eb0f-ee486c47b646",
        "colab": {
          "base_uri": "https://localhost:8080/",
          "height": 4063
        }
      },
      "source": [
        "history = model.fit_generator(datagen.flow(X_train, Y_train, batch_size=batch_size),\n",
        "                              steps_per_epoch = X_train.shape[0] // batch_size,\n",
        "                              epochs=40, verbose=1, \n",
        "                              validation_data=(X_test, Y_test),\n",
        "                              callbacks=[LearningRateScheduler(scheduler, verbose=1), model_checkpoint])"
      ],
      "execution_count": 0,
      "outputs": [
        {
          "output_type": "stream",
          "text": [
            "WARNING:tensorflow:From /usr/local/lib/python3.6/dist-packages/tensorflow/python/ops/math_ops.py:3066: to_int32 (from tensorflow.python.ops.math_ops) is deprecated and will be removed in a future version.\n",
            "Instructions for updating:\n",
            "Use tf.cast instead.\n",
            "Epoch 1/40\n",
            "\n",
            "Epoch 00001: LearningRateScheduler setting learning rate to 0.003.\n",
            "1875/1875 [==============================] - 46s 25ms/step - loss: 0.5413 - acc: 0.9334 - val_loss: 1.8010 - val_acc: 0.5098\n",
            "\n",
            "Epoch 00001: val_acc improved from -inf to 0.50980, saving model to weights-improvement-01-0.51.hdf5\n",
            "Epoch 2/40\n",
            "\n",
            "Epoch 00002: LearningRateScheduler setting learning rate to 0.0022744503.\n",
            "1875/1875 [==============================] - 42s 23ms/step - loss: 0.2895 - acc: 0.9557 - val_loss: 3.0206 - val_acc: 0.2607\n",
            "1875/1875 [==============================] - 42s 22ms/step - loss: 0.2370 - acc: 0.9635 - val_loss: 3.0357 - val_acc: 0.1906\n",
            "\n",
            "Epoch 00003: val_acc did not improve from 0.50980\n",
            "Epoch 4/40\n",
            "\n",
            "Epoch 00004: LearningRateScheduler setting learning rate to 0.0015329586.\n",
            "1875/1875 [==============================] - 42s 22ms/step - loss: 0.2010 - acc: 0.9678 - val_loss: 1.5652 - val_acc: 0.5138\n",
            "\n",
            "Epoch 00004: val_acc improved from 0.50980 to 0.51380, saving model to weights-improvement-04-0.51.hdf5\n",
            "Epoch 5/40\n",
            "\n",
            "Epoch 00005: LearningRateScheduler setting learning rate to 0.0013181019.\n",
            "1875/1875 [==============================] - 42s 22ms/step - loss: 0.1783 - acc: 0.9711 - val_loss: 1.9770 - val_acc: 0.3628\n",
            "\n",
            "Epoch 00005: val_acc did not improve from 0.51380\n",
            "Epoch 6/40\n",
            "\n",
            "Epoch 00006: LearningRateScheduler setting learning rate to 0.0011560694.\n",
            "1875/1875 [==============================] - 41s 22ms/step - loss: 0.1611 - acc: 0.9732 - val_loss: 1.6460 - val_acc: 0.5008\n",
            "\n",
            "Epoch 00006: val_acc did not improve from 0.51380\n",
            "Epoch 7/40\n",
            "\n",
            "Epoch 00007: LearningRateScheduler setting learning rate to 0.0010295127.\n",
            "1875/1875 [==============================] - 41s 22ms/step - loss: 0.1485 - acc: 0.9755 - val_loss: 2.7509 - val_acc: 0.4071\n",
            "\n",
            "Epoch 00007: val_acc did not improve from 0.51380\n",
            "Epoch 8/40\n",
            "\n",
            "Epoch 00008: LearningRateScheduler setting learning rate to 0.0009279307.\n",
            "1875/1875 [==============================] - 42s 22ms/step - loss: 0.1389 - acc: 0.9767 - val_loss: 0.3310 - val_acc: 0.9176\n",
            "\n",
            "Epoch 00008: val_acc improved from 0.51380 to 0.91760, saving model to weights-improvement-08-0.92.hdf5\n",
            "Epoch 9/40\n",
            "\n",
            "Epoch 00009: LearningRateScheduler setting learning rate to 0.0008445946.\n",
            "1875/1875 [==============================] - 42s 22ms/step - loss: 0.1309 - acc: 0.9779 - val_loss: 1.7155 - val_acc: 0.5020\n",
            "\n",
            "Epoch 00009: val_acc did not improve from 0.91760\n",
            "Epoch 10/40\n",
            "\n",
            "Epoch 00010: LearningRateScheduler setting learning rate to 0.0007749935.\n",
            "1875/1875 [==============================] - 42s 22ms/step - loss: 0.1245 - acc: 0.9784 - val_loss: 1.3958 - val_acc: 0.5514\n",
            "\n",
            "Epoch 00010: val_acc did not improve from 0.91760\n",
            "Epoch 11/40\n",
            "\n",
            "Epoch 00011: LearningRateScheduler setting learning rate to 0.0007159905.\n",
            "1875/1875 [==============================] - 42s 22ms/step - loss: 0.1160 - acc: 0.9809 - val_loss: 0.3149 - val_acc: 0.9185\n",
            "\n",
            "Epoch 00011: val_acc improved from 0.91760 to 0.91850, saving model to weights-improvement-11-0.92.hdf5\n",
            "Epoch 12/40\n",
            "\n",
            "Epoch 00012: LearningRateScheduler setting learning rate to 0.000665336.\n",
            "1875/1875 [==============================] - 41s 22ms/step - loss: 0.1126 - acc: 0.9802 - val_loss: 1.7746 - val_acc: 0.4643\n",
            "\n",
            "Epoch 00012: val_acc did not improve from 0.91850\n",
            "Epoch 13/40\n",
            "\n",
            "Epoch 00013: LearningRateScheduler setting learning rate to 0.0006213753.\n",
            "1875/1875 [==============================] - 41s 22ms/step - loss: 0.1073 - acc: 0.9817 - val_loss: 1.7302 - val_acc: 0.5176\n",
            "\n",
            "Epoch 00013: val_acc did not improve from 0.91850\n",
            "Epoch 14/40\n",
            "\n",
            "Epoch 00014: LearningRateScheduler setting learning rate to 0.0005828638.\n",
            "1875/1875 [==============================] - 41s 22ms/step - loss: 0.1044 - acc: 0.9815 - val_loss: 0.7241 - val_acc: 0.7505\n",
            "\n",
            "Epoch 00014: val_acc did not improve from 0.91850\n",
            "Epoch 15/40\n",
            "\n",
            "Epoch 00015: LearningRateScheduler setting learning rate to 0.0005488474.\n",
            "1875/1875 [==============================] - 41s 22ms/step - loss: 0.1012 - acc: 0.9818 - val_loss: 0.3892 - val_acc: 0.8890\n",
            "\n",
            "Epoch 00015: val_acc did not improve from 0.91850\n",
            "Epoch 16/40\n",
            "\n",
            "Epoch 00016: LearningRateScheduler setting learning rate to 0.0005185825.\n",
            "1875/1875 [==============================] - 41s 22ms/step - loss: 0.0976 - acc: 0.9824 - val_loss: 0.6610 - val_acc: 0.8029\n",
            "\n",
            "Epoch 00016: val_acc did not improve from 0.91850\n",
            "Epoch 17/40\n",
            "\n",
            "Epoch 00017: LearningRateScheduler setting learning rate to 0.000491481.\n",
            "1875/1875 [==============================] - 43s 23ms/step - loss: 0.0939 - acc: 0.9839 - val_loss: 1.0358 - val_acc: 0.6689\n",
            "\n",
            "Epoch 00017: val_acc did not improve from 0.91850\n",
            "Epoch 18/40\n",
            "\n",
            "Epoch 00018: LearningRateScheduler setting learning rate to 0.0004670715.\n",
            "1875/1875 [==============================] - 43s 23ms/step - loss: 0.0926 - acc: 0.9833 - val_loss: 1.3430 - val_acc: 0.6144\n",
            "\n",
            "Epoch 00018: val_acc did not improve from 0.91850\n",
            "Epoch 19/40\n",
            "\n",
            "Epoch 00019: LearningRateScheduler setting learning rate to 0.0004449718.\n",
            "1875/1875 [==============================] - 41s 22ms/step - loss: 0.0908 - acc: 0.9834 - val_loss: 0.4015 - val_acc: 0.8664\n",
            "\n",
            "Epoch 00019: val_acc did not improve from 0.91850\n",
            "Epoch 20/40\n",
            "\n",
            "Epoch 00020: LearningRateScheduler setting learning rate to 0.000424869.\n",
            "1875/1875 [==============================] - 41s 22ms/step - loss: 0.0854 - acc: 0.9852 - val_loss: 0.7351 - val_acc: 0.7563\n",
            "\n",
            "Epoch 00020: val_acc did not improve from 0.91850\n",
            "Epoch 21/40\n",
            "\n",
            "Epoch 00021: LearningRateScheduler setting learning rate to 0.0004065041.\n",
            "1875/1875 [==============================] - 41s 22ms/step - loss: 0.0854 - acc: 0.9849 - val_loss: 0.5794 - val_acc: 0.8082\n",
            "\n",
            "Epoch 00021: val_acc did not improve from 0.91850\n",
            "Epoch 22/40\n",
            "\n",
            "Epoch 00022: LearningRateScheduler setting learning rate to 0.000389661.\n",
            "1875/1875 [==============================] - 41s 22ms/step - loss: 0.0831 - acc: 0.9851 - val_loss: 0.4648 - val_acc: 0.8443\n",
            "\n",
            "Epoch 00022: val_acc did not improve from 0.91850\n",
            "Epoch 23/40\n",
            "\n",
            "Epoch 00023: LearningRateScheduler setting learning rate to 0.0003741581.\n",
            "1875/1875 [==============================] - 41s 22ms/step - loss: 0.0789 - acc: 0.9861 - val_loss: 0.2239 - val_acc: 0.9418\n",
            "\n",
            "Epoch 00023: val_acc improved from 0.91850 to 0.94180, saving model to weights-improvement-23-0.94.hdf5\n",
            "Epoch 24/40\n",
            "\n",
            "Epoch 00024: LearningRateScheduler setting learning rate to 0.0003598417.\n",
            "1875/1875 [==============================] - 42s 22ms/step - loss: 0.0769 - acc: 0.9862 - val_loss: 0.4884 - val_acc: 0.8497\n",
            "\n",
            "Epoch 00024: val_acc did not improve from 0.94180\n",
            "Epoch 25/40\n",
            "\n",
            "Epoch 00025: LearningRateScheduler setting learning rate to 0.0003465804.\n",
            "1875/1875 [==============================] - 41s 22ms/step - loss: 0.0752 - acc: 0.9870 - val_loss: 0.3630 - val_acc: 0.8914\n",
            "\n",
            "Epoch 00025: val_acc did not improve from 0.94180\n",
            "Epoch 26/40\n",
            "\n",
            "Epoch 00026: LearningRateScheduler setting learning rate to 0.0003342618.\n",
            "1875/1875 [==============================] - 41s 22ms/step - loss: 0.0772 - acc: 0.9866 - val_loss: 1.0640 - val_acc: 0.6884\n",
            "\n",
            "Epoch 00026: val_acc did not improve from 0.94180\n",
            "Epoch 27/40\n",
            "\n",
            "Epoch 00027: LearningRateScheduler setting learning rate to 0.0003227889.\n",
            "1875/1875 [==============================] - 42s 22ms/step - loss: 0.0750 - acc: 0.9867 - val_loss: 0.5189 - val_acc: 0.8427\n",
            "\n",
            "Epoch 00027: val_acc did not improve from 0.94180\n",
            "Epoch 28/40\n",
            "\n",
            "Epoch 00028: LearningRateScheduler setting learning rate to 0.0003120774.\n",
            "1875/1875 [==============================] - 42s 22ms/step - loss: 0.0709 - acc: 0.9876 - val_loss: 0.2826 - val_acc: 0.9306\n",
            "\n",
            "Epoch 00028: val_acc did not improve from 0.94180\n",
            "Epoch 29/40\n",
            "\n",
            "Epoch 00029: LearningRateScheduler setting learning rate to 0.000302054.\n",
            "1875/1875 [==============================] - 42s 22ms/step - loss: 0.0700 - acc: 0.9875 - val_loss: 0.5725 - val_acc: 0.8397\n",
            "\n",
            "Epoch 00029: val_acc did not improve from 0.94180\n",
            "Epoch 30/40\n",
            "\n",
            "Epoch 00030: LearningRateScheduler setting learning rate to 0.0002926544.\n",
            "1875/1875 [==============================] - 42s 22ms/step - loss: 0.0685 - acc: 0.9879 - val_loss: 0.9650 - val_acc: 0.7055\n",
            "\n",
            "Epoch 00030: val_acc did not improve from 0.94180\n",
            "Epoch 31/40\n",
            "\n",
            "Epoch 00031: LearningRateScheduler setting learning rate to 0.0002838221.\n",
            "1875/1875 [==============================] - 42s 22ms/step - loss: 0.0682 - acc: 0.9877 - val_loss: 0.2174 - val_acc: 0.9340\n",
            "\n",
            "Epoch 00031: val_acc did not improve from 0.94180\n",
            "Epoch 32/40\n",
            "\n",
            "Epoch 00032: LearningRateScheduler setting learning rate to 0.0002755074.\n",
            "1875/1875 [==============================] - 41s 22ms/step - loss: 0.0664 - acc: 0.9884 - val_loss: 0.5596 - val_acc: 0.8290\n",
            "\n",
            "Epoch 00032: val_acc did not improve from 0.94180\n",
            "Epoch 33/40\n",
            "\n",
            "Epoch 00033: LearningRateScheduler setting learning rate to 0.000267666.\n",
            "1875/1875 [==============================] - 41s 22ms/step - loss: 0.0646 - acc: 0.9886 - val_loss: 0.4507 - val_acc: 0.8640\n",
            "\n",
            "Epoch 00033: val_acc did not improve from 0.94180\n",
            "Epoch 34/40\n",
            "\n",
            "Epoch 00034: LearningRateScheduler setting learning rate to 0.0002602585.\n",
            "1875/1875 [==============================] - 42s 22ms/step - loss: 0.0651 - acc: 0.9888 - val_loss: 0.3595 - val_acc: 0.8962\n",
            "\n",
            "Epoch 00034: val_acc did not improve from 0.94180\n",
            "Epoch 35/40\n",
            "\n",
            "Epoch 00035: LearningRateScheduler setting learning rate to 0.00025325.\n",
            "1875/1875 [==============================] - 41s 22ms/step - loss: 0.0609 - acc: 0.9893 - val_loss: 0.6531 - val_acc: 0.8042\n",
            "\n",
            "Epoch 00035: val_acc did not improve from 0.94180\n",
            "Epoch 36/40\n",
            "\n",
            "Epoch 00036: LearningRateScheduler setting learning rate to 0.0002466091.\n",
            "1875/1875 [==============================] - 42s 22ms/step - loss: 0.0622 - acc: 0.9884 - val_loss: 0.3475 - val_acc: 0.8995\n",
            "\n",
            "Epoch 00036: val_acc did not improve from 0.94180\n",
            "Epoch 37/40\n",
            "\n",
            "Epoch 00037: LearningRateScheduler setting learning rate to 0.0002403076.\n",
            "1875/1875 [==============================] - 41s 22ms/step - loss: 0.0622 - acc: 0.9885 - val_loss: 0.3774 - val_acc: 0.8823\n",
            "\n",
            "Epoch 00037: val_acc did not improve from 0.94180\n",
            "Epoch 38/40\n",
            "\n",
            "Epoch 00038: LearningRateScheduler setting learning rate to 0.0002343201.\n",
            "1875/1875 [==============================] - 42s 22ms/step - loss: 0.0598 - acc: 0.9896 - val_loss: 0.5489 - val_acc: 0.8247\n",
            "\n",
            "Epoch 00038: val_acc did not improve from 0.94180\n",
            "Epoch 39/40\n",
            "\n",
            "Epoch 00039: LearningRateScheduler setting learning rate to 0.0002286237.\n",
            "1875/1875 [==============================] - 42s 22ms/step - loss: 0.0593 - acc: 0.9896 - val_loss: 0.2361 - val_acc: 0.9351\n",
            "\n",
            "Epoch 00039: val_acc did not improve from 0.94180\n",
            "Epoch 40/40\n",
            "\n",
            "Epoch 00040: LearningRateScheduler setting learning rate to 0.0002231977.\n",
            "1875/1875 [==============================] - 42s 22ms/step - loss: 0.0584 - acc: 0.9891 - val_loss: 0.3062 - val_acc: 0.9138\n",
            "\n",
            "Epoch 00040: val_acc did not improve from 0.94180\n"
          ],
          "name": "stdout"
        }
      ]
    },
    {
      "cell_type": "code",
      "metadata": {
        "id": "WLxlW9ufyQiO",
        "colab_type": "code",
        "outputId": "2e7ffb3c-208f-4321-870e-830dc406d54e",
        "colab": {
          "base_uri": "https://localhost:8080/",
          "height": 34
        }
      },
      "source": [
        "score = model.evaluate(X_test, Y_test, verbose=0)\n",
        "print(score)"
      ],
      "execution_count": 0,
      "outputs": [
        {
          "output_type": "stream",
          "text": [
            "[0.30624369962215425, 0.9138]\n"
          ],
          "name": "stdout"
        }
      ]
    },
    {
      "cell_type": "code",
      "metadata": {
        "id": "ZZPVw9s_3qON",
        "colab_type": "code",
        "outputId": "5a34d94e-3fbe-4463-f4bb-9ef0c79d649e",
        "colab": {
          "base_uri": "https://localhost:8080/",
          "height": 68
        }
      },
      "source": [
        "!ls"
      ],
      "execution_count": 0,
      "outputs": [
        {
          "output_type": "stream",
          "text": [
            "sample_data\t\t\t  weights-improvement-08-0.92.hdf5\n",
            "weights-improvement-01-0.51.hdf5  weights-improvement-11-0.92.hdf5\n",
            "weights-improvement-04-0.51.hdf5  weights-improvement-23-0.94.hdf5\n"
          ],
          "name": "stdout"
        }
      ]
    },
    {
      "cell_type": "markdown",
      "metadata": {
        "id": "XsetuH73MzDG",
        "colab_type": "text"
      },
      "source": [
        "## Loading the model weights back to the model"
      ]
    },
    {
      "cell_type": "code",
      "metadata": {
        "id": "clwYb_kM3vFp",
        "colab_type": "code",
        "colab": {}
      },
      "source": [
        "model.load_weights(\"weights-improvement-23-0.94.hdf5\")"
      ],
      "execution_count": 0,
      "outputs": []
    },
    {
      "cell_type": "code",
      "metadata": {
        "id": "DC_YepJo5Vgf",
        "colab_type": "code",
        "outputId": "451b158e-90dc-43b5-907c-bc03a69ad9c8",
        "colab": {
          "base_uri": "https://localhost:8080/",
          "height": 34
        }
      },
      "source": [
        "score = model.evaluate(X_test, Y_test, verbose=0)\n",
        "print(score)"
      ],
      "execution_count": 0,
      "outputs": [
        {
          "output_type": "stream",
          "text": [
            "[0.22391138322353363, 0.9418]\n"
          ],
          "name": "stdout"
        }
      ]
    },
    {
      "cell_type": "code",
      "metadata": {
        "id": "2BFB3x774B7o",
        "colab_type": "code",
        "colab": {}
      },
      "source": [
        "prediction = model.predict_classes(X_test)"
      ],
      "execution_count": 0,
      "outputs": []
    },
    {
      "cell_type": "markdown",
      "metadata": {
        "id": "uTPyzi-_M47E",
        "colab_type": "text"
      },
      "source": [
        "### Data study to find out misclassified images."
      ]
    },
    {
      "cell_type": "code",
      "metadata": {
        "id": "U6_BWwpy4Qlj",
        "colab_type": "code",
        "colab": {}
      },
      "source": [
        "misclassified = []\n",
        "for i in range(len(Y_test)):\n",
        "    if y_test[i] != prediction[i]:\n",
        "        misclassified.append((y_test[i], prediction[i], i))"
      ],
      "execution_count": 0,
      "outputs": []
    },
    {
      "cell_type": "code",
      "metadata": {
        "id": "BlqNBD3E4R4m",
        "colab_type": "code",
        "outputId": "90eaeb3e-c63d-4b1e-b1aa-741b9510d17b",
        "colab": {
          "base_uri": "https://localhost:8080/",
          "height": 34
        }
      },
      "source": [
        "len(misclassified)"
      ],
      "execution_count": 0,
      "outputs": [
        {
          "output_type": "execute_result",
          "data": {
            "text/plain": [
              "582"
            ]
          },
          "metadata": {
            "tags": []
          },
          "execution_count": 20
        }
      ]
    },
    {
      "cell_type": "code",
      "metadata": {
        "id": "RRTTU-2F5QzM",
        "colab_type": "code",
        "colab": {}
      },
      "source": [
        "misclassified_images = []\n",
        "misclassified_classes = []\n",
        "actual_classes = []\n",
        "\n",
        "for actual_val, pred_val, i in misclassified:\n",
        "    misclassified_images.append(X_test[i])\n",
        "    actual_classes.append(actual_val)\n",
        "    misclassified_classes.append(pred_val)"
      ],
      "execution_count": 0,
      "outputs": []
    },
    {
      "cell_type": "code",
      "metadata": {
        "id": "N2mFeyfIMiZp",
        "colab_type": "code",
        "outputId": "3b8e3b62-df64-45fe-ab3e-3bb299ccbf4f",
        "colab": {
          "base_uri": "https://localhost:8080/",
          "height": 34
        }
      },
      "source": [
        "test_images = np.array(misclassified_images)[0:25]\n",
        "test_images.shape"
      ],
      "execution_count": 0,
      "outputs": [
        {
          "output_type": "execute_result",
          "data": {
            "text/plain": [
              "(25, 28, 28, 1)"
            ]
          },
          "metadata": {
            "tags": []
          },
          "execution_count": 22
        }
      ]
    },
    {
      "cell_type": "markdown",
      "metadata": {
        "id": "j53wSR6_NAMj",
        "colab_type": "text"
      },
      "source": [
        "## Plot of 25 images which are misclassified"
      ]
    },
    {
      "cell_type": "code",
      "metadata": {
        "id": "wWW-N5xu5bUN",
        "colab_type": "code",
        "outputId": "e155ecb4-0ec6-42aa-a4b8-6ce141fb99f6",
        "colab": {
          "base_uri": "https://localhost:8080/",
          "height": 792
        }
      },
      "source": [
        "fig, ax = plt.subplots(5, 5, figsize = (12, 12))\n",
        "\n",
        "fig.tight_layout(pad = 0.3, rect = [0, 0, 0.9, 0.9])\n",
        "i = 0\n",
        "\n",
        "for row in ax:\n",
        "\tfor col in row:\n",
        "\t\tif i < 25:\n",
        "\t\t\tcol.imshow(test_images[i].reshape(28,28), cmap='gray')\n",
        "\t\t\ti += 1"
      ],
      "execution_count": 0,
      "outputs": [
        {
          "output_type": "display_data",
          "data": {
            "image/png": "[encoded data removed]",
            "text/plain": [
              "<Figure size 864x864 with 25 Axes>"
            ]
          },
          "metadata": {
            "tags": []
          }
        }
      ]
    },
    {
      "cell_type": "markdown",
      "metadata": {
        "id": "xUfgqwX2NEOG",
        "colab_type": "text"
      },
      "source": [
        "The below shows the actual class value and the predicted class value. "
      ]
    },
    {
      "cell_type": "code",
      "metadata": {
        "id": "SWQqjblGMYG3",
        "colab_type": "code",
        "outputId": "904f8d7a-e5c1-48c5-8dd5-787f8ad32b80",
        "colab": {
          "base_uri": "https://localhost:8080/",
          "height": 425
        }
      },
      "source": [
        "for i in range(25):\n",
        "    if i % 5 != 0:\n",
        "        print(actual_classes[i], end=' ')\n",
        "    else:\n",
        "        print('\\n')\n",
        "        print(actual_classes[i], end=' ')\n",
        "        \n",
        "print('\\n\\n')        \n",
        "\n",
        "for i in range(25):\n",
        "    if i % 5 != 0:\n",
        "        print(misclassified_classes[i], end=' ')\n",
        "    else:\n",
        "        print('\\n')\n",
        "        print(misclassified_classes[i], end=' ')"
      ],
      "execution_count": 0,
      "outputs": [
        {
          "output_type": "stream",
          "text": [
            "\n",
            "\n",
            "9 6 4 1 9 \n",
            "\n",
            "4 6 9 9 7 \n",
            "\n",
            "9 9 6 8 2 \n",
            "\n",
            "2 5 6 6 7 \n",
            "\n",
            "9 6 9 3 9 \n",
            "\n",
            "\n",
            "\n",
            "\n",
            "4 4 1 5 5 \n",
            "\n",
            "1 4 4 4 1 \n",
            "\n",
            "4 3 0 5 7 \n",
            "\n",
            "1 3 1 4 1 \n",
            "\n",
            "4 0 3 5 3 "
          ],
          "name": "stdout"
        }
      ]
    },
    {
      "cell_type": "code",
      "metadata": {
        "id": "JE_fkNJsVxM2",
        "colab_type": "code",
        "colab": {}
      },
      "source": [
        ""
      ],
      "execution_count": 0,
      "outputs": []
    }
  ]
}