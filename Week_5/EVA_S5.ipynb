{
  "nbformat": 4,
  "nbformat_minor": 0,
  "metadata": {
    "colab": {
      "name": "EVA_S5.ipynb",
      "version": "0.3.2",
      "provenance": [],
      "collapsed_sections": []
    },
    "kernelspec": {
      "name": "python3",
      "display_name": "Python 3"
    },
    "accelerator": "GPU"
  },
  "cells": [
    {
      "cell_type": "code",
      "metadata": {
        "id": "L9HfbxQpVK01",
        "colab_type": "code",
        "outputId": "4207345d-6df4-43af-8245-fccd4eb9b00f",
        "colab": {
          "base_uri": "https://localhost:8080/",
          "height": 34
        }
      },
      "source": [
        "!ls"
      ],
      "execution_count": 1,
      "outputs": [
        {
          "output_type": "stream",
          "text": [
            "sample_data\n"
          ],
          "name": "stdout"
        }
      ]
    },
    {
      "cell_type": "markdown",
      "metadata": {
        "id": "m-Ja0m4eVa0M",
        "colab_type": "text"
      },
      "source": [
        "# Importing required libraries and modules"
      ]
    },
    {
      "cell_type": "code",
      "metadata": {
        "id": "0SJyVpgSxHt4",
        "colab_type": "code",
        "outputId": "c8561252-c2ab-470a-f3ed-61c80f01f0c9",
        "colab": {
          "base_uri": "https://localhost:8080/",
          "height": 34
        }
      },
      "source": [
        "import numpy as np\n",
        "from matplotlib import pyplot as plt\n",
        "\n",
        "from keras.models import Sequential\n",
        "from keras.layers import Dense, Dropout, Activation, Flatten, Add, BatchNormalization, Conv2D, MaxPooling2D, Convolution2D\n",
        "from keras.utils import np_utils\n",
        "from keras.optimizers import Adam\n",
        "from keras.callbacks import LearningRateScheduler, ModelCheckpoint\n",
        "from keras.preprocessing.image import ImageDataGenerator\n",
        "from keras.regularizers import l2\n",
        "\n",
        "from keras.datasets import mnist\n",
        "\n",
        "%matplotlib inline"
      ],
      "execution_count": 2,
      "outputs": [
        {
          "output_type": "stream",
          "text": [
            "Using TensorFlow backend.\n"
          ],
          "name": "stderr"
        }
      ]
    },
    {
      "cell_type": "markdown",
      "metadata": {
        "id": "LZzO_jbZOyRs",
        "colab_type": "text"
      },
      "source": [
        "# Loading the data"
      ]
    },
    {
      "cell_type": "code",
      "metadata": {
        "id": "YlEUplvoxKAT",
        "colab_type": "code",
        "outputId": "4b0c2006-a4d8-4a4f-f22d-2feb848b4bdc",
        "colab": {
          "base_uri": "https://localhost:8080/",
          "height": 51
        }
      },
      "source": [
        "(X_train, y_train), (X_test, y_test) = mnist.load_data()"
      ],
      "execution_count": 3,
      "outputs": [
        {
          "output_type": "stream",
          "text": [
            "Downloading data from https://s3.amazonaws.com/img-datasets/mnist.npz\n",
            "11493376/11490434 [==============================] - 0s 0us/step\n"
          ],
          "name": "stdout"
        }
      ]
    },
    {
      "cell_type": "code",
      "metadata": {
        "id": "I6Y9Va-xxMXG",
        "colab_type": "code",
        "outputId": "a997af35-0426-48ed-d1b7-94a041cf2465",
        "colab": {
          "base_uri": "https://localhost:8080/",
          "height": 303
        }
      },
      "source": [
        "print (X_train.shape)\n",
        "from matplotlib import pyplot as plt\n",
        "%matplotlib inline\n",
        "plt.imshow(X_train[1])"
      ],
      "execution_count": 4,
      "outputs": [
        {
          "output_type": "stream",
          "text": [
            "(60000, 28, 28)\n"
          ],
          "name": "stdout"
        },
        {
          "output_type": "execute_result",
          "data": {
            "text/plain": [
              "<matplotlib.image.AxesImage at 0x7fc458cb39e8>"
            ]
          },
          "metadata": {
            "tags": []
          },
          "execution_count": 4
        },
        {
          "output_type": "display_data",
          "data": {
            "image/png": "[encoded data removed]",
            "text/plain": [
              "<Figure size 432x288 with 1 Axes>"
            ]
          },
          "metadata": {
            "tags": []
          }
        }
      ]
    },
    {
      "cell_type": "markdown",
      "metadata": {
        "id": "LMrr-huMLM0e",
        "colab_type": "text"
      },
      "source": [
        "The below blocks of code shows the preprocessing that is performed on the image data."
      ]
    },
    {
      "cell_type": "code",
      "metadata": {
        "id": "lxDZxPhhxOgO",
        "colab_type": "code",
        "colab": {}
      },
      "source": [
        "X_train = X_train.reshape(X_train.shape[0], 28, 28,1)\n",
        "X_test = X_test.reshape(X_test.shape[0], 28, 28,1)"
      ],
      "execution_count": 0,
      "outputs": []
    },
    {
      "cell_type": "code",
      "metadata": {
        "id": "3HzMqbTnxQQW",
        "colab_type": "code",
        "colab": {}
      },
      "source": [
        "X_train = X_train.astype('float32')\n",
        "X_test = X_test.astype('float32')\n",
        "X_train /= 255\n",
        "X_test /= 255"
      ],
      "execution_count": 0,
      "outputs": []
    },
    {
      "cell_type": "code",
      "metadata": {
        "id": "7LdYiW6ixR9e",
        "colab_type": "code",
        "colab": {}
      },
      "source": [
        "Y_train = np_utils.to_categorical(y_train, 10)\n",
        "Y_test = np_utils.to_categorical(y_test, 10)"
      ],
      "execution_count": 0,
      "outputs": []
    },
    {
      "cell_type": "markdown",
      "metadata": {
        "id": "VEPett6KLUYc",
        "colab_type": "text"
      },
      "source": [
        "### Image augmentation\n",
        "\n",
        "Here, the image augmentation technique that is used is Image Normalization. Image Normalization helps in reducing overfitting of the model as well as makes all the image data to look like in a same spectrum. This will help in reducing the loss and there by increasing the accuracy of the model. \n",
        "\n",
        "### L2 Regularization\n",
        "\n",
        "L2 regularization is used to reduce the overfitting of the model.\n",
        "\n",
        "\n",
        "The main goal of bringing in Image Normalization and L2 Regularization is to improve the generalizm of the model. "
      ]
    },
    {
      "cell_type": "code",
      "metadata": {
        "id": "vsPL5fRmu8nU",
        "colab_type": "code",
        "colab": {}
      },
      "source": [
        "datagen = ImageDataGenerator(featurewise_center=True, \n",
        "                             featurewise_std_normalization=True)\n",
        "datagen.fit(X_train)"
      ],
      "execution_count": 0,
      "outputs": []
    },
    {
      "cell_type": "code",
      "metadata": {
        "id": "mDpXf4YQxXRm",
        "colab_type": "code",
        "colab": {}
      },
      "source": [
        "# model = Sequential()\n",
        " \n",
        "# model.add(Conv2D(16, (3, 3), input_shape=(28,28,1), kernel_regularizer=l2(0.01))) #26\n",
        "# model.add(BatchNormalization())\n",
        "# model.add(Activation('relu'))\n",
        "\n",
        "# model.add(Conv2D(32, (3, 3), kernel_regularizer=l2(0.01))) #24\n",
        "# model.add(BatchNormalization())\n",
        "# model.add(Activation('relu'))\n",
        "\n",
        "# model.add(Conv2D(10, (1, 1), kernel_regularizer=l2(0.01))) #24\n",
        "# model.add(BatchNormalization())\n",
        "# model.add(Activation('relu'))\n",
        "\n",
        "# model.add(MaxPooling2D(pool_size=(2, 2)))#11\n",
        "\n",
        "# model.add(Conv2D(16, (3, 3), kernel_regularizer=l2(0.01))) #12\n",
        "# model.add(BatchNormalization())\n",
        "# model.add(Activation('relu'))\n",
        "\n",
        "\n",
        "# model.add(Conv2D(16, (3, 3), kernel_regularizer=l2(0.01))) #10\n",
        "# model.add(BatchNormalization())\n",
        "# model.add(Activation('relu'))\n",
        "\n",
        "\n",
        "# model.add(Conv2D(16, (3, 3), kernel_regularizer=l2(0.01))) #8\n",
        "# model.add(BatchNormalization())\n",
        "# model.add(Activation('relu'))\n",
        "\n",
        "\n",
        "# model.add(Conv2D(16, (3, 3), kernel_regularizer=l2(0.01))) #6\n",
        "# model.add(BatchNormalization())\n",
        "# model.add(Activation('relu'))\n",
        "\n",
        "\n",
        "# model.add(Conv2D(10, (4, 4), kernel_regularizer=l2(0.01))) #4\n",
        "# model.add(BatchNormalization())\n",
        "\n",
        "\n",
        "# model.add(Flatten())\n",
        "# model.add(Activation('softmax'))"
      ],
      "execution_count": 0,
      "outputs": []
    },
    {
      "cell_type": "code",
      "metadata": {
        "id": "tfJywvPVoB_G",
        "colab_type": "code",
        "colab": {
          "base_uri": "https://localhost:8080/",
          "height": 68
        },
        "outputId": "e7352418-d280-4907-d9b4-8d2bcd0e29a0"
      },
      "source": [
        "model = Sequential()\n",
        " \n",
        "model.add(Conv2D(8, (3, 3), input_shape=(28,28,1), kernel_regularizer=l2(0.01))) #26\n",
        "model.add(BatchNormalization())\n",
        "model.add(Activation('relu'))\n",
        "\n",
        "model.add(Conv2D(16, (3, 3), kernel_regularizer=l2(0.01))) #24\n",
        "model.add(BatchNormalization())\n",
        "model.add(Activation('relu'))\n",
        "\n",
        "model.add(Conv2D(10, (1, 1), kernel_regularizer=l2(0.01))) #24\n",
        "model.add(BatchNormalization())\n",
        "model.add(Activation('relu'))\n",
        "\n",
        "model.add(MaxPooling2D(pool_size=(2, 2)))#11\n",
        "\n",
        "model.add(Conv2D(8, (3, 3), kernel_regularizer=l2(0.01))) #12\n",
        "model.add(BatchNormalization())\n",
        "model.add(Activation('relu'))\n",
        "\n",
        "\n",
        "model.add(Conv2D(16, (3, 3), kernel_regularizer=l2(0.01))) #10\n",
        "model.add(BatchNormalization())\n",
        "model.add(Activation('relu'))\n",
        "\n",
        "\n",
        "model.add(Conv2D(16, (3, 3), kernel_regularizer=l2(0.01))) #8\n",
        "model.add(BatchNormalization())\n",
        "model.add(Activation('relu'))\n",
        "\n",
        "\n",
        "model.add(Conv2D(16, (3, 3), kernel_regularizer=l2(0.01))) #6\n",
        "model.add(BatchNormalization())\n",
        "model.add(Activation('relu'))\n",
        "\n",
        "\n",
        "model.add(Conv2D(10, (4, 4), kernel_regularizer=l2(0.01))) #4\n",
        "model.add(BatchNormalization())\n",
        "\n",
        "\n",
        "model.add(Flatten())\n",
        "model.add(Activation('softmax'))"
      ],
      "execution_count": 10,
      "outputs": [
        {
          "output_type": "stream",
          "text": [
            "WARNING:tensorflow:From /usr/local/lib/python3.6/dist-packages/tensorflow/python/framework/op_def_library.py:263: colocate_with (from tensorflow.python.framework.ops) is deprecated and will be removed in a future version.\n",
            "Instructions for updating:\n",
            "Colocations handled automatically by placer.\n"
          ],
          "name": "stdout"
        }
      ]
    },
    {
      "cell_type": "code",
      "metadata": {
        "id": "YaiGcbKCVY4m",
        "colab_type": "code",
        "outputId": "265d6d4c-e7af-47a2-f5d3-3eab75609383",
        "colab": {
          "base_uri": "https://localhost:8080/",
          "height": 1020
        }
      },
      "source": [
        "model.summary()"
      ],
      "execution_count": 11,
      "outputs": [
        {
          "output_type": "stream",
          "text": [
            "_________________________________________________________________\n",
            "Layer (type)                 Output Shape              Param #   \n",
            "=================================================================\n",
            "conv2d_1 (Conv2D)            (None, 26, 26, 8)         80        \n",
            "_________________________________________________________________\n",
            "batch_normalization_1 (Batch (None, 26, 26, 8)         32        \n",
            "_________________________________________________________________\n",
            "activation_1 (Activation)    (None, 26, 26, 8)         0         \n",
            "_________________________________________________________________\n",
            "conv2d_2 (Conv2D)            (None, 24, 24, 16)        1168      \n",
            "_________________________________________________________________\n",
            "batch_normalization_2 (Batch (None, 24, 24, 16)        64        \n",
            "_________________________________________________________________\n",
            "activation_2 (Activation)    (None, 24, 24, 16)        0         \n",
            "_________________________________________________________________\n",
            "conv2d_3 (Conv2D)            (None, 24, 24, 10)        170       \n",
            "_________________________________________________________________\n",
            "batch_normalization_3 (Batch (None, 24, 24, 10)        40        \n",
            "_________________________________________________________________\n",
            "activation_3 (Activation)    (None, 24, 24, 10)        0         \n",
            "_________________________________________________________________\n",
            "max_pooling2d_1 (MaxPooling2 (None, 12, 12, 10)        0         \n",
            "_________________________________________________________________\n",
            "conv2d_4 (Conv2D)            (None, 10, 10, 8)         728       \n",
            "_________________________________________________________________\n",
            "batch_normalization_4 (Batch (None, 10, 10, 8)         32        \n",
            "_________________________________________________________________\n",
            "activation_4 (Activation)    (None, 10, 10, 8)         0         \n",
            "_________________________________________________________________\n",
            "conv2d_5 (Conv2D)            (None, 8, 8, 16)          1168      \n",
            "_________________________________________________________________\n",
            "batch_normalization_5 (Batch (None, 8, 8, 16)          64        \n",
            "_________________________________________________________________\n",
            "activation_5 (Activation)    (None, 8, 8, 16)          0         \n",
            "_________________________________________________________________\n",
            "conv2d_6 (Conv2D)            (None, 6, 6, 16)          2320      \n",
            "_________________________________________________________________\n",
            "batch_normalization_6 (Batch (None, 6, 6, 16)          64        \n",
            "_________________________________________________________________\n",
            "activation_6 (Activation)    (None, 6, 6, 16)          0         \n",
            "_________________________________________________________________\n",
            "conv2d_7 (Conv2D)            (None, 4, 4, 16)          2320      \n",
            "_________________________________________________________________\n",
            "batch_normalization_7 (Batch (None, 4, 4, 16)          64        \n",
            "_________________________________________________________________\n",
            "activation_7 (Activation)    (None, 4, 4, 16)          0         \n",
            "_________________________________________________________________\n",
            "conv2d_8 (Conv2D)            (None, 1, 1, 10)          2570      \n",
            "_________________________________________________________________\n",
            "batch_normalization_8 (Batch (None, 1, 1, 10)          40        \n",
            "_________________________________________________________________\n",
            "flatten_1 (Flatten)          (None, 10)                0         \n",
            "_________________________________________________________________\n",
            "activation_8 (Activation)    (None, 10)                0         \n",
            "=================================================================\n",
            "Total params: 10,924\n",
            "Trainable params: 10,724\n",
            "Non-trainable params: 200\n",
            "_________________________________________________________________\n"
          ],
          "name": "stdout"
        }
      ]
    },
    {
      "cell_type": "markdown",
      "metadata": {
        "id": "hrjdilvKMobS",
        "colab_type": "text"
      },
      "source": [
        "Creating a filepath to store the best model. This will help us in figuring out which are the different classes of image which are getting misclassified."
      ]
    },
    {
      "cell_type": "code",
      "metadata": {
        "id": "fpblVFeLoZZV",
        "colab_type": "code",
        "colab": {}
      },
      "source": [
        "model.compile(loss='categorical_crossentropy', optimizer='adam', metrics=['accuracy'])\n",
        "batch_size = 32\n",
        "filepath=\"weights-improvement-{epoch:02d}-{val_acc:.2f}.hdf5\"\n",
        "model_checkpoint = ModelCheckpoint(filepath, monitor='val_acc', verbose=1, save_best_only=True, mode='max')"
      ],
      "execution_count": 0,
      "outputs": []
    },
    {
      "cell_type": "code",
      "metadata": {
        "id": "AqMs0mdIh6rl",
        "colab_type": "code",
        "colab": {}
      },
      "source": [
        "def scheduler(epoch, lr):\n",
        "    return round(0.003 * 1/(1 + 0.319 * epoch), 10)"
      ],
      "execution_count": 0,
      "outputs": []
    },
    {
      "cell_type": "code",
      "metadata": {
        "id": "JRz-V97XobOx",
        "colab_type": "code",
        "outputId": "c03e5a0a-613b-41ea-e0e2-d0e1a279fa55",
        "colab": {
          "base_uri": "https://localhost:8080/",
          "height": 4148
        }
      },
      "source": [
        "history = model.fit_generator(datagen.flow(X_train, Y_train, batch_size=batch_size),\n",
        "                              steps_per_epoch = X_train.shape[0] // batch_size,\n",
        "                              epochs=40, verbose=1, \n",
        "                              validation_data=(X_test, Y_test),\n",
        "                              callbacks=[LearningRateScheduler(scheduler, verbose=1), model_checkpoint])"
      ],
      "execution_count": 14,
      "outputs": [
        {
          "output_type": "stream",
          "text": [
            "WARNING:tensorflow:From /usr/local/lib/python3.6/dist-packages/tensorflow/python/ops/math_ops.py:3066: to_int32 (from tensorflow.python.ops.math_ops) is deprecated and will be removed in a future version.\n",
            "Instructions for updating:\n",
            "Use tf.cast instead.\n",
            "Epoch 1/40\n",
            "\n",
            "Epoch 00001: LearningRateScheduler setting learning rate to 0.003.\n",
            "1875/1875 [==============================] - 45s 24ms/step - loss: 0.5110 - acc: 0.9348 - val_loss: 2.0497 - val_acc: 0.2303\n",
            "\n",
            "Epoch 00001: val_acc improved from -inf to 0.23030, saving model to weights-improvement-01-0.23.hdf5\n",
            "Epoch 2/40\n",
            "\n",
            "Epoch 00002: LearningRateScheduler setting learning rate to 0.0022744503.\n",
            "1875/1875 [==============================] - 41s 22ms/step - loss: 0.2796 - acc: 0.9564 - val_loss: 1.5744 - val_acc: 0.5153\n",
            "\n",
            "Epoch 00002: val_acc improved from 0.23030 to 0.51530, saving model to weights-improvement-02-0.52.hdf5\n",
            "Epoch 3/40\n",
            "\n",
            "Epoch 00003: LearningRateScheduler setting learning rate to 0.0018315018.\n",
            "1875/1875 [==============================] - 41s 22ms/step - loss: 0.2278 - acc: 0.9638 - val_loss: 0.4256 - val_acc: 0.9185\n",
            "\n",
            "Epoch 00003: val_acc improved from 0.51530 to 0.91850, saving model to weights-improvement-03-0.92.hdf5\n",
            "Epoch 4/40\n",
            "\n",
            "Epoch 00004: LearningRateScheduler setting learning rate to 0.0015329586.\n",
            "1875/1875 [==============================] - 40s 21ms/step - loss: 0.2014 - acc: 0.9682 - val_loss: 0.8883 - val_acc: 0.7257\n",
            "\n",
            "Epoch 00004: val_acc did not improve from 0.91850\n",
            "Epoch 5/40\n",
            "\n",
            "Epoch 00005: LearningRateScheduler setting learning rate to 0.0013181019.\n",
            "1875/1875 [==============================] - 41s 22ms/step - loss: 0.1812 - acc: 0.9707 - val_loss: 1.0729 - val_acc: 0.6336\n",
            "\n",
            "Epoch 00005: val_acc did not improve from 0.91850\n",
            "Epoch 6/40\n",
            "\n",
            "Epoch 00006: LearningRateScheduler setting learning rate to 0.0011560694.\n",
            "1875/1875 [==============================] - 41s 22ms/step - loss: 0.1660 - acc: 0.9729 - val_loss: 0.6364 - val_acc: 0.8298\n",
            "\n",
            "Epoch 00006: val_acc did not improve from 0.91850\n",
            "Epoch 7/40\n",
            "\n",
            "Epoch 00007: LearningRateScheduler setting learning rate to 0.0010295127.\n",
            "1875/1875 [==============================] - 41s 22ms/step - loss: 0.1511 - acc: 0.9749 - val_loss: 1.3031 - val_acc: 0.5677\n",
            "\n",
            "Epoch 00007: val_acc did not improve from 0.91850\n",
            "Epoch 8/40\n",
            "\n",
            "Epoch 00008: LearningRateScheduler setting learning rate to 0.0009279307.\n",
            "1875/1875 [==============================] - 41s 22ms/step - loss: 0.1426 - acc: 0.9767 - val_loss: 0.3879 - val_acc: 0.9045\n",
            "\n",
            "Epoch 00008: val_acc did not improve from 0.91850\n",
            "Epoch 9/40\n",
            "\n",
            "Epoch 00009: LearningRateScheduler setting learning rate to 0.0008445946.\n",
            "1875/1875 [==============================] - 40s 22ms/step - loss: 0.1332 - acc: 0.9772 - val_loss: 0.3290 - val_acc: 0.9218\n",
            "\n",
            "Epoch 00009: val_acc improved from 0.91850 to 0.92180, saving model to weights-improvement-09-0.92.hdf5\n",
            "Epoch 10/40\n",
            "\n",
            "Epoch 00010: LearningRateScheduler setting learning rate to 0.0007749935.\n",
            "1875/1875 [==============================] - 40s 22ms/step - loss: 0.1263 - acc: 0.9784 - val_loss: 1.1216 - val_acc: 0.6019\n",
            "\n",
            "Epoch 00010: val_acc did not improve from 0.92180\n",
            "Epoch 11/40\n",
            "\n",
            "Epoch 00011: LearningRateScheduler setting learning rate to 0.0007159905.\n",
            "1875/1875 [==============================] - 40s 22ms/step - loss: 0.1194 - acc: 0.9798 - val_loss: 0.4695 - val_acc: 0.8558\n",
            "\n",
            "Epoch 00011: val_acc did not improve from 0.92180\n",
            "Epoch 12/40\n",
            "\n",
            "Epoch 00012: LearningRateScheduler setting learning rate to 0.000665336.\n",
            "1875/1875 [==============================] - 40s 21ms/step - loss: 0.1143 - acc: 0.9805 - val_loss: 0.6771 - val_acc: 0.8033\n",
            "\n",
            "Epoch 00012: val_acc did not improve from 0.92180\n",
            "Epoch 13/40\n",
            "\n",
            "Epoch 00013: LearningRateScheduler setting learning rate to 0.0006213753.\n",
            "1875/1875 [==============================] - 40s 22ms/step - loss: 0.1090 - acc: 0.9821 - val_loss: 0.8785 - val_acc: 0.7109\n",
            "\n",
            "Epoch 00013: val_acc did not improve from 0.92180\n",
            "Epoch 14/40\n",
            "\n",
            "Epoch 00014: LearningRateScheduler setting learning rate to 0.0005828638.\n",
            "1875/1875 [==============================] - 40s 21ms/step - loss: 0.1049 - acc: 0.9821 - val_loss: 0.5404 - val_acc: 0.8381\n",
            "\n",
            "Epoch 00014: val_acc did not improve from 0.92180\n",
            "Epoch 15/40\n",
            "\n",
            "Epoch 00015: LearningRateScheduler setting learning rate to 0.0005488474.\n",
            "1875/1875 [==============================] - 40s 21ms/step - loss: 0.1024 - acc: 0.9828 - val_loss: 0.2821 - val_acc: 0.9339\n",
            "\n",
            "Epoch 00015: val_acc improved from 0.92180 to 0.93390, saving model to weights-improvement-15-0.93.hdf5\n",
            "Epoch 16/40\n",
            "\n",
            "Epoch 00016: LearningRateScheduler setting learning rate to 0.0005185825.\n",
            "1875/1875 [==============================] - 40s 21ms/step - loss: 0.1005 - acc: 0.9826 - val_loss: 0.4741 - val_acc: 0.8560\n",
            "\n",
            "Epoch 00016: val_acc did not improve from 0.93390\n",
            "Epoch 17/40\n",
            "\n",
            "Epoch 00017: LearningRateScheduler setting learning rate to 0.000491481.\n",
            "1875/1875 [==============================] - 40s 21ms/step - loss: 0.0940 - acc: 0.9848 - val_loss: 0.2828 - val_acc: 0.9315\n",
            "\n",
            "Epoch 00017: val_acc did not improve from 0.93390\n",
            "Epoch 18/40\n",
            "\n",
            "Epoch 00018: LearningRateScheduler setting learning rate to 0.0004670715.\n",
            "1875/1875 [==============================] - 40s 21ms/step - loss: 0.0922 - acc: 0.9845 - val_loss: 0.3725 - val_acc: 0.8903\n",
            "\n",
            "Epoch 00018: val_acc did not improve from 0.93390\n",
            "Epoch 19/40\n",
            "\n",
            "Epoch 00019: LearningRateScheduler setting learning rate to 0.0004449718.\n",
            "1875/1875 [==============================] - 40s 21ms/step - loss: 0.0876 - acc: 0.9850 - val_loss: 0.5856 - val_acc: 0.8181\n",
            "\n",
            "Epoch 00019: val_acc did not improve from 0.93390\n",
            "Epoch 20/40\n",
            "\n",
            "Epoch 00020: LearningRateScheduler setting learning rate to 0.000424869.\n",
            "1875/1875 [==============================] - 40s 21ms/step - loss: 0.0879 - acc: 0.9851 - val_loss: 0.2003 - val_acc: 0.9510\n",
            "\n",
            "Epoch 00020: val_acc improved from 0.93390 to 0.95100, saving model to weights-improvement-20-0.95.hdf5\n",
            "Epoch 21/40\n",
            "\n",
            "Epoch 00021: LearningRateScheduler setting learning rate to 0.0004065041.\n",
            "1875/1875 [==============================] - 40s 21ms/step - loss: 0.0839 - acc: 0.9859 - val_loss: 0.3234 - val_acc: 0.9128\n",
            "\n",
            "Epoch 00021: val_acc did not improve from 0.95100\n",
            "Epoch 22/40\n",
            "\n",
            "Epoch 00022: LearningRateScheduler setting learning rate to 0.000389661.\n",
            "1875/1875 [==============================] - 40s 21ms/step - loss: 0.0842 - acc: 0.9852 - val_loss: 0.3826 - val_acc: 0.8908\n",
            "\n",
            "Epoch 00022: val_acc did not improve from 0.95100\n",
            "Epoch 23/40\n",
            "\n",
            "Epoch 00023: LearningRateScheduler setting learning rate to 0.0003741581.\n",
            "1875/1875 [==============================] - 40s 21ms/step - loss: 0.0816 - acc: 0.9857 - val_loss: 0.7880 - val_acc: 0.7331\n",
            "\n",
            "Epoch 00023: val_acc did not improve from 0.95100\n",
            "Epoch 24/40\n",
            "\n",
            "Epoch 00024: LearningRateScheduler setting learning rate to 0.0003598417.\n",
            "1875/1875 [==============================] - 39s 21ms/step - loss: 0.0780 - acc: 0.9867 - val_loss: 0.2706 - val_acc: 0.9233\n",
            "\n",
            "Epoch 00024: val_acc did not improve from 0.95100\n",
            "Epoch 25/40\n",
            "\n",
            "Epoch 00025: LearningRateScheduler setting learning rate to 0.0003465804.\n",
            "1875/1875 [==============================] - 40s 21ms/step - loss: 0.0767 - acc: 0.9869 - val_loss: 0.5639 - val_acc: 0.8270\n",
            "\n",
            "Epoch 00025: val_acc did not improve from 0.95100\n",
            "Epoch 26/40\n",
            "\n",
            "Epoch 00026: LearningRateScheduler setting learning rate to 0.0003342618.\n",
            "1875/1875 [==============================] - 40s 21ms/step - loss: 0.0742 - acc: 0.9875 - val_loss: 0.2933 - val_acc: 0.9177\n",
            "\n",
            "Epoch 00026: val_acc did not improve from 0.95100\n",
            "Epoch 27/40\n",
            "\n",
            "Epoch 00027: LearningRateScheduler setting learning rate to 0.0003227889.\n",
            "1875/1875 [==============================] - 40s 21ms/step - loss: 0.0741 - acc: 0.9873 - val_loss: 0.4315 - val_acc: 0.8622\n",
            "\n",
            "Epoch 00027: val_acc did not improve from 0.95100\n",
            "Epoch 28/40\n",
            "\n",
            "Epoch 00028: LearningRateScheduler setting learning rate to 0.0003120774.\n",
            "1875/1875 [==============================] - 40s 21ms/step - loss: 0.0726 - acc: 0.9876 - val_loss: 0.3528 - val_acc: 0.8938\n",
            "\n",
            "Epoch 00028: val_acc did not improve from 0.95100\n",
            "Epoch 29/40\n",
            "\n",
            "Epoch 00029: LearningRateScheduler setting learning rate to 0.000302054.\n",
            "1875/1875 [==============================] - 40s 21ms/step - loss: 0.0701 - acc: 0.9883 - val_loss: 0.4565 - val_acc: 0.8494\n",
            "\n",
            "Epoch 00029: val_acc did not improve from 0.95100\n",
            "Epoch 30/40\n",
            "\n",
            "Epoch 00030: LearningRateScheduler setting learning rate to 0.0002926544.\n",
            "1875/1875 [==============================] - 40s 21ms/step - loss: 0.0699 - acc: 0.9880 - val_loss: 0.2842 - val_acc: 0.9180\n",
            "\n",
            "Epoch 00030: val_acc did not improve from 0.95100\n",
            "Epoch 31/40\n",
            "\n",
            "Epoch 00031: LearningRateScheduler setting learning rate to 0.0002838221.\n",
            "1875/1875 [==============================] - 42s 22ms/step - loss: 0.0691 - acc: 0.9879 - val_loss: 0.3157 - val_acc: 0.9185\n",
            "\n",
            "Epoch 00031: val_acc did not improve from 0.95100\n",
            "Epoch 32/40\n",
            "\n",
            "Epoch 00032: LearningRateScheduler setting learning rate to 0.0002755074.\n",
            "1875/1875 [==============================] - 41s 22ms/step - loss: 0.0668 - acc: 0.9884 - val_loss: 0.4760 - val_acc: 0.8441\n",
            "\n",
            "Epoch 00032: val_acc did not improve from 0.95100\n",
            "Epoch 33/40\n",
            "\n",
            "Epoch 00033: LearningRateScheduler setting learning rate to 0.000267666.\n",
            "1875/1875 [==============================] - 41s 22ms/step - loss: 0.0655 - acc: 0.9890 - val_loss: 0.4767 - val_acc: 0.8460\n",
            "\n",
            "Epoch 00033: val_acc did not improve from 0.95100\n",
            "Epoch 34/40\n",
            "\n",
            "Epoch 00034: LearningRateScheduler setting learning rate to 0.0002602585.\n",
            "1875/1875 [==============================] - 41s 22ms/step - loss: 0.0635 - acc: 0.9893 - val_loss: 0.6533 - val_acc: 0.8144\n",
            "\n",
            "Epoch 00034: val_acc did not improve from 0.95100\n",
            "Epoch 35/40\n",
            "\n",
            "Epoch 00035: LearningRateScheduler setting learning rate to 0.00025325.\n",
            "1875/1875 [==============================] - 41s 22ms/step - loss: 0.0649 - acc: 0.9887 - val_loss: 0.4508 - val_acc: 0.8614\n",
            "\n",
            "Epoch 00035: val_acc did not improve from 0.95100\n",
            "Epoch 36/40\n",
            "\n",
            "Epoch 00036: LearningRateScheduler setting learning rate to 0.0002466091.\n",
            "1875/1875 [==============================] - 41s 22ms/step - loss: 0.0618 - acc: 0.9896 - val_loss: 0.2517 - val_acc: 0.9270\n",
            "\n",
            "Epoch 00036: val_acc did not improve from 0.95100\n",
            "Epoch 37/40\n",
            "\n",
            "Epoch 00037: LearningRateScheduler setting learning rate to 0.0002403076.\n",
            "1875/1875 [==============================] - 40s 22ms/step - loss: 0.0607 - acc: 0.9896 - val_loss: 0.3484 - val_acc: 0.8847\n",
            "\n",
            "Epoch 00037: val_acc did not improve from 0.95100\n",
            "Epoch 38/40\n",
            "\n",
            "Epoch 00038: LearningRateScheduler setting learning rate to 0.0002343201.\n",
            "1875/1875 [==============================] - 41s 22ms/step - loss: 0.0609 - acc: 0.9895 - val_loss: 0.2888 - val_acc: 0.9120\n",
            "\n",
            "Epoch 00038: val_acc did not improve from 0.95100\n",
            "Epoch 39/40\n",
            "\n",
            "Epoch 00039: LearningRateScheduler setting learning rate to 0.0002286237.\n",
            "1875/1875 [==============================] - 41s 22ms/step - loss: 0.0596 - acc: 0.9902 - val_loss: 0.3050 - val_acc: 0.9115\n",
            "\n",
            "Epoch 00039: val_acc did not improve from 0.95100\n",
            "Epoch 40/40\n",
            "\n",
            "Epoch 00040: LearningRateScheduler setting learning rate to 0.0002231977.\n",
            "1875/1875 [==============================] - 41s 22ms/step - loss: 0.0588 - acc: 0.9895 - val_loss: 0.4790 - val_acc: 0.8349\n",
            "\n",
            "Epoch 00040: val_acc did not improve from 0.95100\n"
          ],
          "name": "stdout"
        }
      ]
    },
    {
      "cell_type": "code",
      "metadata": {
        "id": "WLxlW9ufyQiO",
        "colab_type": "code",
        "outputId": "1c241ae9-5fd2-4e4a-d141-1f8b28b24db5",
        "colab": {
          "base_uri": "https://localhost:8080/",
          "height": 34
        }
      },
      "source": [
        "score = model.evaluate(X_test, Y_test, verbose=0)\n",
        "print(score)"
      ],
      "execution_count": 15,
      "outputs": [
        {
          "output_type": "stream",
          "text": [
            "[0.47903763253688814, 0.8349]\n"
          ],
          "name": "stdout"
        }
      ]
    },
    {
      "cell_type": "code",
      "metadata": {
        "id": "ZZPVw9s_3qON",
        "colab_type": "code",
        "outputId": "67f464f3-7907-4632-a136-5b026649cd19",
        "colab": {
          "base_uri": "https://localhost:8080/",
          "height": 85
        }
      },
      "source": [
        "!ls"
      ],
      "execution_count": 16,
      "outputs": [
        {
          "output_type": "stream",
          "text": [
            "sample_data\t\t\t  weights-improvement-09-0.92.hdf5\n",
            "weights-improvement-01-0.23.hdf5  weights-improvement-15-0.93.hdf5\n",
            "weights-improvement-02-0.52.hdf5  weights-improvement-20-0.95.hdf5\n",
            "weights-improvement-03-0.92.hdf5\n"
          ],
          "name": "stdout"
        }
      ]
    },
    {
      "cell_type": "markdown",
      "metadata": {
        "id": "XsetuH73MzDG",
        "colab_type": "text"
      },
      "source": [
        "## Loading the model weights back to the model"
      ]
    },
    {
      "cell_type": "code",
      "metadata": {
        "id": "clwYb_kM3vFp",
        "colab_type": "code",
        "colab": {}
      },
      "source": [
        "model.load_weights(\"weights-improvement-20-0.95.hdf5\")"
      ],
      "execution_count": 0,
      "outputs": []
    },
    {
      "cell_type": "code",
      "metadata": {
        "id": "DC_YepJo5Vgf",
        "colab_type": "code",
        "outputId": "f63a0dcb-5fe4-4ac2-f175-793853798c7a",
        "colab": {
          "base_uri": "https://localhost:8080/",
          "height": 34
        }
      },
      "source": [
        "score = model.evaluate(X_test, Y_test, verbose=0)\n",
        "print(score)"
      ],
      "execution_count": 18,
      "outputs": [
        {
          "output_type": "stream",
          "text": [
            "[0.20030726255178452, 0.951]\n"
          ],
          "name": "stdout"
        }
      ]
    },
    {
      "cell_type": "code",
      "metadata": {
        "id": "2BFB3x774B7o",
        "colab_type": "code",
        "colab": {}
      },
      "source": [
        "prediction = model.predict_classes(X_test)"
      ],
      "execution_count": 0,
      "outputs": []
    },
    {
      "cell_type": "markdown",
      "metadata": {
        "id": "uTPyzi-_M47E",
        "colab_type": "text"
      },
      "source": [
        "### Data study to find out misclassified images."
      ]
    },
    {
      "cell_type": "code",
      "metadata": {
        "id": "U6_BWwpy4Qlj",
        "colab_type": "code",
        "colab": {}
      },
      "source": [
        "misclassified = []\n",
        "for i in range(len(Y_test)):\n",
        "    if y_test[i] != prediction[i]:\n",
        "        misclassified.append((y_test[i], prediction[i], i))"
      ],
      "execution_count": 0,
      "outputs": []
    },
    {
      "cell_type": "code",
      "metadata": {
        "id": "BlqNBD3E4R4m",
        "colab_type": "code",
        "outputId": "53c87cb3-5566-49fb-a9c3-fd318278d03a",
        "colab": {
          "base_uri": "https://localhost:8080/",
          "height": 34
        }
      },
      "source": [
        "len(misclassified)"
      ],
      "execution_count": 21,
      "outputs": [
        {
          "output_type": "execute_result",
          "data": {
            "text/plain": [
              "490"
            ]
          },
          "metadata": {
            "tags": []
          },
          "execution_count": 21
        }
      ]
    },
    {
      "cell_type": "code",
      "metadata": {
        "id": "RRTTU-2F5QzM",
        "colab_type": "code",
        "colab": {}
      },
      "source": [
        "misclassified_images = []\n",
        "misclassified_classes = []\n",
        "actual_classes = []\n",
        "\n",
        "for actual_val, pred_val, i in misclassified:\n",
        "    misclassified_images.append(X_test[i])\n",
        "    actual_classes.append(actual_val)\n",
        "    misclassified_classes.append(pred_val)"
      ],
      "execution_count": 0,
      "outputs": []
    },
    {
      "cell_type": "code",
      "metadata": {
        "id": "N2mFeyfIMiZp",
        "colab_type": "code",
        "outputId": "6e2dff55-b05f-4682-f6d4-429d8154d1a0",
        "colab": {
          "base_uri": "https://localhost:8080/",
          "height": 34
        }
      },
      "source": [
        "test_images = np.array(misclassified_images)[0:25]\n",
        "test_images.shape"
      ],
      "execution_count": 23,
      "outputs": [
        {
          "output_type": "execute_result",
          "data": {
            "text/plain": [
              "(25, 28, 28, 1)"
            ]
          },
          "metadata": {
            "tags": []
          },
          "execution_count": 23
        }
      ]
    },
    {
      "cell_type": "markdown",
      "metadata": {
        "id": "j53wSR6_NAMj",
        "colab_type": "text"
      },
      "source": [
        "## Plot of 25 images which are misclassified"
      ]
    },
    {
      "cell_type": "code",
      "metadata": {
        "id": "wWW-N5xu5bUN",
        "colab_type": "code",
        "outputId": "980867df-4ca7-48a0-932d-3dbf65e58b3f",
        "colab": {
          "base_uri": "https://localhost:8080/",
          "height": 792
        }
      },
      "source": [
        "fig, ax = plt.subplots(5, 5, figsize = (12, 12))\n",
        "\n",
        "fig.tight_layout(pad = 0.3, rect = [0, 0, 0.9, 0.9])\n",
        "i = 0\n",
        "\n",
        "for row in ax:\n",
        "\tfor col in row:\n",
        "\t\tif i < 25:\n",
        "\t\t\tcol.imshow(test_images[i].reshape(28,28), cmap='gray')\n",
        "\t\t\ti += 1"
      ],
      "execution_count": 24,
      "outputs": [
        {
          "output_type": "display_data",
          "data": {
            "image/png": "[encoded data removed]",
            "text/plain": [
              "<Figure size 864x864 with 25 Axes>"
            ]
          },
          "metadata": {
            "tags": []
          }
        }
      ]
    },
    {
      "cell_type": "markdown",
      "metadata": {
        "id": "xUfgqwX2NEOG",
        "colab_type": "text"
      },
      "source": [
        "The below shows the actual class value and the predicted class value. "
      ]
    },
    {
      "cell_type": "code",
      "metadata": {
        "id": "SWQqjblGMYG3",
        "colab_type": "code",
        "outputId": "7008a51a-ca25-4052-e9e0-96de9ec0608b",
        "colab": {
          "base_uri": "https://localhost:8080/",
          "height": 459
        }
      },
      "source": [
        "print(\"Actual Classes\")\n",
        "for i in range(25):\n",
        "    if i % 5 != 0:\n",
        "        print(actual_classes[i], end=' ')\n",
        "    else:\n",
        "        print('\\n')\n",
        "        print(actual_classes[i], end=' ')\n",
        "        \n",
        "print('\\n\\n')        \n",
        "\n",
        "print(\"Misclassified Classes\")\n",
        "for i in range(25):\n",
        "    if i % 5 != 0:\n",
        "        print(misclassified_classes[i], end=' ')\n",
        "    else:\n",
        "        print('\\n')\n",
        "        print(misclassified_classes[i], end=' ')"
      ],
      "execution_count": 25,
      "outputs": [
        {
          "output_type": "stream",
          "text": [
            "Actual Classes\n",
            "\n",
            "\n",
            "9 5 2 9 3 \n",
            "\n",
            "9 9 7 3 8 \n",
            "\n",
            "2 6 9 8 3 \n",
            "\n",
            "9 2 0 2 9 \n",
            "\n",
            "2 9 2 8 0 \n",
            "\n",
            "\n",
            "Misclassified Classes\n",
            "\n",
            "\n",
            "4 6 4 4 7 \n",
            "\n",
            "4 4 1 1 1 \n",
            "\n",
            "1 0 4 4 5 \n",
            "\n",
            "1 7 1 1 4 \n",
            "\n",
            "1 7 0 7 1 "
          ],
          "name": "stdout"
        }
      ]
    },
    {
      "cell_type": "code",
      "metadata": {
        "id": "JE_fkNJsVxM2",
        "colab_type": "code",
        "colab": {}
      },
      "source": [
        ""
      ],
      "execution_count": 0,
      "outputs": []
    }
  ]
}