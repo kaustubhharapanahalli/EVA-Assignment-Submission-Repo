{
  "nbformat": 4,
  "nbformat_minor": 0,
  "metadata": {
    "colab": {
      "name": "EVA_S7 Part 2.ipynb",
      "version": "0.3.2",
      "provenance": [],
      "collapsed_sections": []
    },
    "kernelspec": {
      "name": "python3",
      "display_name": "Python 3"
    },
    "accelerator": "GPU"
  },
  "cells": [
    {
      "cell_type": "markdown",
      "metadata": {
        "id": "eRny09-GAaP8",
        "colab_type": "text"
      },
      "source": [
        "# Importing the required libraries and packages"
      ]
    },
    {
      "cell_type": "code",
      "metadata": {
        "id": "KkwXnw9OfHZl",
        "colab_type": "code",
        "colab": {}
      },
      "source": [
        "import time\n",
        "\n",
        "import matplotlib.pyplot as plt\n",
        "import numpy as np\n",
        "\n",
        "from keras import backend as K\n",
        "from keras.models import Sequential, Model, load_model\n",
        "from keras.layers.convolutional import Convolution2D, MaxPooling2D, Conv2D, SeparableConv2D\n",
        "from keras.layers import Activation, Flatten, Dense, Dropout, Input, GlobalAveragePooling2D, Lambda\n",
        "from keras.layers.normalization import BatchNormalization\n",
        "from keras.utils import np_utils\n",
        "from keras.regularizers import l2\n",
        "from keras.preprocessing.image import ImageDataGenerator\n",
        "from keras.layers.merge import concatenate, Concatenate\n",
        "from keras.callbacks import ModelCheckpoint\n",
        "\n",
        "from keras.datasets import cifar10\n",
        "\n",
        "import tensorflow as tf\n",
        "\n",
        "% matplotlib inline"
      ],
      "execution_count": 0,
      "outputs": []
    },
    {
      "cell_type": "code",
      "metadata": {
        "id": "OdtqBe7STO2A",
        "colab_type": "code",
        "colab": {
          "base_uri": "https://localhost:8080/",
          "height": 122
        },
        "outputId": "b8ab98b1-f172-41bf-80e2-dccb5dc456d8"
      },
      "source": [
        "from google.colab import drive\n",
        "drive.mount('/content/drive')"
      ],
      "execution_count": 2,
      "outputs": [
        {
          "output_type": "stream",
          "text": [
            "Go to this URL in a browser: https://accounts.google.com/o/oauth2/auth?client_id=947318989803-6bn6qk8qdgf4n4g3pfee6491hc0brc4i.apps.googleusercontent.com&redirect_uri=urn%3Aietf%3Awg%3Aoauth%3A2.0%3Aoob&scope=email%20https%3A%2F%2Fwww.googleapis.com%2Fauth%2Fdocs.test%20https%3A%2F%2Fwww.googleapis.com%2Fauth%2Fdrive%20https%3A%2F%2Fwww.googleapis.com%2Fauth%2Fdrive.photos.readonly%20https%3A%2F%2Fwww.googleapis.com%2Fauth%2Fpeopleapi.readonly&response_type=code\n",
            "\n",
            "Enter your authorization code:\n",
            "··········\n",
            "Mounted at /content/drive\n"
          ],
          "name": "stdout"
        }
      ]
    },
    {
      "cell_type": "code",
      "metadata": {
        "id": "MMsHZ3oHJaCW",
        "colab_type": "code",
        "colab": {}
      },
      "source": [
        "np.random.seed(2017) "
      ],
      "execution_count": 0,
      "outputs": []
    },
    {
      "cell_type": "markdown",
      "metadata": {
        "id": "86eZueNZAgjQ",
        "colab_type": "text"
      },
      "source": [
        "# Loading the data "
      ]
    },
    {
      "cell_type": "code",
      "metadata": {
        "id": "NHpnoCHZfO8g",
        "colab_type": "code",
        "outputId": "573f92e4-c177-4500-f1b4-46a697145d1a",
        "colab": {
          "base_uri": "https://localhost:8080/",
          "height": 68
        }
      },
      "source": [
        "(train_features, train_labels), (test_features, test_labels) = cifar10.load_data()\n",
        "num_train, img_channels, img_rows, img_cols =  train_features.shape\n",
        "num_test, _, _, _ =  test_features.shape\n",
        "num_classes = len(np.unique(train_labels))\n",
        "print(num_test)"
      ],
      "execution_count": 4,
      "outputs": [
        {
          "output_type": "stream",
          "text": [
            "Downloading data from https://www.cs.toronto.edu/~kriz/cifar-10-python.tar.gz\n",
            "170500096/170498071 [==============================] - 13s 0us/step\n",
            "10000\n"
          ],
          "name": "stdout"
        }
      ]
    },
    {
      "cell_type": "code",
      "metadata": {
        "id": "14HyBUXdfS6G",
        "colab_type": "code",
        "outputId": "c336c8b1-fedc-45a3-d5c8-00d3e4f14bb7",
        "colab": {
          "base_uri": "https://localhost:8080/",
          "height": 276
        }
      },
      "source": [
        "class_names = ['airplane','automobile','bird','cat','deer',\n",
        "               'dog','frog','horse','ship','truck']\n",
        "\n",
        "fig = plt.figure(figsize=(8,5))\n",
        "\n",
        "for i in range(num_classes):\n",
        "    ax = fig.add_subplot(2, 5, 1 + i, xticks=[], yticks=[])\n",
        "    idx = np.where(train_labels[:]==i)[0]\n",
        "    features_idx = train_features[idx,::]\n",
        "    img_num = np.random.randint(features_idx.shape[0])\n",
        "    im = features_idx[img_num]\n",
        "    ax.set_title(class_names[i])\n",
        "    plt.imshow(im)\n",
        "\n",
        "plt.show()"
      ],
      "execution_count": 5,
      "outputs": [
        {
          "output_type": "display_data",
          "data": {
            "image/png": "[encoded data removed]",
            "text/plain": [
              "<Figure size 576x360 with 10 Axes>"
            ]
          },
          "metadata": {
            "tags": []
          }
        }
      ]
    },
    {
      "cell_type": "code",
      "metadata": {
        "id": "bmfsk76-fadV",
        "colab_type": "code",
        "colab": {}
      },
      "source": [
        "def plot_model_history(model_history):\n",
        "    fig, axs = plt.subplots(1,2,figsize=(15,5))\n",
        "    # summarize history for accuracy\n",
        "    axs[0].plot(range(1,len(model_history.history['acc'])+1),model_history.history['acc'])\n",
        "    axs[0].plot(range(1,len(model_history.history['val_acc'])+1),model_history.history['val_acc'])\n",
        "    axs[0].set_title('Model Accuracy')\n",
        "    axs[0].set_ylabel('Accuracy')\n",
        "    axs[0].set_xlabel('Epoch')\n",
        "    axs[0].set_xticks(np.arange(1,len(model_history.history['acc'])+1),len(model_history.history['acc'])/10)\n",
        "    axs[0].legend(['train', 'val'], loc='best')\n",
        "    # summarize history for loss\n",
        "    axs[1].plot(range(1,len(model_history.history['loss'])+1),model_history.history['loss'])\n",
        "    axs[1].plot(range(1,len(model_history.history['val_loss'])+1),model_history.history['val_loss'])\n",
        "    axs[1].set_title('Model Loss')\n",
        "    axs[1].set_ylabel('Loss')\n",
        "    axs[1].set_xlabel('Epoch')\n",
        "    axs[1].set_xticks(np.arange(1,len(model_history.history['loss'])+1),len(model_history.history['loss'])/10)\n",
        "    axs[1].legend(['train', 'val'], loc='best')\n",
        "    plt.show()"
      ],
      "execution_count": 0,
      "outputs": []
    },
    {
      "cell_type": "code",
      "metadata": {
        "id": "YJMT4rjgfdZz",
        "colab_type": "code",
        "colab": {}
      },
      "source": [
        "def accuracy(test_x, test_y, model):\n",
        "    result = model.predict(test_x)\n",
        "    predicted_class = np.argmax(result, axis=1)\n",
        "    true_class = np.argmax(test_y, axis=1)\n",
        "    num_correct = np.sum(predicted_class == true_class) \n",
        "    accuracy = float(num_correct)/result.shape[0]\n",
        "    return (accuracy * 100)"
      ],
      "execution_count": 0,
      "outputs": []
    },
    {
      "cell_type": "code",
      "metadata": {
        "id": "T5c5nDvxm6zR",
        "colab_type": "code",
        "colab": {}
      },
      "source": [
        "train_features = train_features.astype('float32')/255\n",
        "test_features = test_features.astype('float32')/255\n",
        "# convert class labels to binary class labels\n",
        "train_labels = np_utils.to_categorical(train_labels, num_classes)\n",
        "test_labels = np_utils.to_categorical(test_labels, num_classes)"
      ],
      "execution_count": 0,
      "outputs": []
    },
    {
      "cell_type": "markdown",
      "metadata": {
        "id": "0Clr-PGMAkDr",
        "colab_type": "text"
      },
      "source": [
        "# Model Architecture for ENAS\n",
        "\n",
        "Here, I've changed the model from having Dense layers to the actual Convolution layers."
      ]
    },
    {
      "cell_type": "code",
      "metadata": {
        "id": "TC9EWUAvI9hd",
        "colab_type": "code",
        "outputId": "b2adcf92-475e-489b-dc6a-50fb0cc76eba",
        "colab": {
          "base_uri": "https://localhost:8080/",
          "height": 34
        }
      },
      "source": [
        "train_features.shape"
      ],
      "execution_count": 9,
      "outputs": [
        {
          "output_type": "execute_result",
          "data": {
            "text/plain": [
              "(50000, 32, 32, 3)"
            ]
          },
          "metadata": {
            "tags": []
          },
          "execution_count": 9
        }
      ]
    },
    {
      "cell_type": "code",
      "metadata": {
        "id": "fxKJfLn5M7l5",
        "colab_type": "code",
        "colab": {}
      },
      "source": [
        "def space_to_depth_x1(layer):\n",
        "    return tf.space_to_depth(layer, 2)\n",
        "\n",
        "def space_to_depth_x2(layer):\n",
        "    return tf.space_to_depth(layer, 4)"
      ],
      "execution_count": 0,
      "outputs": []
    },
    {
      "cell_type": "code",
      "metadata": {
        "colab_type": "code",
        "id": "yHbhmeYG1m9c",
        "outputId": "50643014-f917-4a2c-d45c-465215c2b886",
        "colab": {
          "base_uri": "https://localhost:8080/",
          "height": 292
        }
      },
      "source": [
        "input = Input(shape=(32,32,3))\n",
        "\n",
        "layer1 = SeparableConv2D(64, (5,5), padding='same')(input)\n",
        "layer1 = BatchNormalization()(layer1)\n",
        "layer1 = Activation('relu')(layer1)\n",
        "\n",
        "skip_connection1 = layer1\n",
        "skip1 = Lambda(space_to_depth_x1)(layer1)\n",
        "skip11 = Lambda(space_to_depth_x2)(layer1)\n",
        "\n",
        "\n",
        "layer2 = Conv2D(64, (5,5), padding='same')(layer1)\n",
        "layer2 = BatchNormalization()(layer2)\n",
        "layer2 = Activation('relu')(layer2)\n",
        "\n",
        "skip_connection2 = layer2\n",
        "skip2 = Lambda(space_to_depth_x1)(layer2)\n",
        "skip22 = Lambda(space_to_depth_x2)(layer2)\n",
        "\n",
        "\n",
        "layer3 = Conv2D(64, (5,5), padding='same')(layer2)\n",
        "layer3 = BatchNormalization()(layer3)\n",
        "layer3 = Activation('relu')(layer3)\n",
        "\n",
        "skip_connection3 = layer3\n",
        "skip3 = Lambda(space_to_depth_x1)(layer3)\n",
        "skip33 = Lambda(space_to_depth_x2)(layer3)\n",
        "\n",
        "concat1 = Concatenate()([skip_connection1, layer3])\n",
        "\n",
        "layer4 = SeparableConv2D(64, (5,5), padding='same')(concat1)\n",
        "layer4 = BatchNormalization()(layer4)\n",
        "layer4 = Activation('relu')(layer4)\n",
        "\n",
        "skip_connection4 = layer4\n",
        "skip4 = Lambda(space_to_depth_x1)(layer4)\n",
        "skip44 = Lambda(space_to_depth_x2)(layer4)\n",
        "\n",
        "concat2 = Concatenate()([layer4, skip_connection1])\n",
        "\n",
        "bottleneck1 = Conv2D(64, (1,1), padding='same')(concat2)\n",
        "max_pool1 = MaxPooling2D(pool_size=(2,2))(bottleneck1)\n",
        "\n",
        "layer5 = SeparableConv2D(128, (3,3), padding='same')(max_pool1)\n",
        "layer5 = BatchNormalization()(layer5)\n",
        "layer5 = Activation('relu')(layer5)\n",
        "\n",
        "skip_connection5 = layer5\n",
        "skip5 = Lambda(space_to_depth_x1)(layer5)\n",
        "\n",
        "concat3 = Concatenate()([layer5, skip1, skip4])\n",
        "\n",
        "layer6 = Conv2D(128, (5,5), padding='same')(concat3)\n",
        "layer6 = BatchNormalization()(layer6)\n",
        "layer6 = Activation('relu')(layer6)\n",
        "\n",
        "skip_connection6 = layer6\n",
        "skip6 = Lambda(space_to_depth_x1)(layer6)\n",
        "\n",
        "concat4 = Concatenate()([layer6, skip_connection5, skip4, skip3])\n",
        "\n",
        "layer7 = SeparableConv2D(128, (3,3), padding='same')(concat4)\n",
        "layer7 = BatchNormalization()(layer7)\n",
        "layer7 = Activation('relu')(layer7)\n",
        "\n",
        "skip_connection7 = layer7\n",
        "skip7 = Lambda(space_to_depth_x1)(layer7)\n",
        "\n",
        "concat5 = Concatenate()([layer7, skip_connection6, skip_connection5, skip4, skip3, skip1])\n",
        "\n",
        "layer8 = SeparableConv2D(128, (5,5), padding='same')(concat5)\n",
        "layer8 = BatchNormalization()(layer8)\n",
        "layer8 = Activation('relu')(layer8)\n",
        "\n",
        "concat6 = Concatenate()([layer8, skip_connection7, skip_connection5, skip4, skip1])\n",
        "\n",
        "bottleneck2 = Conv2D(64, (1,1), padding='same')(concat6)\n",
        "max_pool2 = MaxPooling2D(pool_size=(2,2))(bottleneck2)\n",
        "\n",
        "concat7 = concatenate([max_pool2, skip6])\n",
        "\n",
        "layer9 = Conv2D(256, (5,5), padding='same')(concat7)\n",
        "layer9 = BatchNormalization()(layer9)\n",
        "layer9 = Activation('relu')(layer9)\n",
        "\n",
        "skip_connection9 = layer9\n",
        "\n",
        "concat8 = Concatenate()([layer9, skip7, skip22, skip11])\n",
        "\n",
        "layer10 = SeparableConv2D(256, (5,5), padding='same')(concat8)\n",
        "layer10 = BatchNormalization()(layer10)\n",
        "layer10 = Activation('relu')(layer10)\n",
        "\n",
        "skip_connection10 = layer10\n",
        "\n",
        "concat9 = Concatenate()([layer10, skip_connection9, skip5, skip33, skip22])\n",
        "\n",
        "layer11 = Conv2D(256, (5,5), padding='same')(concat9)\n",
        "layer11 = BatchNormalization()(layer11)\n",
        "layer11 = Activation('relu')(layer11)\n",
        "\n",
        "concat10 = Concatenate()([layer11, skip_connection10, skip7, skip5, skip44, skip33, skip11])\n",
        "\n",
        "layer12 = SeparableConv2D(256, (5,5), padding='same')(concat10)\n",
        "layer12 = BatchNormalization()(layer12)\n",
        "layer12 = Activation('relu')(layer12)\n",
        "\n",
        "concat11 = Concatenate()([layer12, skip_connection10, skip7, skip44])\n",
        "\n",
        "layer13 = Conv2D(10, (1,1), padding='same')(concat11)\n",
        "layer13 = GlobalAveragePooling2D()(layer13)\n",
        "\n",
        "output = Activation('softmax')(layer13)"
      ],
      "execution_count": 11,
      "outputs": [
        {
          "output_type": "stream",
          "text": [
            "WARNING: Logging before flag parsing goes to stderr.\n",
            "W0615 13:08:28.298961 140080530950016 deprecation_wrapper.py:119] From /usr/local/lib/python3.6/dist-packages/keras/backend/tensorflow_backend.py:74: The name tf.get_default_graph is deprecated. Please use tf.compat.v1.get_default_graph instead.\n",
            "\n",
            "W0615 13:08:28.336402 140080530950016 deprecation_wrapper.py:119] From /usr/local/lib/python3.6/dist-packages/keras/backend/tensorflow_backend.py:517: The name tf.placeholder is deprecated. Please use tf.compat.v1.placeholder instead.\n",
            "\n",
            "W0615 13:08:28.346254 140080530950016 deprecation_wrapper.py:119] From /usr/local/lib/python3.6/dist-packages/keras/backend/tensorflow_backend.py:4138: The name tf.random_uniform is deprecated. Please use tf.random.uniform instead.\n",
            "\n",
            "W0615 13:08:28.397378 140080530950016 deprecation_wrapper.py:119] From /usr/local/lib/python3.6/dist-packages/keras/backend/tensorflow_backend.py:174: The name tf.get_default_session is deprecated. Please use tf.compat.v1.get_default_session instead.\n",
            "\n",
            "W0615 13:08:28.398416 140080530950016 deprecation_wrapper.py:119] From /usr/local/lib/python3.6/dist-packages/keras/backend/tensorflow_backend.py:181: The name tf.ConfigProto is deprecated. Please use tf.compat.v1.ConfigProto instead.\n",
            "\n",
            "W0615 13:08:31.112528 140080530950016 deprecation_wrapper.py:119] From /usr/local/lib/python3.6/dist-packages/keras/backend/tensorflow_backend.py:1834: The name tf.nn.fused_batch_norm is deprecated. Please use tf.compat.v1.nn.fused_batch_norm instead.\n",
            "\n",
            "W0615 13:08:31.584733 140080530950016 deprecation_wrapper.py:119] From /usr/local/lib/python3.6/dist-packages/keras/backend/tensorflow_backend.py:3976: The name tf.nn.max_pool is deprecated. Please use tf.nn.max_pool2d instead.\n",
            "\n"
          ],
          "name": "stderr"
        }
      ]
    },
    {
      "cell_type": "code",
      "metadata": {
        "colab_type": "code",
        "outputId": "7c4a23e9-573b-4bee-c638-54535fc8a84c",
        "id": "fOMyiJ0y1mwR",
        "colab": {
          "base_uri": "https://localhost:8080/",
          "height": 51
        }
      },
      "source": [
        "model = Model(input=[input], output=[output])"
      ],
      "execution_count": 12,
      "outputs": [
        {
          "output_type": "stream",
          "text": [
            "/usr/local/lib/python3.6/dist-packages/ipykernel_launcher.py:1: UserWarning: Update your `Model` call to the Keras 2 API: `Model(inputs=[<tf.Tenso..., outputs=[<tf.Tenso...)`\n",
            "  \"\"\"Entry point for launching an IPython kernel.\n"
          ],
          "name": "stderr"
        }
      ]
    },
    {
      "cell_type": "code",
      "metadata": {
        "colab_type": "code",
        "outputId": "7f110a5f-24d2-4a88-febe-a68738ffb36f",
        "id": "014a4fFN1mde",
        "colab": {
          "base_uri": "https://localhost:8080/",
          "height": 2907
        }
      },
      "source": [
        "model.summary()"
      ],
      "execution_count": 13,
      "outputs": [
        {
          "output_type": "stream",
          "text": [
            "__________________________________________________________________________________________________\n",
            "Layer (type)                    Output Shape         Param #     Connected to                     \n",
            "==================================================================================================\n",
            "input_1 (InputLayer)            (None, 32, 32, 3)    0                                            \n",
            "__________________________________________________________________________________________________\n",
            "separable_conv2d_1 (SeparableCo (None, 32, 32, 64)   331         input_1[0][0]                    \n",
            "__________________________________________________________________________________________________\n",
            "batch_normalization_1 (BatchNor (None, 32, 32, 64)   256         separable_conv2d_1[0][0]         \n",
            "__________________________________________________________________________________________________\n",
            "activation_1 (Activation)       (None, 32, 32, 64)   0           batch_normalization_1[0][0]      \n",
            "__________________________________________________________________________________________________\n",
            "conv2d_1 (Conv2D)               (None, 32, 32, 64)   102464      activation_1[0][0]               \n",
            "__________________________________________________________________________________________________\n",
            "batch_normalization_2 (BatchNor (None, 32, 32, 64)   256         conv2d_1[0][0]                   \n",
            "__________________________________________________________________________________________________\n",
            "activation_2 (Activation)       (None, 32, 32, 64)   0           batch_normalization_2[0][0]      \n",
            "__________________________________________________________________________________________________\n",
            "conv2d_2 (Conv2D)               (None, 32, 32, 64)   102464      activation_2[0][0]               \n",
            "__________________________________________________________________________________________________\n",
            "batch_normalization_3 (BatchNor (None, 32, 32, 64)   256         conv2d_2[0][0]                   \n",
            "__________________________________________________________________________________________________\n",
            "activation_3 (Activation)       (None, 32, 32, 64)   0           batch_normalization_3[0][0]      \n",
            "__________________________________________________________________________________________________\n",
            "concatenate_1 (Concatenate)     (None, 32, 32, 128)  0           activation_1[0][0]               \n",
            "                                                                 activation_3[0][0]               \n",
            "__________________________________________________________________________________________________\n",
            "separable_conv2d_2 (SeparableCo (None, 32, 32, 64)   11456       concatenate_1[0][0]              \n",
            "__________________________________________________________________________________________________\n",
            "batch_normalization_4 (BatchNor (None, 32, 32, 64)   256         separable_conv2d_2[0][0]         \n",
            "__________________________________________________________________________________________________\n",
            "activation_4 (Activation)       (None, 32, 32, 64)   0           batch_normalization_4[0][0]      \n",
            "__________________________________________________________________________________________________\n",
            "concatenate_2 (Concatenate)     (None, 32, 32, 128)  0           activation_4[0][0]               \n",
            "                                                                 activation_1[0][0]               \n",
            "__________________________________________________________________________________________________\n",
            "conv2d_3 (Conv2D)               (None, 32, 32, 64)   8256        concatenate_2[0][0]              \n",
            "__________________________________________________________________________________________________\n",
            "max_pooling2d_1 (MaxPooling2D)  (None, 16, 16, 64)   0           conv2d_3[0][0]                   \n",
            "__________________________________________________________________________________________________\n",
            "separable_conv2d_3 (SeparableCo (None, 16, 16, 128)  8896        max_pooling2d_1[0][0]            \n",
            "__________________________________________________________________________________________________\n",
            "batch_normalization_5 (BatchNor (None, 16, 16, 128)  512         separable_conv2d_3[0][0]         \n",
            "__________________________________________________________________________________________________\n",
            "activation_5 (Activation)       (None, 16, 16, 128)  0           batch_normalization_5[0][0]      \n",
            "__________________________________________________________________________________________________\n",
            "lambda_1 (Lambda)               (None, 16, 16, 256)  0           activation_1[0][0]               \n",
            "__________________________________________________________________________________________________\n",
            "lambda_7 (Lambda)               (None, 16, 16, 256)  0           activation_4[0][0]               \n",
            "__________________________________________________________________________________________________\n",
            "concatenate_3 (Concatenate)     (None, 16, 16, 640)  0           activation_5[0][0]               \n",
            "                                                                 lambda_1[0][0]                   \n",
            "                                                                 lambda_7[0][0]                   \n",
            "__________________________________________________________________________________________________\n",
            "conv2d_4 (Conv2D)               (None, 16, 16, 128)  2048128     concatenate_3[0][0]              \n",
            "__________________________________________________________________________________________________\n",
            "batch_normalization_6 (BatchNor (None, 16, 16, 128)  512         conv2d_4[0][0]                   \n",
            "__________________________________________________________________________________________________\n",
            "activation_6 (Activation)       (None, 16, 16, 128)  0           batch_normalization_6[0][0]      \n",
            "__________________________________________________________________________________________________\n",
            "lambda_5 (Lambda)               (None, 16, 16, 256)  0           activation_3[0][0]               \n",
            "__________________________________________________________________________________________________\n",
            "concatenate_4 (Concatenate)     (None, 16, 16, 768)  0           activation_6[0][0]               \n",
            "                                                                 activation_5[0][0]               \n",
            "                                                                 lambda_7[0][0]                   \n",
            "                                                                 lambda_5[0][0]                   \n",
            "__________________________________________________________________________________________________\n",
            "separable_conv2d_4 (SeparableCo (None, 16, 16, 128)  105344      concatenate_4[0][0]              \n",
            "__________________________________________________________________________________________________\n",
            "batch_normalization_7 (BatchNor (None, 16, 16, 128)  512         separable_conv2d_4[0][0]         \n",
            "__________________________________________________________________________________________________\n",
            "activation_7 (Activation)       (None, 16, 16, 128)  0           batch_normalization_7[0][0]      \n",
            "__________________________________________________________________________________________________\n",
            "concatenate_5 (Concatenate)     (None, 16, 16, 1152) 0           activation_7[0][0]               \n",
            "                                                                 activation_6[0][0]               \n",
            "                                                                 activation_5[0][0]               \n",
            "                                                                 lambda_7[0][0]                   \n",
            "                                                                 lambda_5[0][0]                   \n",
            "                                                                 lambda_1[0][0]                   \n",
            "__________________________________________________________________________________________________\n",
            "separable_conv2d_5 (SeparableCo (None, 16, 16, 128)  176384      concatenate_5[0][0]              \n",
            "__________________________________________________________________________________________________\n",
            "batch_normalization_8 (BatchNor (None, 16, 16, 128)  512         separable_conv2d_5[0][0]         \n",
            "__________________________________________________________________________________________________\n",
            "activation_8 (Activation)       (None, 16, 16, 128)  0           batch_normalization_8[0][0]      \n",
            "__________________________________________________________________________________________________\n",
            "concatenate_6 (Concatenate)     (None, 16, 16, 896)  0           activation_8[0][0]               \n",
            "                                                                 activation_7[0][0]               \n",
            "                                                                 activation_5[0][0]               \n",
            "                                                                 lambda_7[0][0]                   \n",
            "                                                                 lambda_1[0][0]                   \n",
            "__________________________________________________________________________________________________\n",
            "conv2d_5 (Conv2D)               (None, 16, 16, 64)   57408       concatenate_6[0][0]              \n",
            "__________________________________________________________________________________________________\n",
            "max_pooling2d_2 (MaxPooling2D)  (None, 8, 8, 64)     0           conv2d_5[0][0]                   \n",
            "__________________________________________________________________________________________________\n",
            "lambda_10 (Lambda)              (None, 8, 8, 512)    0           activation_6[0][0]               \n",
            "__________________________________________________________________________________________________\n",
            "concatenate_7 (Concatenate)     (None, 8, 8, 576)    0           max_pooling2d_2[0][0]            \n",
            "                                                                 lambda_10[0][0]                  \n",
            "__________________________________________________________________________________________________\n",
            "conv2d_6 (Conv2D)               (None, 8, 8, 256)    3686656     concatenate_7[0][0]              \n",
            "__________________________________________________________________________________________________\n",
            "batch_normalization_9 (BatchNor (None, 8, 8, 256)    1024        conv2d_6[0][0]                   \n",
            "__________________________________________________________________________________________________\n",
            "activation_9 (Activation)       (None, 8, 8, 256)    0           batch_normalization_9[0][0]      \n",
            "__________________________________________________________________________________________________\n",
            "lambda_11 (Lambda)              (None, 8, 8, 512)    0           activation_7[0][0]               \n",
            "__________________________________________________________________________________________________\n",
            "lambda_4 (Lambda)               (None, 8, 8, 1024)   0           activation_2[0][0]               \n",
            "__________________________________________________________________________________________________\n",
            "lambda_2 (Lambda)               (None, 8, 8, 1024)   0           activation_1[0][0]               \n",
            "__________________________________________________________________________________________________\n",
            "concatenate_8 (Concatenate)     (None, 8, 8, 2816)   0           activation_9[0][0]               \n",
            "                                                                 lambda_11[0][0]                  \n",
            "                                                                 lambda_4[0][0]                   \n",
            "                                                                 lambda_2[0][0]                   \n",
            "__________________________________________________________________________________________________\n",
            "separable_conv2d_6 (SeparableCo (None, 8, 8, 256)    791552      concatenate_8[0][0]              \n",
            "__________________________________________________________________________________________________\n",
            "batch_normalization_10 (BatchNo (None, 8, 8, 256)    1024        separable_conv2d_6[0][0]         \n",
            "__________________________________________________________________________________________________\n",
            "activation_10 (Activation)      (None, 8, 8, 256)    0           batch_normalization_10[0][0]     \n",
            "__________________________________________________________________________________________________\n",
            "lambda_9 (Lambda)               (None, 8, 8, 512)    0           activation_5[0][0]               \n",
            "__________________________________________________________________________________________________\n",
            "lambda_6 (Lambda)               (None, 8, 8, 1024)   0           activation_3[0][0]               \n",
            "__________________________________________________________________________________________________\n",
            "concatenate_9 (Concatenate)     (None, 8, 8, 3072)   0           activation_10[0][0]              \n",
            "                                                                 activation_9[0][0]               \n",
            "                                                                 lambda_9[0][0]                   \n",
            "                                                                 lambda_6[0][0]                   \n",
            "                                                                 lambda_4[0][0]                   \n",
            "__________________________________________________________________________________________________\n",
            "conv2d_7 (Conv2D)               (None, 8, 8, 256)    19661056    concatenate_9[0][0]              \n",
            "__________________________________________________________________________________________________\n",
            "batch_normalization_11 (BatchNo (None, 8, 8, 256)    1024        conv2d_7[0][0]                   \n",
            "__________________________________________________________________________________________________\n",
            "activation_11 (Activation)      (None, 8, 8, 256)    0           batch_normalization_11[0][0]     \n",
            "__________________________________________________________________________________________________\n",
            "lambda_8 (Lambda)               (None, 8, 8, 1024)   0           activation_4[0][0]               \n",
            "__________________________________________________________________________________________________\n",
            "concatenate_10 (Concatenate)    (None, 8, 8, 4608)   0           activation_11[0][0]              \n",
            "                                                                 activation_10[0][0]              \n",
            "                                                                 lambda_11[0][0]                  \n",
            "                                                                 lambda_9[0][0]                   \n",
            "                                                                 lambda_8[0][0]                   \n",
            "                                                                 lambda_6[0][0]                   \n",
            "                                                                 lambda_2[0][0]                   \n",
            "__________________________________________________________________________________________________\n",
            "separable_conv2d_7 (SeparableCo (None, 8, 8, 256)    1295104     concatenate_10[0][0]             \n",
            "__________________________________________________________________________________________________\n",
            "batch_normalization_12 (BatchNo (None, 8, 8, 256)    1024        separable_conv2d_7[0][0]         \n",
            "__________________________________________________________________________________________________\n",
            "activation_12 (Activation)      (None, 8, 8, 256)    0           batch_normalization_12[0][0]     \n",
            "__________________________________________________________________________________________________\n",
            "concatenate_11 (Concatenate)    (None, 8, 8, 2048)   0           activation_12[0][0]              \n",
            "                                                                 activation_10[0][0]              \n",
            "                                                                 lambda_11[0][0]                  \n",
            "                                                                 lambda_8[0][0]                   \n",
            "__________________________________________________________________________________________________\n",
            "conv2d_8 (Conv2D)               (None, 8, 8, 10)     20490       concatenate_11[0][0]             \n",
            "__________________________________________________________________________________________________\n",
            "global_average_pooling2d_1 (Glo (None, 10)           0           conv2d_8[0][0]                   \n",
            "__________________________________________________________________________________________________\n",
            "activation_13 (Activation)      (None, 10)           0           global_average_pooling2d_1[0][0] \n",
            "==================================================================================================\n",
            "Total params: 28,083,157\n",
            "Trainable params: 28,079,573\n",
            "Non-trainable params: 3,584\n",
            "__________________________________________________________________________________________________\n"
          ],
          "name": "stdout"
        }
      ]
    },
    {
      "cell_type": "code",
      "metadata": {
        "colab_type": "code",
        "id": "O_iM5YHt1mXe",
        "outputId": "183f0f36-b445-437d-eb7f-9e24ec32dd93",
        "colab": {
          "base_uri": "https://localhost:8080/",
          "height": 51
        }
      },
      "source": [
        "# Compile the model\n",
        "model.compile(optimizer='adam', loss='categorical_crossentropy', metrics=['accuracy'])"
      ],
      "execution_count": 14,
      "outputs": [
        {
          "output_type": "stream",
          "text": [
            "W0615 13:08:32.426860 140080530950016 deprecation_wrapper.py:119] From /usr/local/lib/python3.6/dist-packages/keras/optimizers.py:790: The name tf.train.Optimizer is deprecated. Please use tf.compat.v1.train.Optimizer instead.\n",
            "\n"
          ],
          "name": "stderr"
        }
      ]
    },
    {
      "cell_type": "code",
      "metadata": {
        "id": "o7ZkMBnRTCt7",
        "colab_type": "code",
        "colab": {}
      },
      "source": [
        "filepath=\"drive/My Drive/EVA/S7/weights-improvement-{epoch:02d}-{val_acc:.2f}.hdf5\"\n",
        "model_checkpoint = ModelCheckpoint(filepath, monitor='val_acc', verbose=1, save_best_only=True, mode='max')"
      ],
      "execution_count": 0,
      "outputs": []
    },
    {
      "cell_type": "code",
      "metadata": {
        "colab_type": "code",
        "outputId": "b220776a-f982-4c71-a194-a1b12ef8a68b",
        "id": "gFQE2Wej1mDs",
        "colab": {
          "base_uri": "https://localhost:8080/",
          "height": 7323
        }
      },
      "source": [
        "datagen = ImageDataGenerator(zoom_range=0.0, \n",
        "                             horizontal_flip=False)\n",
        "\n",
        "\n",
        "# train the model\n",
        "start = time.time()\n",
        "# Train the model\n",
        "model_info = model.fit_generator(datagen.flow(train_features, train_labels, batch_size = 128),\n",
        "                                 samples_per_epoch = train_features.shape[0], nb_epoch = 100, \n",
        "                                 validation_data = (test_features, test_labels), verbose=1, shuffle=False,\n",
        "                                 callbacks=[model_checkpoint])\n",
        "end = time.time()\n",
        "print (\"Model took %0.2f seconds to train\"%(end - start))\n",
        "# plot model history\n",
        "plot_model_history(model_info)\n",
        "# compute test accuracy\n",
        "print (\"Accuracy on test data is: %0.2f\"%accuracy(test_features, test_labels, model))"
      ],
      "execution_count": 16,
      "outputs": [
        {
          "output_type": "stream",
          "text": [
            "/usr/local/lib/python3.6/dist-packages/ipykernel_launcher.py:11: UserWarning: The semantics of the Keras 2 argument `steps_per_epoch` is not the same as the Keras 1 argument `samples_per_epoch`. `steps_per_epoch` is the number of batches to draw from the generator at each epoch. Basically steps_per_epoch = samples_per_epoch/batch_size. Similarly `nb_val_samples`->`validation_steps` and `val_samples`->`steps` arguments have changed. Update your method calls accordingly.\n",
            "  # This is added back by InteractiveShellApp.init_path()\n",
            "/usr/local/lib/python3.6/dist-packages/ipykernel_launcher.py:11: UserWarning: Update your `fit_generator` call to the Keras 2 API: `fit_generator(<keras_pre..., validation_data=(array([[[..., verbose=1, shuffle=False, callbacks=[<keras.ca..., steps_per_epoch=390, epochs=100)`\n",
            "  # This is added back by InteractiveShellApp.init_path()\n",
            "W0615 13:08:32.601538 140080530950016 deprecation.py:323] From /usr/local/lib/python3.6/dist-packages/tensorflow/python/ops/math_grad.py:1250: add_dispatch_support.<locals>.wrapper (from tensorflow.python.ops.array_ops) is deprecated and will be removed in a future version.\n",
            "Instructions for updating:\n",
            "Use tf.where in 2.0, which has the same broadcast rule as np.where\n"
          ],
          "name": "stderr"
        },
        {
          "output_type": "stream",
          "text": [
            "Epoch 1/100\n",
            "390/390 [==============================] - 152s 389ms/step - loss: 1.2622 - acc: 0.5448 - val_loss: 1.8033 - val_acc: 0.5292\n",
            "\n",
            "Epoch 00001: val_acc improved from -inf to 0.52920, saving model to drive/My Drive/EVA/S7/weights-improvement-01-0.53.hdf5\n",
            "Epoch 2/100\n",
            "390/390 [==============================] - 150s 384ms/step - loss: 0.8288 - acc: 0.7060 - val_loss: 1.1454 - val_acc: 0.6254\n",
            "\n",
            "Epoch 00002: val_acc improved from 0.52920 to 0.62540, saving model to drive/My Drive/EVA/S7/weights-improvement-02-0.63.hdf5\n",
            "Epoch 3/100\n",
            "390/390 [==============================] - 146s 374ms/step - loss: 0.6247 - acc: 0.7831 - val_loss: 0.9442 - val_acc: 0.6939\n",
            "\n",
            "Epoch 00003: val_acc improved from 0.62540 to 0.69390, saving model to drive/My Drive/EVA/S7/weights-improvement-03-0.69.hdf5\n",
            "Epoch 4/100\n",
            "390/390 [==============================] - 146s 375ms/step - loss: 0.4952 - acc: 0.8279 - val_loss: 0.8619 - val_acc: 0.7400\n",
            "\n",
            "Epoch 00004: val_acc improved from 0.69390 to 0.74000, saving model to drive/My Drive/EVA/S7/weights-improvement-04-0.74.hdf5\n",
            "Epoch 5/100\n",
            "390/390 [==============================] - 146s 375ms/step - loss: 0.3825 - acc: 0.8674 - val_loss: 0.8099 - val_acc: 0.7559\n",
            "\n",
            "Epoch 00005: val_acc improved from 0.74000 to 0.75590, saving model to drive/My Drive/EVA/S7/weights-improvement-05-0.76.hdf5\n",
            "Epoch 6/100\n",
            "390/390 [==============================] - 146s 375ms/step - loss: 0.2825 - acc: 0.9005 - val_loss: 1.1863 - val_acc: 0.6650\n",
            "\n",
            "Epoch 00006: val_acc did not improve from 0.75590\n",
            "Epoch 7/100\n",
            "390/390 [==============================] - 146s 374ms/step - loss: 0.1978 - acc: 0.9324 - val_loss: 0.9729 - val_acc: 0.7435\n",
            "\n",
            "Epoch 00007: val_acc did not improve from 0.75590\n",
            "Epoch 8/100\n",
            "390/390 [==============================] - 146s 375ms/step - loss: 0.1392 - acc: 0.9522 - val_loss: 1.3260 - val_acc: 0.6881\n",
            "\n",
            "Epoch 00008: val_acc did not improve from 0.75590\n",
            "Epoch 9/100\n",
            "390/390 [==============================] - 146s 373ms/step - loss: 0.0944 - acc: 0.9672 - val_loss: 1.1258 - val_acc: 0.7509\n",
            "\n",
            "Epoch 00009: val_acc did not improve from 0.75590\n",
            "Epoch 10/100\n",
            "390/390 [==============================] - 146s 373ms/step - loss: 0.0834 - acc: 0.9715 - val_loss: 1.6120 - val_acc: 0.6966\n",
            "\n",
            "Epoch 00010: val_acc did not improve from 0.75590\n",
            "Epoch 11/100\n",
            "390/390 [==============================] - 145s 373ms/step - loss: 0.0564 - acc: 0.9808 - val_loss: 0.9943 - val_acc: 0.7876\n",
            "\n",
            "Epoch 00011: val_acc improved from 0.75590 to 0.78760, saving model to drive/My Drive/EVA/S7/weights-improvement-11-0.79.hdf5\n",
            "Epoch 12/100\n",
            "390/390 [==============================] - 146s 375ms/step - loss: 0.0541 - acc: 0.9809 - val_loss: 1.2456 - val_acc: 0.7716\n",
            "\n",
            "Epoch 00012: val_acc did not improve from 0.78760\n",
            "Epoch 13/100\n",
            "390/390 [==============================] - 145s 372ms/step - loss: 0.0594 - acc: 0.9796 - val_loss: 1.5965 - val_acc: 0.7144\n",
            "\n",
            "Epoch 00013: val_acc did not improve from 0.78760\n",
            "Epoch 14/100\n",
            "390/390 [==============================] - 145s 373ms/step - loss: 0.0467 - acc: 0.9835 - val_loss: 1.1425 - val_acc: 0.7694\n",
            "\n",
            "Epoch 00014: val_acc did not improve from 0.78760\n",
            "Epoch 15/100\n",
            "390/390 [==============================] - 146s 374ms/step - loss: 0.0407 - acc: 0.9854 - val_loss: 1.4775 - val_acc: 0.7543\n",
            "\n",
            "Epoch 00015: val_acc did not improve from 0.78760\n",
            "Epoch 16/100\n",
            "390/390 [==============================] - 146s 373ms/step - loss: 0.0435 - acc: 0.9847 - val_loss: 1.2131 - val_acc: 0.7831\n",
            "\n",
            "Epoch 00016: val_acc did not improve from 0.78760\n",
            "Epoch 17/100\n",
            "390/390 [==============================] - 146s 373ms/step - loss: 0.0406 - acc: 0.9857 - val_loss: 1.2946 - val_acc: 0.7700\n",
            "\n",
            "Epoch 00017: val_acc did not improve from 0.78760\n",
            "Epoch 18/100\n",
            "390/390 [==============================] - 146s 373ms/step - loss: 0.0399 - acc: 0.9862 - val_loss: 1.9706 - val_acc: 0.7233\n",
            "\n",
            "Epoch 00018: val_acc did not improve from 0.78760\n",
            "Epoch 19/100\n",
            "390/390 [==============================] - 146s 374ms/step - loss: 0.0269 - acc: 0.9910 - val_loss: 1.1879 - val_acc: 0.7867\n",
            "\n",
            "Epoch 00019: val_acc did not improve from 0.78760\n",
            "Epoch 20/100\n",
            "390/390 [==============================] - 146s 373ms/step - loss: 0.0358 - acc: 0.9872 - val_loss: 1.2321 - val_acc: 0.7744\n",
            "\n",
            "Epoch 00020: val_acc did not improve from 0.78760\n",
            "Epoch 21/100\n",
            "390/390 [==============================] - 146s 374ms/step - loss: 0.0348 - acc: 0.9885 - val_loss: 1.4779 - val_acc: 0.7731\n",
            "\n",
            "Epoch 00021: val_acc did not improve from 0.78760\n",
            "Epoch 22/100\n",
            "390/390 [==============================] - 146s 375ms/step - loss: 0.0248 - acc: 0.9920 - val_loss: 1.4171 - val_acc: 0.7493\n",
            "\n",
            "Epoch 00022: val_acc did not improve from 0.78760\n",
            "Epoch 23/100\n",
            "390/390 [==============================] - 146s 374ms/step - loss: 0.0316 - acc: 0.9897 - val_loss: 1.3903 - val_acc: 0.7961\n",
            "\n",
            "Epoch 00023: val_acc improved from 0.78760 to 0.79610, saving model to drive/My Drive/EVA/S7/weights-improvement-23-0.80.hdf5\n",
            "Epoch 24/100\n",
            "390/390 [==============================] - 146s 374ms/step - loss: 0.0162 - acc: 0.9946 - val_loss: 1.2297 - val_acc: 0.7940\n",
            "\n",
            "Epoch 00024: val_acc did not improve from 0.79610\n",
            "Epoch 25/100\n",
            "390/390 [==============================] - 146s 375ms/step - loss: 0.0274 - acc: 0.9907 - val_loss: 1.7553 - val_acc: 0.7540\n",
            "\n",
            "Epoch 00025: val_acc did not improve from 0.79610\n",
            "Epoch 26/100\n",
            "390/390 [==============================] - 146s 374ms/step - loss: 0.0305 - acc: 0.9891 - val_loss: 1.9124 - val_acc: 0.7013\n",
            "\n",
            "Epoch 00026: val_acc did not improve from 0.79610\n",
            "Epoch 27/100\n",
            "390/390 [==============================] - 146s 374ms/step - loss: 0.0271 - acc: 0.9909 - val_loss: 1.2100 - val_acc: 0.7848\n",
            "\n",
            "Epoch 00027: val_acc did not improve from 0.79610\n",
            "Epoch 28/100\n",
            "390/390 [==============================] - 146s 374ms/step - loss: 0.0245 - acc: 0.9916 - val_loss: 1.5889 - val_acc: 0.7534\n",
            "\n",
            "Epoch 00028: val_acc did not improve from 0.79610\n",
            "Epoch 29/100\n",
            "390/390 [==============================] - 146s 374ms/step - loss: 0.0274 - acc: 0.9903 - val_loss: 1.5745 - val_acc: 0.7712\n",
            "\n",
            "Epoch 00029: val_acc did not improve from 0.79610\n",
            "Epoch 30/100\n",
            "390/390 [==============================] - 146s 373ms/step - loss: 0.0123 - acc: 0.9961 - val_loss: 1.1860 - val_acc: 0.8182\n",
            "\n",
            "Epoch 00030: val_acc improved from 0.79610 to 0.81820, saving model to drive/My Drive/EVA/S7/weights-improvement-30-0.82.hdf5\n",
            "Epoch 31/100\n",
            "390/390 [==============================] - 146s 374ms/step - loss: 0.0217 - acc: 0.9929 - val_loss: 2.1494 - val_acc: 0.7315\n",
            "\n",
            "Epoch 00031: val_acc did not improve from 0.81820\n",
            "Epoch 32/100\n",
            "390/390 [==============================] - 146s 373ms/step - loss: 0.0254 - acc: 0.9913 - val_loss: 2.3245 - val_acc: 0.6961\n",
            "\n",
            "Epoch 00032: val_acc did not improve from 0.81820\n",
            "Epoch 33/100\n",
            "390/390 [==============================] - 146s 374ms/step - loss: 0.0232 - acc: 0.9917 - val_loss: 1.2707 - val_acc: 0.7966\n",
            "\n",
            "Epoch 00033: val_acc did not improve from 0.81820\n",
            "Epoch 34/100\n",
            "390/390 [==============================] - 146s 373ms/step - loss: 0.0131 - acc: 0.9957 - val_loss: 1.3860 - val_acc: 0.7921\n",
            "\n",
            "Epoch 00034: val_acc did not improve from 0.81820\n",
            "Epoch 35/100\n",
            "390/390 [==============================] - 146s 373ms/step - loss: 0.0167 - acc: 0.9938 - val_loss: 1.3064 - val_acc: 0.7969\n",
            "\n",
            "Epoch 00035: val_acc did not improve from 0.81820\n",
            "Epoch 36/100\n",
            "390/390 [==============================] - 146s 373ms/step - loss: 0.0175 - acc: 0.9939 - val_loss: 1.3268 - val_acc: 0.7900\n",
            "\n",
            "Epoch 00036: val_acc did not improve from 0.81820\n",
            "Epoch 37/100\n",
            "390/390 [==============================] - 146s 374ms/step - loss: 0.0192 - acc: 0.9936 - val_loss: 1.4012 - val_acc: 0.7779\n",
            "\n",
            "Epoch 00037: val_acc did not improve from 0.81820\n",
            "Epoch 38/100\n",
            "390/390 [==============================] - 145s 373ms/step - loss: 0.0168 - acc: 0.9939 - val_loss: 1.4765 - val_acc: 0.7741\n",
            "\n",
            "Epoch 00038: val_acc did not improve from 0.81820\n",
            "Epoch 39/100\n",
            "390/390 [==============================] - 146s 374ms/step - loss: 0.0160 - acc: 0.9945 - val_loss: 1.7644 - val_acc: 0.7644\n",
            "\n",
            "Epoch 00039: val_acc did not improve from 0.81820\n",
            "Epoch 40/100\n",
            "390/390 [==============================] - 145s 372ms/step - loss: 0.0224 - acc: 0.9919 - val_loss: 1.4638 - val_acc: 0.7783\n",
            "\n",
            "Epoch 00040: val_acc did not improve from 0.81820\n",
            "Epoch 41/100\n",
            "390/390 [==============================] - 145s 372ms/step - loss: 0.0158 - acc: 0.9947 - val_loss: 1.2645 - val_acc: 0.7885\n",
            "\n",
            "Epoch 00041: val_acc did not improve from 0.81820\n",
            "Epoch 42/100\n",
            "390/390 [==============================] - 145s 372ms/step - loss: 0.0184 - acc: 0.9940 - val_loss: 1.2215 - val_acc: 0.8073\n",
            "\n",
            "Epoch 00042: val_acc did not improve from 0.81820\n",
            "Epoch 43/100\n",
            "390/390 [==============================] - 145s 372ms/step - loss: 0.0115 - acc: 0.9960 - val_loss: 1.3561 - val_acc: 0.7957\n",
            "\n",
            "Epoch 00043: val_acc did not improve from 0.81820\n",
            "Epoch 44/100\n",
            "390/390 [==============================] - 145s 372ms/step - loss: 0.0085 - acc: 0.9974 - val_loss: 1.2405 - val_acc: 0.8064\n",
            "\n",
            "Epoch 00044: val_acc did not improve from 0.81820\n",
            "Epoch 45/100\n",
            "390/390 [==============================] - 145s 372ms/step - loss: 0.0157 - acc: 0.9952 - val_loss: 1.4204 - val_acc: 0.7809\n",
            "\n",
            "Epoch 00045: val_acc did not improve from 0.81820\n",
            "Epoch 46/100\n",
            "390/390 [==============================] - 145s 372ms/step - loss: 0.0192 - acc: 0.9932 - val_loss: 1.2104 - val_acc: 0.8071\n",
            "\n",
            "Epoch 00046: val_acc did not improve from 0.81820\n",
            "Epoch 47/100\n",
            "390/390 [==============================] - 145s 373ms/step - loss: 0.0188 - acc: 0.9933 - val_loss: 1.2845 - val_acc: 0.8040\n",
            "\n",
            "Epoch 00047: val_acc did not improve from 0.81820\n",
            "Epoch 48/100\n",
            "390/390 [==============================] - 145s 371ms/step - loss: 0.0082 - acc: 0.9971 - val_loss: 1.1460 - val_acc: 0.8150\n",
            "\n",
            "Epoch 00048: val_acc did not improve from 0.81820\n",
            "Epoch 49/100\n",
            "390/390 [==============================] - 145s 372ms/step - loss: 0.0112 - acc: 0.9963 - val_loss: 1.9757 - val_acc: 0.7510\n",
            "\n",
            "Epoch 00049: val_acc did not improve from 0.81820\n",
            "Epoch 50/100\n",
            "390/390 [==============================] - 145s 371ms/step - loss: 0.0176 - acc: 0.9938 - val_loss: 1.4676 - val_acc: 0.7846\n",
            "\n",
            "Epoch 00050: val_acc did not improve from 0.81820\n",
            "Epoch 51/100\n",
            "390/390 [==============================] - 145s 371ms/step - loss: 0.0138 - acc: 0.9952 - val_loss: 1.2816 - val_acc: 0.8081\n",
            "\n",
            "Epoch 00051: val_acc did not improve from 0.81820\n",
            "Epoch 52/100\n",
            "390/390 [==============================] - 145s 372ms/step - loss: 0.0112 - acc: 0.9960 - val_loss: 1.1558 - val_acc: 0.8129\n",
            "\n",
            "Epoch 00052: val_acc did not improve from 0.81820\n",
            "Epoch 53/100\n",
            "390/390 [==============================] - 145s 372ms/step - loss: 0.0078 - acc: 0.9972 - val_loss: 1.7236 - val_acc: 0.7514\n",
            "\n",
            "Epoch 00053: val_acc did not improve from 0.81820\n",
            "Epoch 54/100\n",
            "390/390 [==============================] - 144s 371ms/step - loss: 0.0140 - acc: 0.9953 - val_loss: 1.5502 - val_acc: 0.7721\n",
            "\n",
            "Epoch 00054: val_acc did not improve from 0.81820\n",
            "Epoch 55/100\n",
            "390/390 [==============================] - 145s 372ms/step - loss: 0.0116 - acc: 0.9963 - val_loss: 1.4996 - val_acc: 0.7882\n",
            "\n",
            "Epoch 00055: val_acc did not improve from 0.81820\n",
            "Epoch 56/100\n",
            "390/390 [==============================] - 145s 371ms/step - loss: 0.0101 - acc: 0.9965 - val_loss: 1.2240 - val_acc: 0.8202\n",
            "\n",
            "Epoch 00056: val_acc improved from 0.81820 to 0.82020, saving model to drive/My Drive/EVA/S7/weights-improvement-56-0.82.hdf5\n",
            "Epoch 57/100\n",
            "390/390 [==============================] - 145s 372ms/step - loss: 0.0174 - acc: 0.9941 - val_loss: 1.5527 - val_acc: 0.7723\n",
            "\n",
            "Epoch 00057: val_acc did not improve from 0.82020\n",
            "Epoch 58/100\n",
            "390/390 [==============================] - 145s 372ms/step - loss: 0.0115 - acc: 0.9959 - val_loss: 1.2691 - val_acc: 0.8109\n",
            "\n",
            "Epoch 00058: val_acc did not improve from 0.82020\n",
            "Epoch 59/100\n",
            "390/390 [==============================] - 145s 371ms/step - loss: 0.0041 - acc: 0.9987 - val_loss: 1.1675 - val_acc: 0.8236\n",
            "\n",
            "Epoch 00059: val_acc improved from 0.82020 to 0.82360, saving model to drive/My Drive/EVA/S7/weights-improvement-59-0.82.hdf5\n",
            "Epoch 60/100\n",
            "390/390 [==============================] - 145s 371ms/step - loss: 0.0127 - acc: 0.9959 - val_loss: 1.6235 - val_acc: 0.7842\n",
            "\n",
            "Epoch 00060: val_acc did not improve from 0.82360\n",
            "Epoch 61/100\n",
            "390/390 [==============================] - 145s 371ms/step - loss: 0.0169 - acc: 0.9943 - val_loss: 1.3433 - val_acc: 0.8059\n",
            "\n",
            "Epoch 00061: val_acc did not improve from 0.82360\n",
            "Epoch 62/100\n",
            "390/390 [==============================] - 145s 371ms/step - loss: 0.0068 - acc: 0.9975 - val_loss: 1.2456 - val_acc: 0.8159\n",
            "\n",
            "Epoch 00062: val_acc did not improve from 0.82360\n",
            "Epoch 63/100\n",
            "390/390 [==============================] - 145s 372ms/step - loss: 0.0042 - acc: 0.9986 - val_loss: 1.4097 - val_acc: 0.8059\n",
            "\n",
            "Epoch 00063: val_acc did not improve from 0.82360\n",
            "Epoch 64/100\n",
            "390/390 [==============================] - 145s 371ms/step - loss: 0.0104 - acc: 0.9967 - val_loss: 1.5516 - val_acc: 0.7725\n",
            "\n",
            "Epoch 00064: val_acc did not improve from 0.82360\n",
            "Epoch 65/100\n",
            "390/390 [==============================] - 144s 370ms/step - loss: 0.0180 - acc: 0.9939 - val_loss: 1.2884 - val_acc: 0.8133\n",
            "\n",
            "Epoch 00065: val_acc did not improve from 0.82360\n",
            "Epoch 66/100\n",
            "390/390 [==============================] - 144s 370ms/step - loss: 0.0087 - acc: 0.9971 - val_loss: 1.1917 - val_acc: 0.8143\n",
            "\n",
            "Epoch 00066: val_acc did not improve from 0.82360\n",
            "Epoch 67/100\n",
            "390/390 [==============================] - 145s 372ms/step - loss: 0.0077 - acc: 0.9973 - val_loss: 1.3994 - val_acc: 0.8060\n",
            "\n",
            "Epoch 00067: val_acc did not improve from 0.82360\n",
            "Epoch 68/100\n",
            "390/390 [==============================] - 145s 371ms/step - loss: 0.0110 - acc: 0.9964 - val_loss: 1.8916 - val_acc: 0.7487\n",
            "\n",
            "Epoch 00068: val_acc did not improve from 0.82360\n",
            "Epoch 69/100\n",
            "390/390 [==============================] - 145s 372ms/step - loss: 0.0085 - acc: 0.9973 - val_loss: 1.4583 - val_acc: 0.7998\n",
            "\n",
            "Epoch 00069: val_acc did not improve from 0.82360\n",
            "Epoch 70/100\n",
            "390/390 [==============================] - 145s 371ms/step - loss: 0.0045 - acc: 0.9983 - val_loss: 1.2604 - val_acc: 0.8208\n",
            "\n",
            "Epoch 00070: val_acc did not improve from 0.82360\n",
            "Epoch 71/100\n",
            "390/390 [==============================] - 145s 372ms/step - loss: 0.0083 - acc: 0.9972 - val_loss: 1.4872 - val_acc: 0.7956\n",
            "\n",
            "Epoch 00071: val_acc did not improve from 0.82360\n",
            "Epoch 72/100\n",
            "390/390 [==============================] - 145s 371ms/step - loss: 0.0152 - acc: 0.9949 - val_loss: 1.4657 - val_acc: 0.7986\n",
            "\n",
            "Epoch 00072: val_acc did not improve from 0.82360\n",
            "Epoch 73/100\n",
            "390/390 [==============================] - 144s 370ms/step - loss: 0.0077 - acc: 0.9973 - val_loss: 1.3577 - val_acc: 0.8020\n",
            "\n",
            "Epoch 00073: val_acc did not improve from 0.82360\n",
            "Epoch 74/100\n",
            "390/390 [==============================] - 145s 372ms/step - loss: 0.0106 - acc: 0.9966 - val_loss: 1.5074 - val_acc: 0.8011\n",
            "\n",
            "Epoch 00074: val_acc did not improve from 0.82360\n",
            "Epoch 75/100\n",
            "390/390 [==============================] - 144s 370ms/step - loss: 0.0070 - acc: 0.9976 - val_loss: 1.5474 - val_acc: 0.7942\n",
            "\n",
            "Epoch 00075: val_acc did not improve from 0.82360\n",
            "Epoch 76/100\n",
            "390/390 [==============================] - 145s 371ms/step - loss: 0.0080 - acc: 0.9975 - val_loss: 1.2846 - val_acc: 0.8174\n",
            "\n",
            "Epoch 00076: val_acc did not improve from 0.82360\n",
            "Epoch 77/100\n",
            "390/390 [==============================] - 145s 371ms/step - loss: 0.0089 - acc: 0.9968 - val_loss: 1.5334 - val_acc: 0.7822\n",
            "\n",
            "Epoch 00077: val_acc did not improve from 0.82360\n",
            "Epoch 78/100\n",
            "390/390 [==============================] - 144s 370ms/step - loss: 0.0075 - acc: 0.9976 - val_loss: 1.4279 - val_acc: 0.8071\n",
            "\n",
            "Epoch 00078: val_acc did not improve from 0.82360\n",
            "Epoch 79/100\n",
            "390/390 [==============================] - 145s 371ms/step - loss: 0.0092 - acc: 0.9969 - val_loss: 1.2701 - val_acc: 0.8229\n",
            "\n",
            "Epoch 00079: val_acc did not improve from 0.82360\n",
            "Epoch 80/100\n",
            "390/390 [==============================] - 144s 370ms/step - loss: 0.0076 - acc: 0.9974 - val_loss: 1.3713 - val_acc: 0.8127\n",
            "\n",
            "Epoch 00080: val_acc did not improve from 0.82360\n",
            "Epoch 81/100\n",
            "390/390 [==============================] - 145s 371ms/step - loss: 0.0053 - acc: 0.9982 - val_loss: 1.2484 - val_acc: 0.8223\n",
            "\n",
            "Epoch 00081: val_acc did not improve from 0.82360\n",
            "Epoch 82/100\n",
            "390/390 [==============================] - 145s 372ms/step - loss: 0.0076 - acc: 0.9974 - val_loss: 1.4028 - val_acc: 0.8067\n",
            "\n",
            "Epoch 00082: val_acc did not improve from 0.82360\n",
            "Epoch 83/100\n",
            "390/390 [==============================] - 145s 371ms/step - loss: 0.0109 - acc: 0.9961 - val_loss: 1.4173 - val_acc: 0.7970\n",
            "\n",
            "Epoch 00083: val_acc did not improve from 0.82360\n",
            "Epoch 84/100\n",
            "390/390 [==============================] - 144s 370ms/step - loss: 0.0074 - acc: 0.9976 - val_loss: 1.2552 - val_acc: 0.8205\n",
            "\n",
            "Epoch 00084: val_acc did not improve from 0.82360\n",
            "Epoch 85/100\n",
            "390/390 [==============================] - 145s 371ms/step - loss: 0.0057 - acc: 0.9982 - val_loss: 1.2761 - val_acc: 0.8147\n",
            "\n",
            "Epoch 00085: val_acc did not improve from 0.82360\n",
            "Epoch 86/100\n",
            "390/390 [==============================] - 145s 372ms/step - loss: 0.0067 - acc: 0.9980 - val_loss: 2.1183 - val_acc: 0.7448\n",
            "\n",
            "Epoch 00086: val_acc did not improve from 0.82360\n",
            "Epoch 87/100\n",
            "390/390 [==============================] - 145s 372ms/step - loss: 0.0139 - acc: 0.9959 - val_loss: 1.3296 - val_acc: 0.8170\n",
            "\n",
            "Epoch 00087: val_acc did not improve from 0.82360\n",
            "Epoch 88/100\n",
            "390/390 [==============================] - 144s 370ms/step - loss: 0.0086 - acc: 0.9972 - val_loss: 1.3237 - val_acc: 0.8104\n",
            "\n",
            "Epoch 00088: val_acc did not improve from 0.82360\n",
            "Epoch 89/100\n",
            "390/390 [==============================] - 145s 371ms/step - loss: 0.0063 - acc: 0.9980 - val_loss: 1.2772 - val_acc: 0.8210\n",
            "\n",
            "Epoch 00089: val_acc did not improve from 0.82360\n",
            "Epoch 90/100\n",
            "390/390 [==============================] - 145s 372ms/step - loss: 0.0030 - acc: 0.9989 - val_loss: 1.2416 - val_acc: 0.8273\n",
            "\n",
            "Epoch 00090: val_acc improved from 0.82360 to 0.82730, saving model to drive/My Drive/EVA/S7/weights-improvement-90-0.83.hdf5\n",
            "Epoch 91/100\n",
            "390/390 [==============================] - 145s 371ms/step - loss: 0.0098 - acc: 0.9965 - val_loss: 1.3843 - val_acc: 0.8054\n",
            "\n",
            "Epoch 00091: val_acc did not improve from 0.82730\n",
            "Epoch 92/100\n",
            "390/390 [==============================] - 145s 371ms/step - loss: 0.0053 - acc: 0.9984 - val_loss: 1.3587 - val_acc: 0.8203\n",
            "\n",
            "Epoch 00092: val_acc did not improve from 0.82730\n",
            "Epoch 93/100\n",
            "390/390 [==============================] - 145s 371ms/step - loss: 0.0081 - acc: 0.9974 - val_loss: 1.3713 - val_acc: 0.8163\n",
            "\n",
            "Epoch 00093: val_acc did not improve from 0.82730\n",
            "Epoch 94/100\n",
            "390/390 [==============================] - 145s 371ms/step - loss: 0.0094 - acc: 0.9968 - val_loss: 1.1904 - val_acc: 0.8312\n",
            "\n",
            "Epoch 00094: val_acc improved from 0.82730 to 0.83120, saving model to drive/My Drive/EVA/S7/weights-improvement-94-0.83.hdf5\n",
            "Epoch 95/100\n",
            "390/390 [==============================] - 145s 371ms/step - loss: 0.0046 - acc: 0.9984 - val_loss: 1.3294 - val_acc: 0.7978\n",
            "\n",
            "Epoch 00095: val_acc did not improve from 0.83120\n",
            "Epoch 96/100\n",
            "390/390 [==============================] - 144s 370ms/step - loss: 0.0057 - acc: 0.9981 - val_loss: 1.3147 - val_acc: 0.8175\n",
            "\n",
            "Epoch 00096: val_acc did not improve from 0.83120\n",
            "Epoch 97/100\n",
            "390/390 [==============================] - 145s 371ms/step - loss: 0.0063 - acc: 0.9979 - val_loss: 1.4104 - val_acc: 0.8168\n",
            "\n",
            "Epoch 00097: val_acc did not improve from 0.83120\n",
            "Epoch 98/100\n",
            "390/390 [==============================] - 144s 370ms/step - loss: 0.0101 - acc: 0.9967 - val_loss: 1.2770 - val_acc: 0.8190\n",
            "\n",
            "Epoch 00098: val_acc did not improve from 0.83120\n",
            "Epoch 99/100\n",
            "390/390 [==============================] - 144s 370ms/step - loss: 0.0034 - acc: 0.9987 - val_loss: 1.2234 - val_acc: 0.8307\n",
            "\n",
            "Epoch 00099: val_acc did not improve from 0.83120\n",
            "Epoch 100/100\n",
            "390/390 [==============================] - 145s 371ms/step - loss: 0.0053 - acc: 0.9982 - val_loss: 1.6356 - val_acc: 0.7917\n",
            "\n",
            "Epoch 00100: val_acc did not improve from 0.83120\n",
            "Model took 14548.17 seconds to train\n"
          ],
          "name": "stdout"
        },
        {
          "output_type": "display_data",
          "data": {
            "image/png": "[encoded data removed]",
            "text/plain": [
              "<Figure size 1080x360 with 2 Axes>"
            ]
          },
          "metadata": {
            "tags": []
          }
        },
        {
          "output_type": "stream",
          "text": [
            "Accuracy on test data is: 79.17\n"
          ],
          "name": "stdout"
        }
      ]
    },
    {
      "cell_type": "markdown",
      "metadata": {
        "id": "5-tekpoGNJcO",
        "colab_type": "text"
      },
      "source": [
        "# Loading the best trained model"
      ]
    },
    {
      "cell_type": "code",
      "metadata": {
        "colab_type": "code",
        "id": "7wgtnJK_1l-e",
        "colab": {}
      },
      "source": [
        "model = load_model('drive/My Drive/EVA/S7/weights-improvement-90-0.83.hdf5', custom_objects={'tf': tf})"
      ],
      "execution_count": 0,
      "outputs": []
    },
    {
      "cell_type": "markdown",
      "metadata": {
        "id": "h2FCvLCJNN-8",
        "colab_type": "text"
      },
      "source": [
        "# Evaluating the model with the test data"
      ]
    },
    {
      "cell_type": "code",
      "metadata": {
        "id": "aJgTmS6CLfbf",
        "colab_type": "code",
        "colab": {
          "base_uri": "https://localhost:8080/",
          "height": 51
        },
        "outputId": "ce7582fe-965d-444a-9c6f-e4b678eb80d2"
      },
      "source": [
        "model.evaluate(test_features, test_labels)"
      ],
      "execution_count": 27,
      "outputs": [
        {
          "output_type": "stream",
          "text": [
            "10000/10000 [==============================] - 13s 1ms/step\n"
          ],
          "name": "stdout"
        },
        {
          "output_type": "execute_result",
          "data": {
            "text/plain": [
              "[1.241630284166336, 0.8273]"
            ]
          },
          "metadata": {
            "tags": []
          },
          "execution_count": 27
        }
      ]
    },
    {
      "cell_type": "code",
      "metadata": {
        "id": "4A8Jf7v1MsFg",
        "colab_type": "code",
        "colab": {}
      },
      "source": [
        ""
      ],
      "execution_count": 0,
      "outputs": []
    }
  ]
}