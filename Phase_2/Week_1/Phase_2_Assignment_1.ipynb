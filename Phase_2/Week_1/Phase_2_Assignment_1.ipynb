{
 "cells": [
  {
   "cell_type": "markdown",
   "metadata": {},
   "source": [
    "###### Author: Kaustubh M. Harapanahalli\n",
    "# Basic Neural Network to train an NLP model on IMDB Review Data set\n",
    "### Importing the necessary packages and libraries"
   ]
  },
  {
   "cell_type": "code",
   "execution_count": 1,
   "metadata": {},
   "outputs": [
    {
     "name": "stderr",
     "output_type": "stream",
     "text": [
      "Using TensorFlow backend.\n"
     ]
    }
   ],
   "source": [
    "import os\n",
    "import numpy as np\n",
    "import matplotlib.pyplot as plt\n",
    "\n",
    "from keras.datasets import imdb\n",
    "from keras import preprocessing\n",
    "from keras.models import Sequential\n",
    "from keras.layers import Flatten, Dense, Embedding\n",
    "from keras.preprocessing.text import Tokenizer\n",
    "from keras.preprocessing.sequence import pad_sequences\n",
    "from keras.callbacks import ModelCheckpoint\n",
    "\n",
    "%matplotlib inline"
   ]
  },
  {
   "cell_type": "markdown",
   "metadata": {},
   "source": [
    "Separating the text and the labels of each review into a list of labels and texts"
   ]
  },
  {
   "cell_type": "code",
   "execution_count": 2,
   "metadata": {},
   "outputs": [],
   "source": [
    "imdb_dir = 'aclImdb'\n",
    "train_dir = os.path.join(imdb_dir, 'train')\n",
    "labels = []\n",
    "texts = []\n",
    "\n",
    "for label_type in ['neg', 'pos']:\n",
    "    dir_name = os.path.join(train_dir, label_type)\n",
    "    for fname in os.listdir(dir_name):\n",
    "        if fname[-4:] == '.txt':\n",
    "            f = open(os.path.join(dir_name, fname), encoding=\"utf-8\")\n",
    "            texts.append(f.read())\n",
    "            f.close()\n",
    "            if label_type == 'neg':\n",
    "                labels.append(0)\n",
    "            else:\n",
    "                labels.append(1)"
   ]
  },
  {
   "cell_type": "markdown",
   "metadata": {},
   "source": [
    "Initializing number of training samples, validation samples, maximum number of words to consider and the maximum number of words that are going to be considered in an individual review"
   ]
  },
  {
   "cell_type": "code",
   "execution_count": 3,
   "metadata": {},
   "outputs": [],
   "source": [
    "maxlen = 100\n",
    "training_samples = 8000\n",
    "validation_samples = 10000\n",
    "max_words = 10000"
   ]
  },
  {
   "cell_type": "markdown",
   "metadata": {},
   "source": [
    "Tokenizing the text into numerical format so as to support the training of the data based on the initialized hyperparameters"
   ]
  },
  {
   "cell_type": "code",
   "execution_count": 4,
   "metadata": {},
   "outputs": [
    {
     "name": "stdout",
     "output_type": "stream",
     "text": [
      "Found 88582 unique tokens.\n"
     ]
    }
   ],
   "source": [
    "tokenizer = Tokenizer(num_words=max_words)\n",
    "tokenizer.fit_on_texts(texts)\n",
    "sequences = tokenizer.texts_to_sequences(texts)\n",
    "word_index = tokenizer.word_index\n",
    "print('Found %s unique tokens.' % len(word_index))"
   ]
  },
  {
   "cell_type": "markdown",
   "metadata": {},
   "source": [
    "Normalizing the data and the labels and bring all the data to the same shape"
   ]
  },
  {
   "cell_type": "code",
   "execution_count": 5,
   "metadata": {},
   "outputs": [
    {
     "name": "stdout",
     "output_type": "stream",
     "text": [
      "Shape of data tensor: (25000, 100)\n",
      "Shape of label tensor: (25000,)\n"
     ]
    }
   ],
   "source": [
    "data = pad_sequences(sequences, maxlen=maxlen)\n",
    "labels = np.asarray(labels)\n",
    "print('Shape of data tensor:', data.shape)\n",
    "print('Shape of label tensor:', labels.shape)\n",
    "indices = np.arange(data.shape[0])\n",
    "np.random.shuffle(indices)\n",
    "data = data[indices]\n",
    "labels = labels[indices]"
   ]
  },
  {
   "cell_type": "markdown",
   "metadata": {},
   "source": [
    "### Data Split"
   ]
  },
  {
   "cell_type": "code",
   "execution_count": 6,
   "metadata": {},
   "outputs": [],
   "source": [
    "x_train = data[:training_samples]\n",
    "y_train = labels[:training_samples]\n",
    "x_val = data[training_samples: training_samples + validation_samples]\n",
    "y_val = labels[training_samples: training_samples + validation_samples]"
   ]
  },
  {
   "cell_type": "markdown",
   "metadata": {},
   "source": [
    "Loading the pre-trained model from glove"
   ]
  },
  {
   "cell_type": "code",
   "execution_count": 7,
   "metadata": {},
   "outputs": [
    {
     "name": "stdout",
     "output_type": "stream",
     "text": [
      "Found 400000 word vectors.\n"
     ]
    }
   ],
   "source": [
    "glove_dir = 'glove.6B'\n",
    "embeddings_index = {}\n",
    "f = open(os.path.join(glove_dir, 'glove.6B.100d.txt'), encoding=\"utf-8\")\n",
    "\n",
    "for line in f:\n",
    "    values = line.split()\n",
    "    word = values[0]\n",
    "    coefs = np.asarray(values[1:], dtype='float32')\n",
    "    embeddings_index[word] = coefs\n",
    "f.close()\n",
    "\n",
    "print('Found %s word vectors.' % len(embeddings_index))"
   ]
  },
  {
   "cell_type": "code",
   "execution_count": 8,
   "metadata": {},
   "outputs": [],
   "source": [
    "embedding_dim = 100\n",
    "embedding_matrix = np.zeros((max_words, embedding_dim))\n",
    "\n",
    "for word, i in word_index.items():\n",
    "    if i < max_words:\n",
    "        embedding_vector = embeddings_index.get(word)\n",
    "        if embedding_vector is not None:\n",
    "            embedding_matrix[i] = embedding_vector"
   ]
  },
  {
   "cell_type": "markdown",
   "metadata": {},
   "source": [
    "### Model Initialization"
   ]
  },
  {
   "cell_type": "code",
   "execution_count": 9,
   "metadata": {},
   "outputs": [
    {
     "name": "stdout",
     "output_type": "stream",
     "text": [
      "WARNING:tensorflow:From C:\\ProgramData\\Anaconda3\\lib\\site-packages\\keras\\backend\\tensorflow_backend.py:58: The name tf.get_default_graph is deprecated. Please use tf.compat.v1.get_default_graph instead.\n",
      "\n",
      "WARNING:tensorflow:From C:\\ProgramData\\Anaconda3\\lib\\site-packages\\keras\\backend\\tensorflow_backend.py:442: The name tf.placeholder is deprecated. Please use tf.compat.v1.placeholder instead.\n",
      "\n",
      "WARNING:tensorflow:From C:\\ProgramData\\Anaconda3\\lib\\site-packages\\keras\\backend\\tensorflow_backend.py:3543: The name tf.random_uniform is deprecated. Please use tf.random.uniform instead.\n",
      "\n",
      "WARNING:tensorflow:From C:\\ProgramData\\Anaconda3\\lib\\site-packages\\keras\\backend\\tensorflow_backend.py:1205: calling reduce_prod_v1 (from tensorflow.python.ops.math_ops) with keep_dims is deprecated and will be removed in a future version.\n",
      "Instructions for updating:\n",
      "keep_dims is deprecated, use keepdims instead\n",
      "_________________________________________________________________\n",
      "Layer (type)                 Output Shape              Param #   \n",
      "=================================================================\n",
      "embedding_1 (Embedding)      (None, 100, 100)          1000000   \n",
      "_________________________________________________________________\n",
      "flatten_1 (Flatten)          (None, 10000)             0         \n",
      "_________________________________________________________________\n",
      "dense_1 (Dense)              (None, 8)                 80008     \n",
      "_________________________________________________________________\n",
      "dense_2 (Dense)              (None, 16)                144       \n",
      "_________________________________________________________________\n",
      "dense_3 (Dense)              (None, 32)                544       \n",
      "_________________________________________________________________\n",
      "dense_4 (Dense)              (None, 1)                 33        \n",
      "=================================================================\n",
      "Total params: 1,080,729\n",
      "Trainable params: 1,080,729\n",
      "Non-trainable params: 0\n",
      "_________________________________________________________________\n"
     ]
    }
   ],
   "source": [
    "from keras.models import Sequential\n",
    "from keras.layers import Embedding, Flatten, Dense\n",
    "model = Sequential()\n",
    "model.add(Embedding(max_words, embedding_dim, input_length=maxlen))\n",
    "model.add(Flatten())\n",
    "model.add(Dense(8, activation='relu'))\n",
    "model.add(Dense(16, activation='relu'))\n",
    "model.add(Dense(32, activation='relu'))\n",
    "model.add(Dense(1, activation='sigmoid'))\n",
    "model.summary()"
   ]
  },
  {
   "cell_type": "markdown",
   "metadata": {},
   "source": [
    "Setting the 0th layer as non-trainable as we want to consider the pre-trained weights obtained from glove"
   ]
  },
  {
   "cell_type": "code",
   "execution_count": 10,
   "metadata": {},
   "outputs": [
    {
     "name": "stdout",
     "output_type": "stream",
     "text": [
      "WARNING:tensorflow:From C:\\ProgramData\\Anaconda3\\lib\\site-packages\\keras\\backend\\tensorflow_backend.py:153: The name tf.get_default_session is deprecated. Please use tf.compat.v1.get_default_session instead.\n",
      "\n",
      "WARNING:tensorflow:From C:\\ProgramData\\Anaconda3\\lib\\site-packages\\keras\\backend\\tensorflow_backend.py:158: The name tf.ConfigProto is deprecated. Please use tf.compat.v1.ConfigProto instead.\n",
      "\n"
     ]
    }
   ],
   "source": [
    "model.layers[0].set_weights([embedding_matrix])\n",
    "model.layers[0].trainable = False"
   ]
  },
  {
   "cell_type": "markdown",
   "metadata": {},
   "source": [
    "### Model Training"
   ]
  },
  {
   "cell_type": "code",
   "execution_count": 11,
   "metadata": {},
   "outputs": [
    {
     "name": "stdout",
     "output_type": "stream",
     "text": [
      "WARNING:tensorflow:From C:\\ProgramData\\Anaconda3\\lib\\site-packages\\keras\\optimizers.py:711: The name tf.train.Optimizer is deprecated. Please use tf.compat.v1.train.Optimizer instead.\n",
      "\n",
      "WARNING:tensorflow:From C:\\ProgramData\\Anaconda3\\lib\\site-packages\\tensorflow\\python\\ops\\nn_impl.py:180: add_dispatch_support.<locals>.wrapper (from tensorflow.python.ops.array_ops) is deprecated and will be removed in a future version.\n",
      "Instructions for updating:\n",
      "Use tf.where in 2.0, which has the same broadcast rule as np.where\n"
     ]
    }
   ],
   "source": [
    "model.compile(optimizer='rmsprop',\n",
    "              loss='binary_crossentropy',\n",
    "              metrics=['acc'])\n",
    "\n",
    "filepath=\"best_model.h5\"\n",
    "checkpoint = ModelCheckpoint(filepath, monitor='val_acc', verbose=1, save_best_only=True, mode='max')"
   ]
  },
  {
   "cell_type": "code",
   "execution_count": 12,
   "metadata": {
    "scrolled": false
   },
   "outputs": [
    {
     "name": "stdout",
     "output_type": "stream",
     "text": [
      "WARNING:tensorflow:From C:\\ProgramData\\Anaconda3\\lib\\site-packages\\keras\\backend\\tensorflow_backend.py:625: calling Constant.__init__ (from tensorflow.python.ops.init_ops) with dtype is deprecated and will be removed in a future version.\n",
      "Instructions for updating:\n",
      "Call initializer instance with the dtype argument instead of passing it to the constructor\n",
      "Train on 8000 samples, validate on 10000 samples\n",
      "Epoch 1/40\n",
      "7904/8000 [============================>.] - ETA: 0s - loss: 0.6756 - acc: 0.5617Epoch 00000: val_acc improved from -inf to 0.65380, saving model to best_model.h5\n",
      "8000/8000 [==============================] - 2s - loss: 0.6747 - acc: 0.5631 - val_loss: 0.6238 - val_acc: 0.6538\n",
      "Epoch 2/40\n",
      "7776/8000 [============================>.] - ETA: 0s - loss: 0.5600 - acc: 0.7133Epoch 00001: val_acc improved from 0.65380 to 0.66230, saving model to best_model.h5\n",
      "8000/8000 [==============================] - 2s - loss: 0.5601 - acc: 0.7139 - val_loss: 0.6154 - val_acc: 0.6623\n",
      "Epoch 3/40\n",
      "7680/8000 [===========================>..] - ETA: 0s - loss: 0.4727 - acc: 0.7766Epoch 00002: val_acc improved from 0.66230 to 0.68260, saving model to best_model.h5\n",
      "8000/8000 [==============================] - 2s - loss: 0.4751 - acc: 0.7741 - val_loss: 0.6057 - val_acc: 0.6826\n",
      "Epoch 4/40\n",
      "7968/8000 [============================>.] - ETA: 0s - loss: 0.4136 - acc: 0.8087Epoch 00003: val_acc did not improve\n",
      "8000/8000 [==============================] - 2s - loss: 0.4144 - acc: 0.8082 - val_loss: 0.8230 - val_acc: 0.6274\n",
      "Epoch 5/40\n",
      "7872/8000 [============================>.] - ETA: 0s - loss: 0.3678 - acc: 0.8393Epoch 00004: val_acc improved from 0.68260 to 0.69540, saving model to best_model.h5\n",
      "8000/8000 [==============================] - 2s - loss: 0.3683 - acc: 0.8394 - val_loss: 0.6617 - val_acc: 0.6954\n",
      "Epoch 6/40\n",
      "7968/8000 [============================>.] - ETA: 0s - loss: 0.3282 - acc: 0.8537Epoch 00005: val_acc did not improve\n",
      "8000/8000 [==============================] - 2s - loss: 0.3288 - acc: 0.8533 - val_loss: 0.9193 - val_acc: 0.6456\n",
      "Epoch 7/40\n",
      "7872/8000 [============================>.] - ETA: 0s - loss: 0.2902 - acc: 0.8742Epoch 00006: val_acc did not improve\n",
      "8000/8000 [==============================] - 1s - loss: 0.2901 - acc: 0.8739 - val_loss: 0.7247 - val_acc: 0.6898\n",
      "Epoch 8/40\n",
      "7872/8000 [============================>.] - ETA: 0s - loss: 0.2557 - acc: 0.8894Epoch 00007: val_acc did not improve\n",
      "8000/8000 [==============================] - 1s - loss: 0.2571 - acc: 0.8886 - val_loss: 0.9382 - val_acc: 0.6517\n",
      "Epoch 9/40\n",
      "7904/8000 [============================>.] - ETA: 0s - loss: 0.2245 - acc: 0.9022Epoch 00008: val_acc did not improve\n",
      "8000/8000 [==============================] - 1s - loss: 0.2238 - acc: 0.9024 - val_loss: 0.9505 - val_acc: 0.6868\n",
      "Epoch 10/40\n",
      "7936/8000 [============================>.] - ETA: 0s - loss: 0.1960 - acc: 0.9131Epoch 00009: val_acc did not improve\n",
      "8000/8000 [==============================] - 2s - loss: 0.1959 - acc: 0.9127 - val_loss: 1.0740 - val_acc: 0.6710\n",
      "Epoch 11/40\n",
      "7968/8000 [============================>.] - ETA: 0s - loss: 0.1832 - acc: 0.9204Epoch 00010: val_acc did not improve\n",
      "8000/8000 [==============================] - 2s - loss: 0.1830 - acc: 0.9206 - val_loss: 1.0827 - val_acc: 0.6841\n",
      "Epoch 12/40\n",
      "7680/8000 [===========================>..] - ETA: 0s - loss: 0.1603 - acc: 0.9344Epoch 00011: val_acc did not improve\n",
      "8000/8000 [==============================] - 1s - loss: 0.1609 - acc: 0.9341 - val_loss: 1.1525 - val_acc: 0.6848\n",
      "Epoch 13/40\n",
      "7968/8000 [============================>.] - ETA: 0s - loss: 0.1519 - acc: 0.9355Epoch 00012: val_acc did not improve\n",
      "8000/8000 [==============================] - 2s - loss: 0.1521 - acc: 0.9355 - val_loss: 1.2811 - val_acc: 0.6818\n",
      "Epoch 14/40\n",
      "7840/8000 [============================>.] - ETA: 0s - loss: 0.1437 - acc: 0.9374Epoch 00013: val_acc did not improve\n",
      "8000/8000 [==============================] - 1s - loss: 0.1438 - acc: 0.9370 - val_loss: 1.4195 - val_acc: 0.6682\n",
      "Epoch 15/40\n",
      "7744/8000 [============================>.] - ETA: 0s - loss: 0.1319 - acc: 0.9474Epoch 00014: val_acc did not improve\n",
      "8000/8000 [==============================] - 1s - loss: 0.1383 - acc: 0.9450 - val_loss: 1.3189 - val_acc: 0.6813\n",
      "Epoch 16/40\n",
      "7712/8000 [===========================>..] - ETA: 0s - loss: 0.1134 - acc: 0.9525Epoch 00015: val_acc did not improve\n",
      "8000/8000 [==============================] - 1s - loss: 0.1124 - acc: 0.9525 - val_loss: 1.4747 - val_acc: 0.6833\n",
      "Epoch 17/40\n",
      "7712/8000 [===========================>..] - ETA: 0s - loss: 0.1092 - acc: 0.9547Epoch 00016: val_acc did not improve\n",
      "8000/8000 [==============================] - 1s - loss: 0.1159 - acc: 0.9525 - val_loss: 1.5367 - val_acc: 0.6844\n",
      "Epoch 18/40\n",
      "7776/8000 [============================>.] - ETA: 0s - loss: 0.1113 - acc: 0.9549Epoch 00017: val_acc did not improve\n",
      "8000/8000 [==============================] - 2s - loss: 0.1121 - acc: 0.9543 - val_loss: 1.4909 - val_acc: 0.6752\n",
      "Epoch 19/40\n",
      "7968/8000 [============================>.] - ETA: 0s - loss: 0.1066 - acc: 0.9570Epoch 00018: val_acc did not improve\n",
      "8000/8000 [==============================] - 2s - loss: 0.1089 - acc: 0.9561 - val_loss: 1.2342 - val_acc: 0.6753\n",
      "Epoch 20/40\n",
      "7968/8000 [============================>.] - ETA: 0s - loss: 0.1015 - acc: 0.9567Epoch 00019: val_acc did not improve\n",
      "8000/8000 [==============================] - 1s - loss: 0.1017 - acc: 0.9566 - val_loss: 1.7851 - val_acc: 0.6721\n",
      "Epoch 21/40\n",
      "7808/8000 [============================>.] - ETA: 0s - loss: 0.0986 - acc: 0.9616Epoch 00020: val_acc did not improve\n",
      "8000/8000 [==============================] - 1s - loss: 0.0973 - acc: 0.9620 - val_loss: 1.9224 - val_acc: 0.6787\n",
      "Epoch 22/40\n",
      "7680/8000 [===========================>..] - ETA: 0s - loss: 0.0912 - acc: 0.9647Epoch 00021: val_acc did not improve\n",
      "8000/8000 [==============================] - 1s - loss: 0.0891 - acc: 0.9651 - val_loss: 2.0614 - val_acc: 0.6800\n",
      "Epoch 23/40\n",
      "7744/8000 [============================>.] - ETA: 0s - loss: 0.0914 - acc: 0.9663Epoch 00022: val_acc did not improve\n",
      "8000/8000 [==============================] - 1s - loss: 0.0904 - acc: 0.9663 - val_loss: 2.0849 - val_acc: 0.6803\n",
      "Epoch 24/40\n",
      "7776/8000 [============================>.] - ETA: 0s - loss: 0.0921 - acc: 0.9653Epoch 00023: val_acc did not improve\n",
      "8000/8000 [==============================] - 1s - loss: 0.1002 - acc: 0.9625 - val_loss: 1.8144 - val_acc: 0.6801\n",
      "Epoch 25/40\n",
      "7936/8000 [============================>.] - ETA: 0s - loss: 0.0836 - acc: 0.9676Epoch 00024: val_acc did not improve\n",
      "8000/8000 [==============================] - 1s - loss: 0.0900 - acc: 0.9667 - val_loss: 1.6011 - val_acc: 0.6760\n",
      "Epoch 26/40\n",
      "7808/8000 [============================>.] - ETA: 0s - loss: 0.0809 - acc: 0.9671Epoch 00025: val_acc did not improve\n",
      "8000/8000 [==============================] - 2s - loss: 0.0807 - acc: 0.9671 - val_loss: 2.0518 - val_acc: 0.6767\n",
      "Epoch 27/40\n",
      "7904/8000 [============================>.] - ETA: 0s - loss: 0.0770 - acc: 0.9690Epoch 00026: val_acc did not improve\n",
      "8000/8000 [==============================] - 2s - loss: 0.0764 - acc: 0.9692 - val_loss: 2.1265 - val_acc: 0.6809\n",
      "Epoch 28/40\n",
      "7808/8000 [============================>.] - ETA: 0s - loss: 0.0686 - acc: 0.9707Epoch 00027: val_acc did not improve\n",
      "8000/8000 [==============================] - 2s - loss: 0.0757 - acc: 0.9679 - val_loss: 1.9359 - val_acc: 0.6765\n",
      "Epoch 29/40\n",
      "7776/8000 [============================>.] - ETA: 0s - loss: 0.0701 - acc: 0.9734Epoch 00028: val_acc did not improve\n",
      "8000/8000 [==============================] - 1s - loss: 0.0696 - acc: 0.9731 - val_loss: 2.2693 - val_acc: 0.6781\n",
      "Epoch 30/40\n",
      "7680/8000 [===========================>..] - ETA: 0s - loss: 0.0810 - acc: 0.9695Epoch 00029: val_acc did not improve\n",
      "8000/8000 [==============================] - 1s - loss: 0.0788 - acc: 0.9702 - val_loss: 2.5476 - val_acc: 0.6683\n",
      "Epoch 31/40\n",
      "7776/8000 [============================>.] - ETA: 0s - loss: 0.0854 - acc: 0.9680Epoch 00030: val_acc did not improve\n",
      "8000/8000 [==============================] - 1s - loss: 0.0838 - acc: 0.9686 - val_loss: 2.2773 - val_acc: 0.6743\n",
      "Epoch 32/40\n"
     ]
    },
    {
     "name": "stdout",
     "output_type": "stream",
     "text": [
      "7744/8000 [============================>.] - ETA: 0s - loss: 0.0751 - acc: 0.9699Epoch 00031: val_acc did not improve\n",
      "8000/8000 [==============================] - 1s - loss: 0.0747 - acc: 0.9704 - val_loss: 2.4735 - val_acc: 0.6769\n",
      "Epoch 33/40\n",
      "7872/8000 [============================>.] - ETA: 0s - loss: 0.0669 - acc: 0.9732Epoch 00032: val_acc did not improve\n",
      "8000/8000 [==============================] - 1s - loss: 0.0665 - acc: 0.9733 - val_loss: 2.4162 - val_acc: 0.6755\n",
      "Epoch 34/40\n",
      "7776/8000 [============================>.] - ETA: 0s - loss: 0.0671 - acc: 0.9729Epoch 00033: val_acc did not improve\n",
      "8000/8000 [==============================] - 1s - loss: 0.0656 - acc: 0.9735 - val_loss: 2.3774 - val_acc: 0.6775\n",
      "Epoch 35/40\n",
      "7744/8000 [============================>.] - ETA: 0s - loss: 0.0677 - acc: 0.9718Epoch 00034: val_acc did not improve\n",
      "8000/8000 [==============================] - 1s - loss: 0.0662 - acc: 0.9725 - val_loss: 2.8170 - val_acc: 0.6747\n",
      "Epoch 36/40\n",
      "7712/8000 [===========================>..] - ETA: 0s - loss: 0.0933 - acc: 0.9716Epoch 00035: val_acc did not improve\n",
      "8000/8000 [==============================] - 2s - loss: 0.0968 - acc: 0.9709 - val_loss: 2.4636 - val_acc: 0.6751\n",
      "Epoch 37/40\n",
      "7936/8000 [============================>.] - ETA: 0s - loss: 0.0716 - acc: 0.9719Epoch 00036: val_acc did not improve\n",
      "8000/8000 [==============================] - 1s - loss: 0.0712 - acc: 0.9720 - val_loss: 2.4128 - val_acc: 0.6739\n",
      "Epoch 38/40\n",
      "7776/8000 [============================>.] - ETA: 0s - loss: 0.0687 - acc: 0.9740Epoch 00037: val_acc did not improve\n",
      "8000/8000 [==============================] - 1s - loss: 0.0676 - acc: 0.9741 - val_loss: 2.5558 - val_acc: 0.6746\n",
      "Epoch 39/40\n",
      "7744/8000 [============================>.] - ETA: 0s - loss: 0.0671 - acc: 0.9734Epoch 00038: val_acc did not improve\n",
      "8000/8000 [==============================] - 2s - loss: 0.0657 - acc: 0.9739 - val_loss: 2.8123 - val_acc: 0.6775\n",
      "Epoch 40/40\n",
      "7808/8000 [============================>.] - ETA: 0s - loss: 0.0580 - acc: 0.9764Epoch 00039: val_acc did not improve\n",
      "8000/8000 [==============================] - 2s - loss: 0.0575 - acc: 0.9766 - val_loss: 3.2673 - val_acc: 0.6512\n"
     ]
    }
   ],
   "source": [
    "history = model.fit(x_train, y_train,\n",
    "                    epochs=40,\n",
    "                    batch_size=32,\n",
    "                    validation_data=(x_val, y_val),\n",
    "                    callbacks=[checkpoint])\n",
    "\n",
    "model.save_weights('pre_trained_glove_model.h5')"
   ]
  },
  {
   "cell_type": "markdown",
   "metadata": {},
   "source": [
    "### Epochs vs Loss and Epochs vs Accuracy plot"
   ]
  },
  {
   "cell_type": "code",
   "execution_count": 13,
   "metadata": {},
   "outputs": [
    {
     "data": {
      "text/plain": [
       "<matplotlib.legend.Legend at 0x1dba4935160>"
      ]
     },
     "execution_count": 13,
     "metadata": {},
     "output_type": "execute_result"
    },
    {
     "data": {
      "image/png": "[encoded data removed]",
      "text/plain": [
       "<Figure size 432x288 with 1 Axes>"
      ]
     },
     "metadata": {
      "needs_background": "light"
     },
     "output_type": "display_data"
    },
    {
     "data": {
      "image/png": "[encoded data removed]",
      "text/plain": [
       "<Figure size 432x288 with 1 Axes>"
      ]
     },
     "metadata": {
      "needs_background": "light"
     },
     "output_type": "display_data"
    }
   ],
   "source": [
    "acc = history.history['acc']\n",
    "val_acc = history.history['val_acc']\n",
    "loss = history.history['loss']\n",
    "val_loss = history.history['val_loss']\n",
    "epochs = range(1, len(acc) + 1)\n",
    "plt.plot(epochs, acc, 'bo', label='Training acc')\n",
    "plt.plot(epochs, val_acc, 'b', label='Validation acc')\n",
    "plt.title('Training and validation accuracy')\n",
    "plt.legend()\n",
    "plt.figure()\n",
    "plt.plot(epochs, loss, 'bo', label='Training loss')\n",
    "plt.plot(epochs, val_loss, 'b', label='Validation loss')\n",
    "plt.title('Training and validation loss')\n",
    "plt.legend()"
   ]
  },
  {
   "cell_type": "markdown",
   "metadata": {},
   "source": [
    "### Initializing test Data"
   ]
  },
  {
   "cell_type": "code",
   "execution_count": 14,
   "metadata": {},
   "outputs": [],
   "source": [
    "test_dir = os.path.join(imdb_dir, 'test')\n",
    "labels = []\n",
    "texts = []\n",
    "for label_type in ['neg', 'pos']:\n",
    "    dir_name = os.path.join(test_dir, label_type)\n",
    "    for fname in sorted(os.listdir(dir_name)):\n",
    "        if fname[-4:] == '.txt':\n",
    "            f = open(os.path.join(dir_name, fname), encoding=\"utf-8\")\n",
    "            texts.append(f.read())\n",
    "            f.close()\n",
    "            if label_type == 'neg':\n",
    "                labels.append(0)\n",
    "            else:\n",
    "                labels.append(1)\n",
    "\n",
    "sequences = tokenizer.texts_to_sequences(texts)\n",
    "x_test = pad_sequences(sequences, maxlen=maxlen)\n",
    "y_test = np.asarray(labels)"
   ]
  },
  {
   "cell_type": "markdown",
   "metadata": {},
   "source": [
    "### Model evaluation"
   ]
  },
  {
   "cell_type": "code",
   "execution_count": 15,
   "metadata": {},
   "outputs": [
    {
     "name": "stdout",
     "output_type": "stream",
     "text": [
      "24544/25000 [============================>.] - ETA: 0s"
     ]
    },
    {
     "data": {
      "text/plain": [
       "[3.2739860227854085, 0.65528]"
      ]
     },
     "execution_count": 15,
     "metadata": {},
     "output_type": "execute_result"
    }
   ],
   "source": [
    "model.load_weights('pre_trained_glove_model.h5')\n",
    "model.evaluate(x_test, y_test)"
   ]
  },
  {
   "cell_type": "code",
   "execution_count": 16,
   "metadata": {},
   "outputs": [
    {
     "name": "stdout",
     "output_type": "stream",
     "text": [
      "24416/25000 [============================>.] - ETA: 0s"
     ]
    },
    {
     "data": {
      "text/plain": [
       "[0.6575623295593261, 0.69612]"
      ]
     },
     "execution_count": 16,
     "metadata": {},
     "output_type": "execute_result"
    }
   ],
   "source": [
    "model.load_weights('best_model.h5')\n",
    "model.evaluate(x_test, y_test)"
   ]
  },
  {
   "cell_type": "code",
   "execution_count": null,
   "metadata": {},
   "outputs": [],
   "source": []
  }
 ],
 "metadata": {
  "kernelspec": {
   "display_name": "Python 3",
   "language": "python",
   "name": "python3"
  },
  "language_info": {
   "codemirror_mode": {
    "name": "ipython",
    "version": 3
   },
   "file_extension": ".py",
   "mimetype": "text/x-python",
   "name": "python",
   "nbconvert_exporter": "python",
   "pygments_lexer": "ipython3",
   "version": "3.7.3"
  },
  "varInspector": {
   "cols": {
    "lenName": 16,
    "lenType": 16,
    "lenVar": 40
   },
   "kernels_config": {
    "python": {
     "delete_cmd_postfix": "",
     "delete_cmd_prefix": "del ",
     "library": "var_list.py",
     "varRefreshCmd": "print(var_dic_list())"
    },
    "r": {
     "delete_cmd_postfix": ") ",
     "delete_cmd_prefix": "rm(",
     "library": "var_list.r",
     "varRefreshCmd": "cat(var_dic_list()) "
    }
   },
   "types_to_exclude": [
    "module",
    "function",
    "builtin_function_or_method",
    "instance",
    "_Feature"
   ],
   "window_display": false
  }
 },
 "nbformat": 4,
 "nbformat_minor": 2
}
