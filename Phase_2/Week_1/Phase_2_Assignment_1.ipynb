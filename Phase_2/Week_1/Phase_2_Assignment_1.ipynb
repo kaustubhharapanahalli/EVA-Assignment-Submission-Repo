{
 "cells": [
  {
   "cell_type": "code",
   "execution_count": 1,
   "metadata": {},
   "outputs": [
    {
     "name": "stderr",
     "output_type": "stream",
     "text": [
      "Using TensorFlow backend.\n"
     ]
    }
   ],
   "source": [
    "import os\n",
    "import numpy as np\n",
    "import matplotlib.pyplot as plt\n",
    "\n",
    "from keras.datasets import imdb\n",
    "from keras import preprocessing\n",
    "from keras.models import Sequential\n",
    "from keras.layers import Flatten, Dense, Embedding\n",
    "from keras.preprocessing.text import Tokenizer\n",
    "from keras.preprocessing.sequence import pad_sequences\n",
    "\n",
    "%matplotlib inline"
   ]
  },
  {
   "cell_type": "code",
   "execution_count": 2,
   "metadata": {},
   "outputs": [],
   "source": [
    "imdb_dir = 'aclImdb'\n",
    "train_dir = os.path.join(imdb_dir, 'train')\n",
    "labels = []\n",
    "texts = []\n",
    "\n",
    "for label_type in ['neg', 'pos']:\n",
    "    dir_name = os.path.join(train_dir, label_type)\n",
    "    for fname in os.listdir(dir_name):\n",
    "        if fname[-4:] == '.txt':\n",
    "            f = open(os.path.join(dir_name, fname), encoding=\"utf-8\")\n",
    "            texts.append(f.read())\n",
    "            f.close()\n",
    "            if label_type == 'neg':\n",
    "                labels.append(0)\n",
    "            else:\n",
    "                labels.append(1)"
   ]
  },
  {
   "cell_type": "code",
   "execution_count": 3,
   "metadata": {},
   "outputs": [],
   "source": [
    "maxlen = 100\n",
    "training_samples = 8000\n",
    "validation_samples = 10000\n",
    "max_words = 10000"
   ]
  },
  {
   "cell_type": "code",
   "execution_count": 4,
   "metadata": {},
   "outputs": [
    {
     "name": "stdout",
     "output_type": "stream",
     "text": [
      "Found 88582 unique tokens.\n"
     ]
    }
   ],
   "source": [
    "tokenizer = Tokenizer(num_words=max_words)\n",
    "tokenizer.fit_on_texts(texts)\n",
    "sequences = tokenizer.texts_to_sequences(texts)\n",
    "word_index = tokenizer.word_index\n",
    "print('Found %s unique tokens.' % len(word_index))"
   ]
  },
  {
   "cell_type": "code",
   "execution_count": 5,
   "metadata": {},
   "outputs": [
    {
     "name": "stdout",
     "output_type": "stream",
     "text": [
      "Shape of data tensor: (25000, 100)\n",
      "Shape of label tensor: (25000,)\n"
     ]
    }
   ],
   "source": [
    "data = pad_sequences(sequences, maxlen=maxlen)\n",
    "labels = np.asarray(labels)\n",
    "print('Shape of data tensor:', data.shape)\n",
    "print('Shape of label tensor:', labels.shape)\n",
    "indices = np.arange(data.shape[0])\n",
    "np.random.shuffle(indices)\n",
    "data = data[indices]\n",
    "labels = labels[indices]"
   ]
  },
  {
   "cell_type": "code",
   "execution_count": 6,
   "metadata": {},
   "outputs": [],
   "source": [
    "x_train = data[:training_samples]\n",
    "y_train = labels[:training_samples]\n",
    "x_val = data[training_samples: training_samples + validation_samples]\n",
    "y_val = labels[training_samples: training_samples + validation_samples]"
   ]
  },
  {
   "cell_type": "code",
   "execution_count": 7,
   "metadata": {},
   "outputs": [
    {
     "name": "stdout",
     "output_type": "stream",
     "text": [
      "Found 400000 word vectors.\n"
     ]
    }
   ],
   "source": [
    "glove_dir = 'glove.6B'\n",
    "embeddings_index = {}\n",
    "f = open(os.path.join(glove_dir, 'glove.6B.100d.txt'), encoding=\"utf-8\")\n",
    "\n",
    "for line in f:\n",
    "    values = line.split()\n",
    "    word = values[0]\n",
    "    coefs = np.asarray(values[1:], dtype='float32')\n",
    "    embeddings_index[word] = coefs\n",
    "f.close()\n",
    "\n",
    "print('Found %s word vectors.' % len(embeddings_index))"
   ]
  },
  {
   "cell_type": "code",
   "execution_count": 8,
   "metadata": {},
   "outputs": [],
   "source": [
    "embedding_dim = 100\n",
    "embedding_matrix = np.zeros((max_words, embedding_dim))\n",
    "\n",
    "for word, i in word_index.items():\n",
    "    if i < max_words:\n",
    "        embedding_vector = embeddings_index.get(word)\n",
    "        if embedding_vector is not None:\n",
    "            embedding_matrix[i] = embedding_vector"
   ]
  },
  {
   "cell_type": "code",
   "execution_count": 9,
   "metadata": {},
   "outputs": [
    {
     "name": "stderr",
     "output_type": "stream",
     "text": [
      "WARNING: Logging before flag parsing goes to stderr.\n",
      "W0122 21:59:57.680747 12256 deprecation_wrapper.py:119] From D:\\Applications\\Anaconda3\\lib\\site-packages\\keras\\backend\\tensorflow_backend.py:74: The name tf.get_default_graph is deprecated. Please use tf.compat.v1.get_default_graph instead.\n",
      "\n",
      "W0122 21:59:57.698737 12256 deprecation_wrapper.py:119] From D:\\Applications\\Anaconda3\\lib\\site-packages\\keras\\backend\\tensorflow_backend.py:517: The name tf.placeholder is deprecated. Please use tf.compat.v1.placeholder instead.\n",
      "\n",
      "W0122 21:59:57.700693 12256 deprecation_wrapper.py:119] From D:\\Applications\\Anaconda3\\lib\\site-packages\\keras\\backend\\tensorflow_backend.py:4138: The name tf.random_uniform is deprecated. Please use tf.random.uniform instead.\n",
      "\n"
     ]
    },
    {
     "name": "stdout",
     "output_type": "stream",
     "text": [
      "_________________________________________________________________\n",
      "Layer (type)                 Output Shape              Param #   \n",
      "=================================================================\n",
      "embedding_1 (Embedding)      (None, 100, 100)          1000000   \n",
      "_________________________________________________________________\n",
      "flatten_1 (Flatten)          (None, 10000)             0         \n",
      "_________________________________________________________________\n",
      "dense_1 (Dense)              (None, 8)                 80008     \n",
      "_________________________________________________________________\n",
      "dense_2 (Dense)              (None, 16)                144       \n",
      "_________________________________________________________________\n",
      "dense_3 (Dense)              (None, 32)                544       \n",
      "_________________________________________________________________\n",
      "dense_4 (Dense)              (None, 1)                 33        \n",
      "=================================================================\n",
      "Total params: 1,080,729\n",
      "Trainable params: 1,080,729\n",
      "Non-trainable params: 0\n",
      "_________________________________________________________________\n"
     ]
    }
   ],
   "source": [
    "from keras.models import Sequential\n",
    "from keras.layers import Embedding, Flatten, Dense\n",
    "model = Sequential()\n",
    "model.add(Embedding(max_words, embedding_dim, input_length=maxlen))\n",
    "model.add(Flatten())\n",
    "model.add(Dense(8, activation='relu'))\n",
    "model.add(Dense(16, activation='relu'))\n",
    "model.add(Dense(32, activation='relu'))\n",
    "model.add(Dense(1, activation='sigmoid'))\n",
    "model.summary()"
   ]
  },
  {
   "cell_type": "code",
   "execution_count": 10,
   "metadata": {},
   "outputs": [
    {
     "name": "stderr",
     "output_type": "stream",
     "text": [
      "W0122 21:59:57.795438 12256 deprecation_wrapper.py:119] From D:\\Applications\\Anaconda3\\lib\\site-packages\\keras\\backend\\tensorflow_backend.py:174: The name tf.get_default_session is deprecated. Please use tf.compat.v1.get_default_session instead.\n",
      "\n",
      "W0122 21:59:57.797432 12256 deprecation_wrapper.py:119] From D:\\Applications\\Anaconda3\\lib\\site-packages\\keras\\backend\\tensorflow_backend.py:181: The name tf.ConfigProto is deprecated. Please use tf.compat.v1.ConfigProto instead.\n",
      "\n"
     ]
    }
   ],
   "source": [
    "model.layers[0].set_weights([embedding_matrix])\n",
    "model.layers[0].trainable = False"
   ]
  },
  {
   "cell_type": "code",
   "execution_count": 11,
   "metadata": {},
   "outputs": [
    {
     "name": "stderr",
     "output_type": "stream",
     "text": [
      "W0122 21:59:59.695968 12256 deprecation_wrapper.py:119] From D:\\Applications\\Anaconda3\\lib\\site-packages\\keras\\optimizers.py:790: The name tf.train.Optimizer is deprecated. Please use tf.compat.v1.train.Optimizer instead.\n",
      "\n",
      "W0122 21:59:59.724890 12256 deprecation.py:323] From D:\\Applications\\Anaconda3\\lib\\site-packages\\tensorflow\\python\\ops\\nn_impl.py:180: add_dispatch_support.<locals>.wrapper (from tensorflow.python.ops.array_ops) is deprecated and will be removed in a future version.\n",
      "Instructions for updating:\n",
      "Use tf.where in 2.0, which has the same broadcast rule as np.where\n"
     ]
    },
    {
     "name": "stdout",
     "output_type": "stream",
     "text": [
      "Train on 8000 samples, validate on 10000 samples\n",
      "Epoch 1/40\n",
      "8000/8000 [==============================] - 2s 245us/step - loss: 0.6948 - acc: 0.5019 - val_loss: 0.6932 - val_acc: 0.5001\n",
      "Epoch 2/40\n",
      "8000/8000 [==============================] - 1s 166us/step - loss: 0.6955 - acc: 0.4988 - val_loss: 0.6929 - val_acc: 0.5034\n",
      "Epoch 3/40\n",
      "8000/8000 [==============================] - 1s 174us/step - loss: 0.6867 - acc: 0.5415 - val_loss: 0.6889 - val_acc: 0.5309\n",
      "Epoch 4/40\n",
      "8000/8000 [==============================] - 1s 170us/step - loss: 0.6179 - acc: 0.6770 - val_loss: 0.6860 - val_acc: 0.6140\n",
      "Epoch 5/40\n",
      "8000/8000 [==============================] - 1s 183us/step - loss: 0.5337 - acc: 0.7406 - val_loss: 0.6451 - val_acc: 0.6477\n",
      "Epoch 6/40\n",
      "8000/8000 [==============================] - 2s 191us/step - loss: 0.4675 - acc: 0.7864 - val_loss: 0.6184 - val_acc: 0.6864\n",
      "Epoch 7/40\n",
      "8000/8000 [==============================] - 1s 164us/step - loss: 0.4048 - acc: 0.8260 - val_loss: 0.7353 - val_acc: 0.6692\n",
      "Epoch 8/40\n",
      "8000/8000 [==============================] - 1s 174us/step - loss: 0.3742 - acc: 0.8414 - val_loss: 0.6883 - val_acc: 0.6898\n",
      "Epoch 9/40\n",
      "8000/8000 [==============================] - 1s 167us/step - loss: 0.3380 - acc: 0.8636 - val_loss: 0.8800 - val_acc: 0.6690\n",
      "Epoch 10/40\n",
      "8000/8000 [==============================] - 1s 173us/step - loss: 0.3086 - acc: 0.8794 - val_loss: 0.7364 - val_acc: 0.6791\n",
      "Epoch 11/40\n",
      "8000/8000 [==============================] - 1s 174us/step - loss: 0.2814 - acc: 0.8902 - val_loss: 0.7885 - val_acc: 0.6690\n",
      "Epoch 12/40\n",
      "8000/8000 [==============================] - 1s 175us/step - loss: 0.2629 - acc: 0.8999 - val_loss: 0.8261 - val_acc: 0.6659\n",
      "Epoch 13/40\n",
      "8000/8000 [==============================] - 1s 168us/step - loss: 0.2289 - acc: 0.9174 - val_loss: 0.8605 - val_acc: 0.6736\n",
      "Epoch 14/40\n",
      "8000/8000 [==============================] - 1s 167us/step - loss: 0.2147 - acc: 0.9234 - val_loss: 1.0139 - val_acc: 0.6198\n",
      "Epoch 15/40\n",
      "8000/8000 [==============================] - 1s 166us/step - loss: 0.2007 - acc: 0.9326 - val_loss: 0.9520 - val_acc: 0.6761\n",
      "Epoch 16/40\n",
      "8000/8000 [==============================] - 1s 169us/step - loss: 0.1820 - acc: 0.9390 - val_loss: 1.0725 - val_acc: 0.6757\n",
      "Epoch 17/40\n",
      "8000/8000 [==============================] - 1s 166us/step - loss: 0.1794 - acc: 0.9436 - val_loss: 1.0885 - val_acc: 0.6822\n",
      "Epoch 18/40\n",
      "8000/8000 [==============================] - 1s 167us/step - loss: 0.1668 - acc: 0.9465 - val_loss: 1.1463 - val_acc: 0.6792\n",
      "Epoch 19/40\n",
      "8000/8000 [==============================] - 1s 167us/step - loss: 0.1647 - acc: 0.9506 - val_loss: 1.0944 - val_acc: 0.6328\n",
      "Epoch 20/40\n",
      "8000/8000 [==============================] - 1s 167us/step - loss: 0.1575 - acc: 0.9503 - val_loss: 1.4527 - val_acc: 0.6721\n",
      "Epoch 21/40\n",
      "8000/8000 [==============================] - 1s 167us/step - loss: 0.1447 - acc: 0.9553 - val_loss: 1.2243 - val_acc: 0.6739\n",
      "Epoch 22/40\n",
      "8000/8000 [==============================] - 1s 166us/step - loss: 0.1443 - acc: 0.9582 - val_loss: 1.4020 - val_acc: 0.6745\n",
      "Epoch 23/40\n",
      "8000/8000 [==============================] - 1s 176us/step - loss: 0.1322 - acc: 0.9632 - val_loss: 1.2763 - val_acc: 0.6588\n",
      "Epoch 24/40\n",
      "8000/8000 [==============================] - 1s 186us/step - loss: 0.1313 - acc: 0.9624 - val_loss: 1.3308 - val_acc: 0.6767\n",
      "Epoch 25/40\n",
      "8000/8000 [==============================] - 1s 178us/step - loss: 0.1217 - acc: 0.9660 - val_loss: 1.5900 - val_acc: 0.6750\n",
      "Epoch 26/40\n",
      "8000/8000 [==============================] - 1s 181us/step - loss: 0.1287 - acc: 0.9630 - val_loss: 1.3263 - val_acc: 0.6645\n",
      "Epoch 27/40\n",
      "8000/8000 [==============================] - 1s 177us/step - loss: 0.1232 - acc: 0.9655 - val_loss: 1.3045 - val_acc: 0.6626\n",
      "Epoch 28/40\n",
      "8000/8000 [==============================] - 2s 189us/step - loss: 0.1213 - acc: 0.9659 - val_loss: 1.6423 - val_acc: 0.6742\n",
      "Epoch 29/40\n",
      "8000/8000 [==============================] - 1s 179us/step - loss: 0.1183 - acc: 0.9681 - val_loss: 1.5061 - val_acc: 0.6732\n",
      "Epoch 30/40\n",
      "8000/8000 [==============================] - 1s 180us/step - loss: 0.1126 - acc: 0.9694 - val_loss: 1.4118 - val_acc: 0.6742\n",
      "Epoch 31/40\n",
      "8000/8000 [==============================] - 2s 194us/step - loss: 0.1119 - acc: 0.9704 - val_loss: 1.2798 - val_acc: 0.6438\n",
      "Epoch 32/40\n",
      "8000/8000 [==============================] - 2s 212us/step - loss: 0.1149 - acc: 0.9689 - val_loss: 1.5880 - val_acc: 0.6735\n",
      "Epoch 33/40\n",
      "8000/8000 [==============================] - 2s 197us/step - loss: 0.1116 - acc: 0.9702 - val_loss: 1.7396 - val_acc: 0.6742\n",
      "Epoch 34/40\n",
      "8000/8000 [==============================] - 2s 210us/step - loss: 0.1058 - acc: 0.9720 - val_loss: 1.7157 - val_acc: 0.6744\n",
      "Epoch 35/40\n",
      "8000/8000 [==============================] - 2s 198us/step - loss: 0.1111 - acc: 0.9705 - val_loss: 1.7361 - val_acc: 0.6793\n",
      "Epoch 36/40\n",
      "8000/8000 [==============================] - 2s 200us/step - loss: 0.1147 - acc: 0.9702 - val_loss: 1.6339 - val_acc: 0.6758\n",
      "Epoch 37/40\n",
      "8000/8000 [==============================] - 2s 204us/step - loss: 0.1078 - acc: 0.9721 - val_loss: 1.5917 - val_acc: 0.6725\n",
      "Epoch 38/40\n",
      "8000/8000 [==============================] - 2s 208us/step - loss: 0.1016 - acc: 0.9724 - val_loss: 1.5539 - val_acc: 0.6674\n",
      "Epoch 39/40\n",
      "8000/8000 [==============================] - 2s 216us/step - loss: 0.1006 - acc: 0.9726 - val_loss: 1.8785 - val_acc: 0.6755\n",
      "Epoch 40/40\n",
      "8000/8000 [==============================] - 2s 210us/step - loss: 0.1038 - acc: 0.9728 - val_loss: 2.0770 - val_acc: 0.6798\n"
     ]
    }
   ],
   "source": [
    "model.compile(optimizer='rmsprop',\n",
    "loss='binary_crossentropy',\n",
    "metrics=['acc'])\n",
    "history = model.fit(x_train, y_train,\n",
    "                    epochs=40,\n",
    "                    batch_size=32,\n",
    "                    validation_data=(x_val, y_val))\n",
    "\n",
    "model.save_weights('pre_trained_glove_model.h5')"
   ]
  },
  {
   "cell_type": "code",
   "execution_count": 12,
   "metadata": {},
   "outputs": [
    {
     "data": {
      "text/plain": [
       "<matplotlib.legend.Legend at 0x1cdcf4dffd0>"
      ]
     },
     "execution_count": 12,
     "metadata": {},
     "output_type": "execute_result"
    },
    {
     "data": {
      "image/png": "[encoded data removed]",
      "text/plain": [
       "<Figure size 432x288 with 1 Axes>"
      ]
     },
     "metadata": {
      "needs_background": "light"
     },
     "output_type": "display_data"
    },
    {
     "data": {
      "image/png": "[encoded data removed]",
      "text/plain": [
       "<Figure size 432x288 with 1 Axes>"
      ]
     },
     "metadata": {
      "needs_background": "light"
     },
     "output_type": "display_data"
    }
   ],
   "source": [
    "acc = history.history['acc']\n",
    "val_acc = history.history['val_acc']\n",
    "loss = history.history['loss']\n",
    "val_loss = history.history['val_loss']\n",
    "epochs = range(1, len(acc) + 1)\n",
    "plt.plot(epochs, acc, 'bo', label='Training acc')\n",
    "plt.plot(epochs, val_acc, 'b', label='Validation acc')\n",
    "plt.title('Training and validation accuracy')\n",
    "plt.legend()\n",
    "plt.figure()\n",
    "plt.plot(epochs, loss, 'bo', label='Training loss')\n",
    "plt.plot(epochs, val_loss, 'b', label='Validation loss')\n",
    "plt.title('Training and validation loss')\n",
    "plt.legend()"
   ]
  },
  {
   "cell_type": "code",
   "execution_count": 13,
   "metadata": {},
   "outputs": [],
   "source": [
    "test_dir = os.path.join(imdb_dir, 'test')\n",
    "labels = []\n",
    "texts = []\n",
    "for label_type in ['neg', 'pos']:\n",
    "    dir_name = os.path.join(test_dir, label_type)\n",
    "    for fname in sorted(os.listdir(dir_name)):\n",
    "        if fname[-4:] == '.txt':\n",
    "            f = open(os.path.join(dir_name, fname), encoding=\"utf-8\")\n",
    "            texts.append(f.read())\n",
    "            f.close()\n",
    "            if label_type == 'neg':\n",
    "                labels.append(0)\n",
    "            else:\n",
    "                labels.append(1)\n",
    "\n",
    "sequences = tokenizer.texts_to_sequences(texts)\n",
    "x_test = pad_sequences(sequences, maxlen=maxlen)\n",
    "y_test = np.asarray(labels)"
   ]
  },
  {
   "cell_type": "code",
   "execution_count": 14,
   "metadata": {},
   "outputs": [
    {
     "name": "stdout",
     "output_type": "stream",
     "text": [
      "25000/25000 [==============================] - 1s 57us/step\n"
     ]
    },
    {
     "data": {
      "text/plain": [
       "[2.0822104966545103, 0.67744]"
      ]
     },
     "execution_count": 14,
     "metadata": {},
     "output_type": "execute_result"
    }
   ],
   "source": [
    "model.load_weights('pre_trained_glove_model.h5')\n",
    "model.evaluate(x_test, y_test)"
   ]
  },
  {
   "cell_type": "code",
   "execution_count": null,
   "metadata": {},
   "outputs": [],
   "source": []
  }
 ],
 "metadata": {
  "kernelspec": {
   "display_name": "Python 3",
   "language": "python",
   "name": "python3"
  },
  "language_info": {
   "codemirror_mode": {
    "name": "ipython",
    "version": 3
   },
   "file_extension": ".py",
   "mimetype": "text/x-python",
   "name": "python",
   "nbconvert_exporter": "python",
   "pygments_lexer": "ipython3",
   "version": "3.6.8"
  },
  "varInspector": {
   "cols": {
    "lenName": 16,
    "lenType": 16,
    "lenVar": 40
   },
   "kernels_config": {
    "python": {
     "delete_cmd_postfix": "",
     "delete_cmd_prefix": "del ",
     "library": "var_list.py",
     "varRefreshCmd": "print(var_dic_list())"
    },
    "r": {
     "delete_cmd_postfix": ") ",
     "delete_cmd_prefix": "rm(",
     "library": "var_list.r",
     "varRefreshCmd": "cat(var_dic_list()) "
    }
   },
   "types_to_exclude": [
    "module",
    "function",
    "builtin_function_or_method",
    "instance",
    "_Feature"
   ],
   "window_display": false
  }
 },
 "nbformat": 4,
 "nbformat_minor": 2
}
